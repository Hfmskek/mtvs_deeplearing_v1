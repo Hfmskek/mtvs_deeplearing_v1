{
 "cells": [
  {
   "cell_type": "code",
   "execution_count": 1,
   "metadata": {},
   "outputs": [],
   "source": [
    "import torch\n",
    "from torch.utils.data.dataset import Dataset\n",
    "import torch.nn as nn"
   ]
  },
  {
   "cell_type": "code",
   "execution_count": 2,
   "metadata": {},
   "outputs": [],
   "source": [
    "class UNet(nn.Module):\n",
    "    def __init__(self):\n",
    "        super(UNet, self).__init__()\n",
    "        # 인코더 부분 - 첫번째 블록\n",
    "        # 입력 채널 3, 출력 채널 64\n",
    "        self.enc1_1 = nn.Conv2d(3, 64, kernel_size=3, padding=1)\n",
    "        self.enc1_2 = nn.Conv2d(64, 64, kernel_size=3, padding=1)\n",
    "        self.pool1 = nn.MaxPool2d(kernel_size=2, stride=2) # 2x2 사이즈의 윈도우로 다운샘플링\n",
    "\n",
    "        # 두번째 블록\n",
    "        self.enc2_1 = nn.Conv2d(64, 128, kernel_size=3, padding=1)\n",
    "        self.enc2_2 = nn.Conv2d(128, 128, kernel_size=3, padding=1)\n",
    "        self.pool2 = nn.MaxPool2d(kernel_size=2, stride=2) # 2x2 사이즈의 윈도우로 다운샘플링\n",
    "\n",
    "        # 세번째 블록\n",
    "        self.enc3_1 = nn.Conv2d(128, 256, kernel_size=3, padding=1)\n",
    "        self.enc3_2 = nn.Conv2d(256, 256, kernel_size=3, padding=1)\n",
    "        self.pool3 = nn.MaxPool2d(kernel_size=2, stride=2) # 2x2 사이즈의 윈도우로 다운샘플링\n",
    "\n",
    "        # 네번째 블록\n",
    "        self.enc4_1 = nn.Conv2d(256, 512, kernel_size=3, padding=1)\n",
    "        self.enc4_2 = nn.Conv2d(512, 512, kernel_size=3, padding=1)\n",
    "        self.pool4 = nn.MaxPool2d(kernel_size=2, stride=2) # 2x2 사이즈의 윈도우로 다운샘플링\n",
    "\n",
    "        # 다섯번째 블록\n",
    "        self.enc5_1 = nn.Conv2d(512, 1024, kernel_size=3, padding=1)\n",
    "        self.enc5_2 = nn.Conv2d(1024, 512, kernel_size=3, padding=1)\n",
    "\n",
    "        ## 디코더 부분\n",
    "        # 네번째 디코더 블록\n",
    "        self.upsample4 = nn.ConvTranspose2d(512, 512, 2, stride=2)\n",
    "        self.dec4_1 = nn.Conv2d(1024, 512, kernel_size=3, padding=1)\n",
    "        self.dec4_2 = nn.Conv2d(512, 256, kernel_size=3, padding=1)\n",
    "\n",
    "        # 세번째 디코더 블록\n",
    "        self.upsample3 = nn.ConvTranspose2d(256, 256, 2, stride=2)\n",
    "        self.dec3_1 = nn.Conv2d(512, 256, kernel_size=3, padding=1)\n",
    "        self.dec3_2 = nn.Conv2d(256, 128, kernel_size=3, padding=1)\n",
    "\n",
    "        # 두번째 디코더 블록\n",
    "        self.upsample2 = nn.ConvTranspose2d(128, 128, 2, stride=2)\n",
    "        self.dec2_1 = nn.Conv2d(256, 128, kernel_size=3, padding=1)\n",
    "        self.dec2_2 = nn.Conv2d(128, 64, kernel_size=3, padding=1)\n",
    "\n",
    "        # 첫번째 디코더 블록\n",
    "        self.upsample1 = nn.ConvTranspose2d(64, 64, 2, stride=2)\n",
    "        self.dec1_1 = nn.Conv2d(128, 64, kernel_size=3, padding=1)\n",
    "        self.dec1_2 = nn.Conv2d(64, 64, kernel_size=3, padding=1)\n",
    "        self.dec1_2 = nn.Conv2d(64, 1, kernel_size=3, padding=1)\n",
    "\n",
    "        self.relu = nn.ReLU() # 활성화 함수\n",
    "\n",
    "    def forward(self, x):\n",
    "\n",
    "        # 인코더의 첫번째 블록 연결\n",
    "        x = self.enc1_1(x)\n",
    "        x = self.relu(x)\n",
    "        e1 = self.enc1_2(x)\n",
    "        e1 = self.relu(e1)\n",
    "        x = self.pool1(e1)"
   ]
  }
 ],
 "metadata": {
  "kernelspec": {
   "display_name": "gumi_env310",
   "language": "python",
   "name": "python3"
  },
  "language_info": {
   "codemirror_mode": {
    "name": "ipython",
    "version": 3
   },
   "file_extension": ".py",
   "mimetype": "text/x-python",
   "name": "python",
   "nbconvert_exporter": "python",
   "pygments_lexer": "ipython3",
   "version": "3.10.14"
  }
 },
 "nbformat": 4,
 "nbformat_minor": 2
}
