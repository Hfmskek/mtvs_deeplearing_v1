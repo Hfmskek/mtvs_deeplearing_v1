{
 "cells": [
  {
   "cell_type": "code",
   "execution_count": 1,
   "metadata": {},
   "outputs": [],
   "source": [
    "import requests\n",
    "import tarfile\n",
    "import os\n",
    "\n",
    "url = \"https://www.robots.ox.ac.uk/~vgg/data/pets/data/images.tar.gz\""
   ]
  },
  {
   "cell_type": "code",
   "execution_count": 2,
   "metadata": {},
   "outputs": [
    {
     "name": "stdout",
     "output_type": "stream",
     "text": [
      "다운로드 완료\n"
     ]
    }
   ],
   "source": [
    "# 저장할 파일 이름\n",
    "local_filename = \"images.tar.gz\"\n",
    "\n",
    "responses = requests.get(url=url, stream=True)\n",
    "\n",
    "with open(local_filename, 'wb') as file:\n",
    "    for chunk in responses.iter_content(chunk_size=8192):\n",
    "        if chunk:\n",
    "            file.write(chunk)\n",
    "print(\"다운로드 완료\")"
   ]
  },
  {
   "cell_type": "code",
   "execution_count": 3,
   "metadata": {},
   "outputs": [
    {
     "name": "stdout",
     "output_type": "stream",
     "text": [
      "압축 해제 완료\n",
      "압축파일 삭제 완료 images.tar.gz\n"
     ]
    }
   ],
   "source": [
    "# 다운로드 완료\n",
    "with tarfile.open(local_filename, \"r:gz\") as tar:\n",
    "    tar.extractall() # 현재 디렉토리에 압축 해제\n",
    "print(\"압축 해제 완료\")\n",
    "\n",
    "# 본래 파일을 삭제\n",
    "os.remove(local_filename)\n",
    "print('압축파일 삭제 완료', local_filename)"
   ]
  }
 ],
 "metadata": {
  "kernelspec": {
   "display_name": "gumi_env310",
   "language": "python",
   "name": "python3"
  },
  "language_info": {
   "codemirror_mode": {
    "name": "ipython",
    "version": 3
   },
   "file_extension": ".py",
   "mimetype": "text/x-python",
   "name": "python",
   "nbconvert_exporter": "python",
   "pygments_lexer": "ipython3",
   "version": "3.10.14"
  }
 },
 "nbformat": 4,
 "nbformat_minor": 2
}
