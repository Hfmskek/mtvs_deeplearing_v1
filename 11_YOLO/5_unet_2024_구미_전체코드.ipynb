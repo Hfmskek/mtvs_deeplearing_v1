{
  "cells": [
    {
      "cell_type": "code",
      "execution_count": 1,
      "metadata": {},
      "outputs": [
        {
          "name": "stdout",
          "output_type": "stream",
          "text": [
            "파일 다운로드 중...\n",
            "파일 다운로드 완료: images.tar.gz\n",
            "압축 해제 중...\n",
            "압축 해제 완료\n",
            "압축 파일 삭제 완료: images.tar.gz\n"
          ]
        }
      ],
      "source": [
        "import requests\n",
        "import tarfile\n",
        "import os\n",
        "\n",
        "# 다운로드할 파일의 URL\n",
        "url = \"https://www.robots.ox.ac.uk/~vgg/data/pets/data/images.tar.gz\"\n",
        "\n",
        "# 파일을 저장할 로컬 파일 이름\n",
        "local_filename = \"images.tar.gz\"\n",
        "\n",
        "# 파일 다운로드\n",
        "print(\"파일 다운로드 중...\")\n",
        "response = requests.get(url, stream=True)\n",
        "with open(local_filename, 'wb') as f:\n",
        "    for chunk in response.iter_content(chunk_size=8192):\n",
        "        if chunk:\n",
        "            f.write(chunk)\n",
        "print(\"파일 다운로드 완료:\", local_filename)\n",
        "\n",
        "# 압축 해제\n",
        "print(\"압축 해제 중...\")\n",
        "with tarfile.open(local_filename, \"r:gz\") as tar:\n",
        "    tar.extractall()  # 현재 디렉토리에 압축 해제\n",
        "print(\"압축 해제 완료\")\n",
        "\n",
        "# 압축 파일 삭제 (선택 사항)\n",
        "os.remove(local_filename)\n",
        "print(\"압축 파일 삭제 완료:\", local_filename)"
      ]
    },
    {
      "cell_type": "code",
      "execution_count": 2,
      "metadata": {
        "colab": {
          "base_uri": "https://localhost:8080/"
        },
        "id": "-XWvYvsHnKvl",
        "outputId": "d2eefb41-3dd3-4db4-bf03-a271c879561f"
      },
      "outputs": [
        {
          "name": "stderr",
          "output_type": "stream",
          "text": [
            "Cloning into 'dataset-iiit-pet'...\n",
            "Updating files:   8% (1559/18477)\n",
            "Updating files:   9% (1663/18477)\n",
            "Updating files:  10% (1848/18477)\n",
            "Updating files:  11% (2033/18477)\n",
            "Updating files:  12% (2218/18477)\n",
            "Updating files:  13% (2403/18477)\n",
            "Updating files:  14% (2587/18477)\n",
            "Updating files:  15% (2772/18477)\n",
            "Updating files:  15% (2922/18477)\n",
            "Updating files:  16% (2957/18477)\n",
            "Updating files:  17% (3142/18477)\n",
            "Updating files:  18% (3326/18477)\n",
            "Updating files:  19% (3511/18477)\n",
            "Updating files:  20% (3696/18477)\n",
            "Updating files:  21% (3881/18477)\n",
            "Updating files:  22% (4065/18477)\n",
            "Updating files:  23% (4250/18477)\n",
            "Updating files:  23% (4394/18477)\n",
            "Updating files:  24% (4435/18477)\n",
            "Updating files:  25% (4620/18477)\n",
            "Updating files:  26% (4805/18477)\n",
            "Updating files:  27% (4989/18477)\n",
            "Updating files:  28% (5174/18477)\n",
            "Updating files:  29% (5359/18477)\n",
            "Updating files:  30% (5544/18477)\n",
            "Updating files:  31% (5728/18477)\n",
            "Updating files:  31% (5846/18477)\n",
            "Updating files:  32% (5913/18477)\n",
            "Updating files:  33% (6098/18477)\n",
            "Updating files:  34% (6283/18477)\n",
            "Updating files:  35% (6467/18477)\n",
            "Updating files:  36% (6652/18477)\n",
            "Updating files:  37% (6837/18477)\n",
            "Updating files:  38% (7022/18477)\n",
            "Updating files:  39% (7207/18477)\n",
            "Updating files:  39% (7257/18477)\n",
            "Updating files:  40% (7391/18477)\n",
            "Updating files:  41% (7576/18477)\n",
            "Updating files:  42% (7761/18477)\n",
            "Updating files:  43% (7946/18477)\n",
            "Updating files:  44% (8130/18477)\n",
            "Updating files:  45% (8315/18477)\n",
            "Updating files:  46% (8500/18477)\n",
            "Updating files:  47% (8685/18477)\n",
            "Updating files:  48% (8869/18477)\n",
            "Updating files:  48% (8934/18477)\n",
            "Updating files:  49% (9054/18477)\n",
            "Updating files:  50% (9239/18477)\n",
            "Updating files:  51% (9424/18477)\n",
            "Updating files:  52% (9609/18477)\n",
            "Updating files:  53% (9793/18477)\n",
            "Updating files:  54% (9978/18477)\n",
            "Updating files:  55% (10163/18477)\n",
            "Updating files:  56% (10348/18477)\n",
            "Updating files:  56% (10480/18477)\n",
            "Updating files:  57% (10532/18477)\n",
            "Updating files:  58% (10717/18477)\n",
            "Updating files:  59% (10902/18477)\n",
            "Updating files:  60% (11087/18477)\n",
            "Updating files:  61% (11271/18477)\n",
            "Updating files:  62% (11456/18477)\n",
            "Updating files:  62% (11566/18477)\n",
            "Updating files:  63% (11641/18477)\n",
            "Updating files:  64% (11826/18477)\n",
            "Updating files:  65% (12011/18477)\n",
            "Updating files:  66% (12195/18477)\n",
            "Updating files:  66% (12379/18477)\n",
            "Updating files:  67% (12380/18477)\n",
            "Updating files:  68% (12565/18477)\n",
            "Updating files:  69% (12750/18477)\n",
            "Updating files:  70% (12934/18477)\n",
            "Updating files:  71% (13119/18477)\n",
            "Updating files:  71% (13144/18477)\n",
            "Updating files:  72% (13304/18477)\n",
            "Updating files:  73% (13489/18477)\n",
            "Updating files:  74% (13673/18477)\n",
            "Updating files:  75% (13858/18477)\n",
            "Updating files:  75% (13938/18477)\n",
            "Updating files:  76% (14043/18477)\n",
            "Updating files:  77% (14228/18477)\n",
            "Updating files:  78% (14413/18477)\n",
            "Updating files:  79% (14597/18477)\n",
            "Updating files:  79% (14654/18477)\n",
            "Updating files:  80% (14782/18477)\n",
            "Updating files:  81% (14967/18477)\n",
            "Updating files:  82% (15152/18477)\n",
            "Updating files:  83% (15336/18477)\n",
            "Updating files:  83% (15369/18477)\n",
            "Updating files:  84% (15521/18477)\n",
            "Updating files:  85% (15706/18477)\n",
            "Updating files:  86% (15891/18477)\n",
            "Updating files:  87% (16075/18477)\n",
            "Updating files:  87% (16121/18477)\n",
            "Updating files:  88% (16260/18477)\n",
            "Updating files:  89% (16445/18477)\n",
            "Updating files:  90% (16630/18477)\n",
            "Updating files:  90% (16717/18477)\n",
            "Updating files:  91% (16815/18477)\n",
            "Updating files:  92% (16999/18477)\n",
            "Updating files:  93% (17184/18477)\n",
            "Updating files:  94% (17369/18477)\n",
            "Updating files:  94% (17395/18477)\n",
            "Updating files:  95% (17554/18477)\n",
            "Updating files:  96% (17738/18477)\n",
            "Updating files:  97% (17923/18477)\n",
            "Updating files:  98% (18108/18477)\n",
            "Updating files:  98% (18213/18477)\n",
            "Updating files:  99% (18293/18477)\n",
            "Updating files: 100% (18477/18477)\n",
            "Updating files: 100% (18477/18477), done.\n"
          ]
        }
      ],
      "source": [
        "!git clone https://github.com/ml4py/dataset-iiit-pet"
      ]
    },
    {
      "cell_type": "code",
      "execution_count": 3,
      "metadata": {
        "id": "jI_7p0ICnwph"
      },
      "outputs": [],
      "source": [
        "import glob\n",
        "import matplotlib.pyplot as plt\n",
        "from PIL import Image\n",
        "import cv2\n",
        "\n",
        "images = sorted(glob.glob('./dataset-iiit-pet/images/*.jpg'))\n",
        "\n",
        "for temp in images:\n",
        "    result = cv2.imread(temp,cv2.IMREAD_COLOR)\n",
        "    cv2.imwrite(temp,result)\n",
        "\n",
        "    if result.shape[2] == 4: #png확인\n",
        "        print(temp)"
      ]
    },
    {
      "cell_type": "code",
      "execution_count": 4,
      "metadata": {
        "colab": {
          "base_uri": "https://localhost:8080/",
          "height": 414
        },
        "id": "4D90TrYKouPE",
        "outputId": "0751b6ce-e670-43f0-eb27-195d9848fa96"
      },
      "outputs": [
        {
          "data": {
            "text/plain": [
              "<matplotlib.image.AxesImage at 0x25970228730>"
            ]
          },
          "execution_count": 4,
          "metadata": {},
          "output_type": "execute_result"
        },
        {
          "data": {
            "image/png": "[encoded data removed]",
            "text/plain": [
              "<Figure size 640x480 with 1 Axes>"
            ]
          },
          "metadata": {},
          "output_type": "display_data"
        }
      ],
      "source": [
        "annotation = Image.open('./dataset-iiit-pet/annotations/trimaps/Abyssinian_1.png')\n",
        "plt.imshow(annotation)"
      ]
    },
    {
      "cell_type": "code",
      "execution_count": 5,
      "metadata": {
        "colab": {
          "base_uri": "https://localhost:8080/",
          "height": 414
        },
        "id": "FWYhGOVop2U2",
        "outputId": "2878c70c-edc4-4cb2-c694-4ae841e17f2c"
      },
      "outputs": [
        {
          "data": {
            "text/plain": [
              "<matplotlib.image.AxesImage at 0x2597351d1b0>"
            ]
          },
          "execution_count": 5,
          "metadata": {},
          "output_type": "execute_result"
        },
        {
          "data": {
            "image/png": "[encoded data removed]",
            "text/plain": [
              "<Figure size 640x480 with 1 Axes>"
            ]
          },
          "metadata": {},
          "output_type": "display_data"
        }
      ],
      "source": [
        "import numpy as np\n",
        "\n",
        "mask = np.array(annotation).astype(np.float32)\n",
        "mask[mask != 2.0] = 1.0\n",
        "mask[mask == 2.0] = 0.0\n",
        "plt.imshow(mask)"
      ]
    },
    {
      "cell_type": "code",
      "execution_count": 6,
      "metadata": {
        "id": "huSsF05Xp_cp"
      },
      "outputs": [],
      "source": [
        "import torch\n",
        "from torch.utils.data.dataset import Dataset\n",
        "import torch.nn as nn"
      ]
    },
    {
      "cell_type": "code",
      "execution_count": 7,
      "metadata": {
        "id": "RfZI_9h5rAD2"
      },
      "outputs": [],
      "source": [
        "class Pet(Dataset):\n",
        "    def __init__(self, path_to_img, path_to_anno, train=True, transforms=None, input_size=(128,128)):\n",
        "        #파일을 불러와서 학습과 평가용으로 분리\n",
        "        self.images = sorted(glob.glob('./dataset-iiit-pet/images/*.jpg'))\n",
        "        self.annotations = sorted(glob.glob('./dataset-iiit-pet/annotations/trimaps/*.png'))\n",
        "\n",
        "        self.X_train = self.images[:int(0.8 * len(self.images))]\n",
        "        self.X_test = self.images[int(0.8 * len(self.images)) : ]\n",
        "        self.y_train = self.annotations[:int(0.8 * len(self.annotations))]\n",
        "        self.y_test = self.annotations[int(0.8 * len(self.annotations)) : ]\n",
        "\n",
        "        self.train = train\n",
        "        self.transforms = transforms\n",
        "        self.input_size = input_size\n",
        "\n",
        "    def __len__(self):\n",
        "        if self.train:\n",
        "            return len(self.X_train)\n",
        "        else:\n",
        "            return len(self.X_test)\n",
        "\n",
        "    def preprocess_mask(self,mask):\n",
        "        mask = mask.resize(self.input_size)\n",
        "        mask = np.array(mask).astype(np.float32)\n",
        "        mask[mask != 2.0] = 1.0\n",
        "        mask[mask==2.0] = 0.0\n",
        "        mask = torch.tensor(mask)\n",
        "        return mask\n",
        "\n",
        "    def __getitem__(self,i):\n",
        "        if self.train:\n",
        "            X_train = Image.open(self.X_train[i])\n",
        "            X_train = self.transforms(X_train)\n",
        "            y_train = Image.open(self.y_train[i])\n",
        "            y_train = self.preprocess_mask(y_train)\n",
        "\n",
        "            return X_train,y_train\n",
        "\n",
        "        else:\n",
        "            X_test = Image.open(self.X_test[i])\n",
        "            X_test = self.transforms(X_test)\n",
        "            y_test = Image.open(self.y_test[i])\n",
        "            y_test = self.preprocess_mask(y_test)\n",
        "\n",
        "            return X_test,y_test\n"
      ]
    },
    {
      "cell_type": "code",
      "execution_count": 8,
      "metadata": {
        "id": "-UoLtK3FyVQV"
      },
      "outputs": [],
      "source": [
        "import torch\n",
        "import torch.nn as nn\n",
        "\n",
        "class UNet(nn.Module):\n",
        "    def __init__(self):\n",
        "        super(UNet, self).__init__()\n",
        "\n",
        "        # 인코더(Encoder) 부분\n",
        "        # 첫 번째 인코딩 블록: 입력 채널 3 (RGB 이미지), 출력 채널 64\n",
        "        self.enc1_1 = nn.Conv2d(3, 64, kernel_size=3, padding=1)\n",
        "        self.enc1_2 = nn.Conv2d(64, 64, kernel_size=3, padding=1)\n",
        "        self.pool1 = nn.MaxPool2d(kernel_size=2, stride=2)  # 풀링 레이어: 2x2 크기의 윈도우로 다운샘플링\n",
        "\n",
        "        # 두 번째 인코딩 블록: 출력 채널 128\n",
        "        self.enc2_1 = nn.Conv2d(64, 128, kernel_size=3, padding=1)\n",
        "        self.enc2_2 = nn.Conv2d(128, 128, kernel_size=3, padding=1)\n",
        "        self.pool2 = nn.MaxPool2d(kernel_size=2, stride=2)\n",
        "\n",
        "        # 세 번째 인코딩 블록: 출력 채널 256\n",
        "        self.enc3_1 = nn.Conv2d(128, 256, kernel_size=3, padding=1)\n",
        "        self.enc3_2 = nn.Conv2d(256, 256, kernel_size=3, padding=1)\n",
        "        self.pool3 = nn.MaxPool2d(kernel_size=2, stride=2)\n",
        "\n",
        "        # 네 번째 인코딩 블록: 출력 채널 512\n",
        "        self.enc4_1 = nn.Conv2d(256, 512, kernel_size=3, padding=1)\n",
        "        self.enc4_2 = nn.Conv2d(512, 512, kernel_size=3, padding=1)\n",
        "        self.pool4 = nn.MaxPool2d(kernel_size=2, stride=2)\n",
        "\n",
        "        # 다섯 번째 인코딩 블록(병목층): 출력 채널 1024에서 다시 512로 줄임\n",
        "        self.enc5_1 = nn.Conv2d(512, 1024, kernel_size=3, padding=1)\n",
        "        self.enc5_2 = nn.Conv2d(1024, 512, kernel_size=3, padding=1)\n",
        "\n",
        "        # 디코더(Decoder) 부분\n",
        "        # 네 번째 업샘플링 블록: 업샘플링 후 1024 채널로 연결\n",
        "        self.upsample4 = nn.ConvTranspose2d(512, 512, 2, stride=2)\n",
        "        self.dec4_1 = nn.Conv2d(1024, 512, kernel_size=3, padding=1)\n",
        "        self.dec4_2 = nn.Conv2d(512, 256, kernel_size=3, padding=1)\n",
        "\n",
        "        # 세 번째 업샘플링 블록: 업샘플링 후 512 채널로 연결\n",
        "        self.upsample3 = nn.ConvTranspose2d(256, 256, 2, stride=2)\n",
        "        self.dec3_1 = nn.Conv2d(512, 256, kernel_size=3, padding=1)\n",
        "        self.dec3_2 = nn.Conv2d(256, 128, kernel_size=3, padding=1)\n",
        "\n",
        "        # 두 번째 업샘플링 블록: 업샘플링 후 256 채널로 연결\n",
        "        self.upsample2 = nn.ConvTranspose2d(128, 128, 2, stride=2)\n",
        "        self.dec2_1 = nn.Conv2d(256, 128, kernel_size=3, padding=1)\n",
        "        self.dec2_2 = nn.Conv2d(128, 64, kernel_size=3, padding=1)\n",
        "\n",
        "        # 첫 번째 업샘플링 블록: 업샘플링 후 128 채널로 연결\n",
        "        self.upsample1 = nn.ConvTranspose2d(64, 64, 2, stride=2)\n",
        "        self.dec1_1 = nn.Conv2d(128, 64, kernel_size=3, padding=1)\n",
        "        self.dec1_2 = nn.Conv2d(64, 64, kernel_size=3, padding=1)\n",
        "        self.dec1_3 = nn.Conv2d(64, 1, kernel_size=3, padding=1)  # 최종 출력 채널: 1 (그레이스케일 마스크)\n",
        "\n",
        "        self.relu = nn.ReLU()  # ReLU 활성화 함수 정의\n",
        "\n",
        "    def forward(self, x):\n",
        "        # 인코더(Encoder) 부분\n",
        "        x = self.enc1_1(x)\n",
        "        x = self.relu(x)\n",
        "        e1 = self.enc1_2(x)\n",
        "        e1 = self.relu(e1)\n",
        "        x = self.pool1(e1)  # 첫 번째 풀링\n",
        "\n",
        "        x = self.enc2_1(x)\n",
        "        x = self.relu(x)\n",
        "        e2 = self.enc2_2(x)\n",
        "        e2 = self.relu(e2)\n",
        "        x = self.pool2(e2)  # 두 번째 풀링\n",
        "\n",
        "        x = self.enc3_1(x)\n",
        "        x = self.relu(x)\n",
        "        e3 = self.enc3_2(x)\n",
        "        e3 = self.relu(e3)\n",
        "        x = self.pool3(e3)  # 세 번째 풀링\n",
        "\n",
        "        x = self.enc4_1(x)\n",
        "        x = self.relu(x)\n",
        "        e4 = self.enc4_2(x)\n",
        "        e4 = self.relu(e4)\n",
        "        x = self.pool4(e4)  # 네 번째 풀링\n",
        "\n",
        "        x = self.enc5_1(x)\n",
        "        x = self.relu(x)\n",
        "        x = self.enc5_2(x)\n",
        "        x = self.relu(x)\n",
        "\n",
        "        # 디코더(Decoder) 부분\n",
        "        x = self.upsample4(x)  # 네 번째 업샘플링\n",
        "        x = torch.cat([x, e4], dim=1)  # 스킵 연결 (네 번째 인코딩 출력과 연결)\n",
        "        x = self.dec4_1(x)\n",
        "        x = self.relu(x)\n",
        "        x = self.dec4_2(x)\n",
        "        x = self.relu(x)\n",
        "\n",
        "        x = self.upsample3(x)  # 세 번째 업샘플링\n",
        "        x = torch.cat([x, e3], dim=1)  # 스킵 연결 (세 번째 인코딩 출력과 연결)\n",
        "        x = self.dec3_1(x)\n",
        "        x = self.relu(x)\n",
        "        x = self.dec3_2(x)\n",
        "        x = self.relu(x)\n",
        "\n",
        "        x = self.upsample2(x)  # 두 번째 업샘플링\n",
        "        x = torch.cat([x, e2], dim=1)  # 스킵 연결 (두 번째 인코딩 출력과 연결)\n",
        "        x = self.dec2_1(x)\n",
        "        x = self.relu(x)\n",
        "        x = self.dec2_2(x)\n",
        "        x = self.relu(x)\n",
        "\n",
        "        x = self.upsample1(x)  # 첫 번째 업샘플링\n",
        "        x = torch.cat([x, e1], dim=1)  # 스킵 연결 (첫 번째 인코딩 출력과 연결)\n",
        "        x = self.dec1_1(x)\n",
        "        x = self.relu(x)\n",
        "        x = self.dec1_2(x)\n",
        "        x = self.relu(x)\n",
        "        x = self.dec1_3(x)  # 최종 출력층 (마스크 출력)\n",
        "\n",
        "        x = torch.squeeze(x)  # 차원 축소\n",
        "\n",
        "        return x  # 최종 출력 (세그멘테이션 마스크)"
      ]
    },
    {
      "cell_type": "code",
      "execution_count": 9,
      "metadata": {
        "id": "ujMimNGW2h5i"
      },
      "outputs": [],
      "source": [
        "import tqdm\n",
        "from torchvision.transforms import Compose\n",
        "from torchvision.transforms import ToTensor,Resize\n",
        "from torch.optim.adam import Adam\n",
        "from torch.utils.data.dataloader import DataLoader"
      ]
    },
    {
      "cell_type": "code",
      "execution_count": 10,
      "metadata": {
        "colab": {
          "base_uri": "https://localhost:8080/"
        },
        "id": "Rz4f7Pkc5Xbn",
        "outputId": "d049efa3-6f76-4777-9ea8-2f1ab4485edd"
      },
      "outputs": [
        {
          "name": "stdout",
          "output_type": "stream",
          "text": [
            "cuda\n"
          ]
        }
      ],
      "source": [
        "device = 'cuda' if torch.cuda.is_available() else 'cpu'\n",
        "\n",
        "print(device)"
      ]
    },
    {
      "cell_type": "code",
      "execution_count": 11,
      "metadata": {
        "colab": {
          "base_uri": "https://localhost:8080/"
        },
        "id": "j_ecMUFQ6He4",
        "outputId": "a02818b5-2b58-4895-9100-f6bc84600cec"
      },
      "outputs": [
        {
          "name": "stdout",
          "output_type": "stream",
          "text": [
            "5912\n",
            "1478\n"
          ]
        }
      ],
      "source": [
        "transform = Compose([\n",
        "    Resize((128,128)),\n",
        "    ToTensor()\n",
        "])\n",
        "\n",
        "train_set = Pet(path_to_img='./dataset-iiit-pet/images',path_to_anno='./dataset-iiit-pet/annotations/trimaps',transforms=transform,train=True)\n",
        "test_set = Pet(path_to_img='./dataset-iiit-pet/images',path_to_anno='./dataset-iiit-pet/annotations/trimaps',transforms=transform,train=False)\n",
        "\n",
        "print(len(train_set))\n",
        "print(len(test_set))"
      ]
    },
    {
      "cell_type": "code",
      "execution_count": 12,
      "metadata": {
        "id": "I7V4I57V7B5h"
      },
      "outputs": [],
      "source": [
        "train_loader = DataLoader(train_set,batch_size=32,shuffle=True)\n",
        "test_loader = DataLoader(test_set)\n",
        "\n",
        "model = UNet().to(device)\n",
        "\n",
        "learning_rate = 0.0001\n",
        "\n",
        "optim = Adam(params=model.parameters() , lr=learning_rate)"
      ]
    },
    {
      "cell_type": "code",
      "execution_count": 13,
      "metadata": {
        "colab": {
          "base_uri": "https://localhost:8080/",
          "height": 361
        },
        "id": "lRirIUKS7xZa",
        "outputId": "7e5d3821-4616-4a46-9cc5-d66c4a549632"
      },
      "outputs": [
        {
          "name": "stderr",
          "output_type": "stream",
          "text": [
            "epoch : 1 loss : 0.516584038734436: 100%|██████████| 185/185 [02:09<00:00,  1.43it/s]  \n",
            "epoch : 2 loss : 0.4425318241119385: 100%|██████████| 185/185 [01:12<00:00,  2.57it/s] \n",
            "epoch : 3 loss : 0.40791890025138855: 100%|██████████| 185/185 [01:13<00:00,  2.53it/s]\n",
            "epoch : 4 loss : 0.3277972936630249: 100%|██████████| 185/185 [01:13<00:00,  2.52it/s] \n",
            "epoch : 5 loss : 0.3130778670310974: 100%|██████████| 185/185 [01:12<00:00,  2.54it/s] \n",
            "epoch : 6 loss : 0.3872871398925781: 100%|██████████| 185/185 [01:13<00:00,  2.53it/s] \n",
            "epoch : 7 loss : 0.39058956503868103: 100%|██████████| 185/185 [01:13<00:00,  2.52it/s]\n",
            "epoch : 8 loss : 0.30325573682785034: 100%|██████████| 185/185 [01:12<00:00,  2.54it/s]\n",
            "epoch : 9 loss : 0.26647406816482544: 100%|██████████| 185/185 [01:13<00:00,  2.52it/s]\n",
            "epoch : 10 loss : 0.2623559236526489: 100%|██████████| 185/185 [01:13<00:00,  2.52it/s] \n",
            "epoch : 11 loss : 0.2843576669692993: 100%|██████████| 185/185 [01:13<00:00,  2.53it/s] \n",
            "epoch : 12 loss : 0.21584784984588623: 100%|██████████| 185/185 [01:13<00:00,  2.52it/s]\n",
            "epoch : 13 loss : 0.26079079508781433: 100%|██████████| 185/185 [01:13<00:00,  2.53it/s]\n",
            "epoch : 14 loss : 0.2692190110683441: 100%|██████████| 185/185 [01:13<00:00,  2.52it/s] \n",
            "epoch : 15 loss : 0.21958063542842865: 100%|██████████| 185/185 [01:13<00:00,  2.52it/s]\n",
            "epoch : 16 loss : 0.22486472129821777: 100%|██████████| 185/185 [01:13<00:00,  2.53it/s]\n",
            "epoch : 17 loss : 0.18363261222839355: 100%|██████████| 185/185 [01:13<00:00,  2.52it/s]\n",
            "epoch : 18 loss : 0.17732393741607666: 100%|██████████| 185/185 [01:13<00:00,  2.53it/s]\n",
            "epoch : 19 loss : 0.18923483788967133: 100%|██████████| 185/185 [01:12<00:00,  2.55it/s]\n",
            "epoch : 20 loss : 0.14096954464912415: 100%|██████████| 185/185 [01:13<00:00,  2.52it/s]\n",
            "epoch : 21 loss : 0.1782081574201584: 100%|██████████| 185/185 [01:13<00:00,  2.52it/s] \n",
            "epoch : 22 loss : 0.13227206468582153: 100%|██████████| 185/185 [01:12<00:00,  2.53it/s]\n",
            "epoch : 23 loss : 0.15362092852592468: 100%|██████████| 185/185 [01:13<00:00,  2.52it/s]\n",
            "epoch : 24 loss : 0.15833090245723724: 100%|██████████| 185/185 [01:13<00:00,  2.52it/s]\n",
            "epoch : 25 loss : 0.12918934226036072: 100%|██████████| 185/185 [01:12<00:00,  2.54it/s]\n",
            "epoch : 26 loss : 0.13751384615898132: 100%|██████████| 185/185 [01:13<00:00,  2.52it/s]\n",
            "epoch : 27 loss : 0.11893481016159058: 100%|██████████| 185/185 [01:13<00:00,  2.51it/s]\n",
            "epoch : 28 loss : 0.1177239716053009: 100%|██████████| 185/185 [01:13<00:00,  2.53it/s] \n",
            "epoch : 29 loss : 0.1063961610198021: 100%|██████████| 185/185 [01:13<00:00,  2.53it/s] \n",
            "epoch : 30 loss : 0.12758907675743103: 100%|██████████| 185/185 [01:13<00:00,  2.52it/s]\n",
            "epoch : 31 loss : 0.11876772344112396: 100%|██████████| 185/185 [01:13<00:00,  2.52it/s]\n",
            "epoch : 32 loss : 0.1031932383775711: 100%|██████████| 185/185 [01:13<00:00,  2.53it/s] \n",
            "epoch : 33 loss : 0.11491107940673828: 100%|██████████| 185/185 [01:12<00:00,  2.54it/s]\n",
            "epoch : 34 loss : 0.13197016716003418: 100%|██████████| 185/185 [01:13<00:00,  2.52it/s]\n",
            "epoch : 35 loss : 0.11829306185245514: 100%|██████████| 185/185 [01:13<00:00,  2.52it/s]\n",
            "epoch : 36 loss : 0.09577834606170654: 100%|██████████| 185/185 [01:13<00:00,  2.52it/s]\n",
            "epoch : 37 loss : 0.09274991601705551: 100%|██████████| 185/185 [01:12<00:00,  2.55it/s]\n",
            "epoch : 38 loss : 0.08692203462123871: 100%|██████████| 185/185 [01:13<00:00,  2.52it/s]\n",
            "epoch : 39 loss : 0.09497104585170746: 100%|██████████| 185/185 [01:13<00:00,  2.51it/s]\n",
            "epoch : 40 loss : 0.08594030141830444: 100%|██████████| 185/185 [01:12<00:00,  2.54it/s]\n",
            "epoch : 41 loss : 0.08614353835582733: 100%|██████████| 185/185 [01:13<00:00,  2.52it/s]\n",
            "epoch : 42 loss : 0.09093394130468369: 100%|██████████| 185/185 [01:14<00:00,  2.50it/s]\n",
            "epoch : 43 loss : 0.08611404895782471: 100%|██████████| 185/185 [01:13<00:00,  2.51it/s]\n",
            "epoch : 44 loss : 0.08329867571592331: 100%|██████████| 185/185 [01:12<00:00,  2.55it/s]\n",
            "epoch : 45 loss : 0.07558450102806091: 100%|██████████| 185/185 [01:13<00:00,  2.53it/s]\n",
            "epoch : 46 loss : 0.08179526031017303: 100%|██████████| 185/185 [01:13<00:00,  2.50it/s]\n",
            "epoch : 47 loss : 0.07634434103965759: 100%|██████████| 185/185 [01:13<00:00,  2.53it/s]\n",
            "epoch : 48 loss : 0.07121194899082184: 100%|██████████| 185/185 [01:13<00:00,  2.51it/s]\n",
            "epoch : 49 loss : 0.0730365514755249: 100%|██████████| 185/185 [01:13<00:00,  2.50it/s] \n",
            "epoch : 50 loss : 0.0694081112742424: 100%|██████████| 185/185 [01:12<00:00,  2.54it/s] \n",
            "epoch : 51 loss : 0.07009978592395782: 100%|██████████| 185/185 [01:13<00:00,  2.52it/s]\n",
            "epoch : 52 loss : 0.070440374314785: 100%|██████████| 185/185 [01:13<00:00,  2.52it/s]  \n",
            "epoch : 53 loss : 0.06676312536001205: 100%|██████████| 185/185 [01:12<00:00,  2.54it/s]\n",
            "epoch : 54 loss : 0.0690356194972992: 100%|██████████| 185/185 [01:12<00:00,  2.55it/s]  \n",
            "epoch : 55 loss : 0.06283792853355408: 100%|██████████| 185/185 [01:13<00:00,  2.51it/s] \n",
            "epoch : 56 loss : 0.0856490358710289: 100%|██████████| 185/185 [01:13<00:00,  2.52it/s]  \n",
            "epoch : 57 loss : 0.08825071156024933: 100%|██████████| 185/185 [01:13<00:00,  2.51it/s]\n",
            "epoch : 58 loss : 0.06287285685539246: 100%|██████████| 185/185 [01:13<00:00,  2.53it/s]\n",
            "epoch : 59 loss : 0.06446801871061325: 100%|██████████| 185/185 [01:13<00:00,  2.52it/s] \n",
            "epoch : 60 loss : 0.06566722691059113: 100%|██████████| 185/185 [01:12<00:00,  2.54it/s] \n",
            "epoch : 61 loss : 0.05907579883933067: 100%|██████████| 185/185 [01:13<00:00,  2.53it/s] \n",
            "epoch : 62 loss : 0.05912059545516968: 100%|██████████| 185/185 [01:12<00:00,  2.54it/s] \n",
            "epoch : 63 loss : 0.05299506336450577: 100%|██████████| 185/185 [01:13<00:00,  2.52it/s] \n",
            "epoch : 64 loss : 0.05947905406355858: 100%|██████████| 185/185 [01:13<00:00,  2.52it/s] \n",
            "epoch : 65 loss : 0.051235370337963104: 100%|██████████| 185/185 [01:13<00:00,  2.52it/s]\n",
            "epoch : 66 loss : 0.0608256570994854: 100%|██████████| 185/185 [01:13<00:00,  2.51it/s]  \n",
            "epoch : 67 loss : 0.05560053884983063: 100%|██████████| 185/185 [01:13<00:00,  2.53it/s] \n",
            "epoch : 68 loss : 0.0536818765103817: 100%|██████████| 185/185 [01:13<00:00,  2.51it/s]  \n",
            "epoch : 69 loss : 0.05651950091123581: 100%|██████████| 185/185 [01:13<00:00,  2.52it/s] \n",
            "epoch : 70 loss : 0.048669155687093735: 100%|██████████| 185/185 [01:13<00:00,  2.53it/s]\n",
            "epoch : 71 loss : 0.05633474513888359: 100%|██████████| 185/185 [01:13<00:00,  2.53it/s] \n",
            "epoch : 72 loss : 0.05199695751070976: 100%|██████████| 185/185 [01:13<00:00,  2.51it/s] \n",
            "epoch : 73 loss : 0.05430465191602707: 100%|██████████| 185/185 [01:13<00:00,  2.52it/s] \n",
            "epoch : 74 loss : 0.057523779571056366: 100%|██████████| 185/185 [01:12<00:00,  2.56it/s]\n",
            "epoch : 75 loss : 0.05331026762723923: 100%|██████████| 185/185 [01:13<00:00,  2.50it/s] \n",
            "epoch : 76 loss : 0.050865303725004196: 100%|██████████| 185/185 [01:12<00:00,  2.54it/s]\n",
            "epoch : 77 loss : 0.05531923100352287: 100%|██████████| 185/185 [01:13<00:00,  2.52it/s] \n",
            "epoch : 78 loss : 0.04498664662241936: 100%|██████████| 185/185 [01:13<00:00,  2.52it/s] \n",
            "epoch : 79 loss : 0.047077350318431854: 100%|██████████| 185/185 [01:13<00:00,  2.53it/s]\n",
            "epoch : 80 loss : 0.04657299071550369: 100%|██████████| 185/185 [01:13<00:00,  2.52it/s] \n",
            "epoch : 81 loss : 0.04467286914587021: 100%|██████████| 185/185 [01:12<00:00,  2.55it/s] \n",
            "epoch : 82 loss : 0.041930101811885834: 100%|██████████| 185/185 [01:13<00:00,  2.51it/s]\n",
            "epoch : 83 loss : 0.04442247375845909: 100%|██████████| 185/185 [01:13<00:00,  2.52it/s] \n",
            "epoch : 84 loss : 0.05039934441447258: 100%|██████████| 185/185 [01:12<00:00,  2.54it/s] \n",
            "epoch : 85 loss : 0.04126816242933273: 100%|██████████| 185/185 [01:12<00:00,  2.54it/s] \n",
            "epoch : 86 loss : 0.04418560117483139: 100%|██████████| 185/185 [01:13<00:00,  2.52it/s] \n",
            "epoch : 87 loss : 0.04592636227607727: 100%|██████████| 185/185 [01:13<00:00,  2.53it/s] \n",
            "epoch : 88 loss : 0.04288186877965927: 100%|██████████| 185/185 [01:13<00:00,  2.51it/s] \n",
            "epoch : 89 loss : 0.04802939295768738: 100%|██████████| 185/185 [01:12<00:00,  2.54it/s] \n",
            "epoch : 90 loss : 0.04261118918657303: 100%|██████████| 185/185 [01:13<00:00,  2.52it/s] \n",
            "epoch : 91 loss : 0.04356576129794121: 100%|██████████| 185/185 [01:13<00:00,  2.53it/s] \n",
            "epoch : 92 loss : 0.04082764312624931: 100%|██████████| 185/185 [01:13<00:00,  2.51it/s] \n",
            "epoch : 93 loss : 0.036043643951416016: 100%|██████████| 185/185 [01:12<00:00,  2.54it/s]\n",
            "epoch : 94 loss : 0.044006556272506714: 100%|██████████| 185/185 [01:13<00:00,  2.52it/s]\n",
            "epoch : 95 loss : 0.03753592073917389: 100%|██████████| 185/185 [01:13<00:00,  2.52it/s] \n",
            "epoch : 96 loss : 0.03682912513613701: 100%|██████████| 185/185 [01:13<00:00,  2.51it/s] \n",
            "epoch : 97 loss : 0.03903595358133316: 100%|██████████| 185/185 [01:13<00:00,  2.52it/s] \n",
            "epoch : 98 loss : 0.03985968232154846: 100%|██████████| 185/185 [01:12<00:00,  2.54it/s] \n",
            "epoch : 99 loss : 0.03941795229911804: 100%|██████████| 185/185 [01:13<00:00,  2.51it/s] \n",
            "epoch : 100 loss : 0.037131451070308685: 100%|██████████| 185/185 [01:12<00:00,  2.55it/s]\n",
            "epoch : 101 loss : 0.03803502768278122: 100%|██████████| 185/185 [01:13<00:00,  2.52it/s] \n",
            "epoch : 102 loss : 0.04305485635995865: 100%|██████████| 185/185 [01:13<00:00,  2.53it/s] \n",
            "epoch : 103 loss : 0.03882921114563942: 100%|██████████| 185/185 [01:13<00:00,  2.52it/s] \n",
            "epoch : 104 loss : 0.04130088910460472: 100%|██████████| 185/185 [01:13<00:00,  2.52it/s] \n",
            "epoch : 105 loss : 0.04664788767695427: 100%|██████████| 185/185 [01:13<00:00,  2.53it/s] \n",
            "epoch : 106 loss : 0.032308876514434814: 100%|██████████| 185/185 [01:12<00:00,  2.55it/s]\n",
            "epoch : 107 loss : 0.03948790952563286: 100%|██████████| 185/185 [01:13<00:00,  2.53it/s] \n",
            "epoch : 108 loss : 0.0365099273622036: 100%|██████████| 185/185 [01:13<00:00,  2.52it/s]  \n",
            "epoch : 109 loss : 0.03798177093267441: 100%|██████████| 185/185 [01:13<00:00,  2.51it/s] \n",
            "epoch : 110 loss : 0.032728277146816254: 100%|██████████| 185/185 [01:12<00:00,  2.54it/s]\n",
            "epoch : 111 loss : 0.03787670657038689: 100%|██████████| 185/185 [01:13<00:00,  2.50it/s] \n",
            "epoch : 112 loss : 0.03140327334403992: 100%|██████████| 185/185 [01:12<00:00,  2.54it/s] \n",
            "epoch : 113 loss : 0.035127803683280945: 100%|██████████| 185/185 [01:13<00:00,  2.52it/s]\n",
            "epoch : 114 loss : 0.035456374287605286: 100%|██████████| 185/185 [01:12<00:00,  2.54it/s]\n",
            "epoch : 115 loss : 0.03498055785894394: 100%|██████████| 185/185 [01:13<00:00,  2.51it/s] \n",
            "epoch : 116 loss : 0.03309280052781105: 100%|██████████| 185/185 [01:13<00:00,  2.53it/s] \n",
            "epoch : 117 loss : 0.028266221284866333: 100%|██████████| 185/185 [01:12<00:00,  2.54it/s]\n",
            "epoch : 118 loss : 0.03120039775967598: 100%|██████████| 185/185 [01:13<00:00,  2.51it/s] \n",
            "epoch : 119 loss : 0.029843240976333618: 100%|██████████| 185/185 [01:13<00:00,  2.52it/s]\n",
            "epoch : 120 loss : 0.032347723841667175: 100%|██████████| 185/185 [01:13<00:00,  2.52it/s]\n",
            "epoch : 121 loss : 0.03524863347411156: 100%|██████████| 185/185 [01:12<00:00,  2.54it/s] \n",
            "epoch : 122 loss : 0.049203258007764816: 100%|██████████| 185/185 [01:14<00:00,  2.50it/s]\n",
            "epoch : 123 loss : 0.03257580101490021: 100%|██████████| 185/185 [01:13<00:00,  2.53it/s] \n",
            "epoch : 124 loss : 0.0310809426009655: 100%|██████████| 185/185 [01:13<00:00,  2.53it/s]  \n",
            "epoch : 125 loss : 0.03741907700896263: 100%|██████████| 185/185 [01:13<00:00,  2.52it/s] \n",
            "epoch : 126 loss : 0.032385244965553284: 100%|██████████| 185/185 [01:12<00:00,  2.54it/s]\n",
            "epoch : 127 loss : 0.026933033019304276: 100%|██████████| 185/185 [01:13<00:00,  2.52it/s]\n",
            "epoch : 128 loss : 0.03252660483121872: 100%|██████████| 185/185 [01:12<00:00,  2.54it/s] \n",
            "epoch : 129 loss : 0.036205485463142395: 100%|██████████| 185/185 [01:13<00:00,  2.52it/s]\n",
            "epoch : 130 loss : 0.02656075358390808: 100%|██████████| 185/185 [01:12<00:00,  2.53it/s] \n",
            "epoch : 131 loss : 0.029455427080392838: 100%|██████████| 185/185 [01:13<00:00,  2.51it/s]\n",
            "epoch : 132 loss : 0.029197614639997482: 100%|██████████| 185/185 [01:12<00:00,  2.54it/s]\n",
            "epoch : 133 loss : 0.027511224150657654: 100%|██████████| 185/185 [01:13<00:00,  2.52it/s]\n",
            "epoch : 134 loss : 0.030543258413672447: 100%|██████████| 185/185 [01:12<00:00,  2.54it/s]\n",
            "epoch : 135 loss : 0.02755395881831646: 100%|██████████| 185/185 [01:12<00:00,  2.54it/s] \n",
            "epoch : 136 loss : 0.02597813680768013: 100%|██████████| 185/185 [01:13<00:00,  2.53it/s] \n",
            "epoch : 137 loss : 0.028289832174777985: 100%|██████████| 185/185 [01:12<00:00,  2.54it/s]\n",
            "epoch : 138 loss : 0.03477157652378082: 100%|██████████| 185/185 [01:13<00:00,  2.52it/s] \n",
            "epoch : 139 loss : 0.025355026125907898: 100%|██████████| 185/185 [01:12<00:00,  2.55it/s]\n",
            "epoch : 140 loss : 0.02342623472213745: 100%|██████████| 185/185 [01:13<00:00,  2.52it/s] \n",
            "epoch : 141 loss : 0.02608499489724636: 100%|██████████| 185/185 [01:12<00:00,  2.54it/s] \n",
            "epoch : 142 loss : 0.02807578444480896: 100%|██████████| 185/185 [01:13<00:00,  2.52it/s] \n",
            "epoch : 143 loss : 0.027945678681135178: 100%|██████████| 185/185 [01:12<00:00,  2.55it/s]\n",
            "epoch : 144 loss : 0.023521006107330322: 100%|██████████| 185/185 [01:12<00:00,  2.54it/s]\n",
            "epoch : 145 loss : 0.027179008349776268: 100%|██████████| 185/185 [01:13<00:00,  2.51it/s]\n",
            "epoch : 146 loss : 0.02880052849650383: 100%|██████████| 185/185 [01:12<00:00,  2.57it/s] \n",
            "epoch : 147 loss : 0.030638625845313072: 100%|██████████| 185/185 [01:13<00:00,  2.53it/s]\n",
            "epoch : 148 loss : 0.02424958348274231: 100%|██████████| 185/185 [01:13<00:00,  2.52it/s] \n",
            "epoch : 149 loss : 0.02702317200601101: 100%|██████████| 185/185 [01:12<00:00,  2.56it/s] \n",
            "epoch : 150 loss : 0.02425353229045868: 100%|██████████| 185/185 [01:12<00:00,  2.55it/s] \n",
            "epoch : 151 loss : 0.029664412140846252: 100%|██████████| 185/185 [01:13<00:00,  2.52it/s]\n",
            "epoch : 152 loss : 0.03010062873363495: 100%|██████████| 185/185 [01:12<00:00,  2.56it/s] \n",
            "epoch : 153 loss : 0.026817884296178818: 100%|██████████| 185/185 [01:12<00:00,  2.54it/s]\n",
            "epoch : 154 loss : 0.024613365530967712: 100%|██████████| 185/185 [01:12<00:00,  2.54it/s]\n",
            "epoch : 155 loss : 0.024843771010637283: 100%|██████████| 185/185 [01:12<00:00,  2.53it/s]\n",
            "epoch : 156 loss : 0.02757139503955841: 100%|██████████| 185/185 [01:12<00:00,  2.57it/s] \n",
            "epoch : 157 loss : 0.024563651531934738: 100%|██████████| 185/185 [01:13<00:00,  2.51it/s]\n",
            "epoch : 158 loss : 0.02663542702794075: 100%|██████████| 185/185 [01:12<00:00,  2.56it/s] \n",
            "epoch : 159 loss : 0.027774617075920105: 100%|██████████| 185/185 [01:12<00:00,  2.54it/s]\n",
            "epoch : 160 loss : 0.02129664644598961: 100%|██████████| 185/185 [01:13<00:00,  2.51it/s] \n",
            "epoch : 161 loss : 0.02289257012307644: 100%|██████████| 185/185 [01:12<00:00,  2.55it/s] \n",
            "epoch : 162 loss : 0.027374936267733574: 100%|██████████| 185/185 [01:13<00:00,  2.52it/s]\n",
            "epoch : 163 loss : 0.02386217936873436: 100%|██████████| 185/185 [01:12<00:00,  2.54it/s] \n",
            "epoch : 164 loss : 0.023114323616027832: 100%|██████████| 185/185 [01:13<00:00,  2.51it/s]\n",
            "epoch : 165 loss : 0.02442929521203041: 100%|██████████| 185/185 [01:12<00:00,  2.55it/s] \n",
            "epoch : 166 loss : 0.023215068504214287: 100%|██████████| 185/185 [01:13<00:00,  2.51it/s]\n",
            "epoch : 167 loss : 0.02716824971139431: 100%|██████████| 185/185 [01:12<00:00,  2.54it/s] \n",
            "epoch : 168 loss : 0.020795263350009918: 100%|██████████| 185/185 [01:13<00:00,  2.53it/s]\n",
            "epoch : 169 loss : 0.026803715154528618: 100%|██████████| 185/185 [01:13<00:00,  2.52it/s]\n",
            "epoch : 170 loss : 0.02578485757112503: 100%|██████████| 185/185 [01:13<00:00,  2.53it/s] \n",
            "epoch : 171 loss : 0.021206816658377647: 100%|██████████| 185/185 [01:12<00:00,  2.55it/s]\n",
            "epoch : 172 loss : 0.020867547020316124: 100%|██████████| 185/185 [01:13<00:00,  2.51it/s]\n",
            "epoch : 173 loss : 0.02359130047261715: 100%|██████████| 185/185 [01:12<00:00,  2.54it/s] \n",
            "epoch : 174 loss : 0.02593926712870598: 100%|██████████| 185/185 [01:13<00:00,  2.53it/s] \n",
            "epoch : 175 loss : 0.023327458649873734: 100%|██████████| 185/185 [01:12<00:00,  2.55it/s]\n",
            "epoch : 176 loss : 0.018291926011443138: 100%|██████████| 185/185 [01:12<00:00,  2.56it/s]\n",
            "epoch : 177 loss : 0.024679645895957947: 100%|██████████| 185/185 [01:13<00:00,  2.53it/s]\n",
            "epoch : 178 loss : 0.022857774049043655: 100%|██████████| 185/185 [01:12<00:00,  2.54it/s]\n",
            "epoch : 179 loss : 0.021172266453504562: 100%|██████████| 185/185 [01:12<00:00,  2.54it/s]\n",
            "epoch : 180 loss : 0.022547436878085136: 100%|██████████| 185/185 [01:13<00:00,  2.52it/s]\n",
            "epoch : 181 loss : 0.02423085831105709: 100%|██████████| 185/185 [01:12<00:00,  2.54it/s] \n",
            "epoch : 182 loss : 0.020584017038345337: 100%|██████████| 185/185 [01:13<00:00,  2.53it/s]\n",
            "epoch : 183 loss : 0.020408352836966515: 100%|██████████| 185/185 [01:13<00:00,  2.51it/s]\n",
            "epoch : 184 loss : 0.02372228354215622: 100%|██████████| 185/185 [01:12<00:00,  2.55it/s] \n",
            "epoch : 185 loss : 0.023034488782286644: 100%|██████████| 185/185 [01:12<00:00,  2.54it/s]\n",
            "epoch : 186 loss : 0.022896334528923035: 100%|██████████| 185/185 [01:13<00:00,  2.53it/s]\n",
            "epoch : 187 loss : 0.022007431834936142: 100%|██████████| 185/185 [01:13<00:00,  2.52it/s]\n",
            "epoch : 188 loss : 0.017824601382017136: 100%|██████████| 185/185 [01:12<00:00,  2.54it/s]\n",
            "epoch : 189 loss : 0.024566948413848877: 100%|██████████| 185/185 [01:13<00:00,  2.52it/s]\n",
            "epoch : 190 loss : 0.02135792374610901: 100%|██████████| 185/185 [01:12<00:00,  2.54it/s] \n",
            "epoch : 191 loss : 0.020279619842767715: 100%|██████████| 185/185 [01:13<00:00,  2.52it/s]\n",
            "epoch : 192 loss : 0.01980437897145748: 100%|██████████| 185/185 [01:12<00:00,  2.55it/s] \n",
            "epoch : 193 loss : 0.02203572541475296: 100%|██████████| 185/185 [01:13<00:00,  2.52it/s] \n",
            "epoch : 194 loss : 0.019893143326044083: 100%|██████████| 185/185 [01:13<00:00,  2.52it/s]\n",
            "epoch : 195 loss : 0.018203813582658768: 100%|██████████| 185/185 [01:12<00:00,  2.54it/s]\n",
            "epoch : 196 loss : 0.02061792090535164: 100%|██████████| 185/185 [01:13<00:00,  2.53it/s] \n",
            "epoch : 197 loss : 0.0196214746683836: 100%|██████████| 185/185 [01:12<00:00,  2.54it/s]  \n",
            "epoch : 198 loss : 0.020064223557710648: 100%|██████████| 185/185 [01:13<00:00,  2.52it/s]\n",
            "epoch : 199 loss : 0.018577083945274353: 100%|██████████| 185/185 [01:12<00:00,  2.56it/s]\n",
            "epoch : 200 loss : 0.015967957675457: 100%|██████████| 185/185 [01:13<00:00,  2.51it/s]   \n"
          ]
        }
      ],
      "source": [
        "for epoch in range(200):  # 총 200번의 에폭 동안 학습 진행\n",
        "    # tqdm을 사용하여 진행 상황을 표시하는 반복자(iterator) 생성\n",
        "    iterator = tqdm.tqdm(train_loader)\n",
        "\n",
        "    for data, label in iterator:  # 학습 데이터와 레이블을 배치 단위로 가져옴\n",
        "        optim.zero_grad()  # 이전 배치의 그래디언트를 초기화\n",
        "\n",
        "        preds = model(data.to(device))  # 모델에 데이터를 입력하여 예측값(preds) 계산\n",
        "        loss = nn.BCEWithLogitsLoss()(  # BCEWithLogitsLoss 손실 함수 계산\n",
        "            preds, label.type(torch.FloatTensor).to(device)  # 예측값과 실제 레이블을 비교\n",
        "        )\n",
        "\n",
        "        loss.backward()  # 손실에 따라 그래디언트 계산 (역전파)\n",
        "\n",
        "        optim.step()  # 옵티마이저를 사용하여 모델의 파라미터를 업데이트\n",
        "\n",
        "        # tqdm 진행 표시줄에 현재 에폭과 손실 값 표시\n",
        "        iterator.set_description(f'epoch : {epoch+1} loss : {loss.item()}')\n",
        "\n",
        "    torch.save(model.state_dict(), 'unet.pth')  # 매 에폭마다 모델의 가중치를 unet.pth 파일로 저장\n"
      ]
    },
    {
      "cell_type": "code",
      "execution_count": 14,
      "metadata": {
        "colab": {
          "base_uri": "https://localhost:8080/",
          "height": 434
        },
        "id": "9OH3LfEi_qxN",
        "outputId": "14831da6-11e6-46e4-cb26-28d6e94730f2"
      },
      "outputs": [
        {
          "data": {
            "image/png": "[encoded data removed]",
            "text/plain": [
              "<Figure size 640x480 with 1 Axes>"
            ]
          },
          "metadata": {},
          "output_type": "display_data"
        }
      ],
      "source": [
        "# 학습된 모델의 가중치를 불러옴\n",
        "model.load_state_dict(torch.load('unet.pth', map_location='cpu'))  \n",
        "model = model.to('cpu')  # 모델을 CPU로 이동 (추론을 CPU에서 수행)\n",
        "\n",
        "# 테스트 세트에서 5번째 데이터와 레이블을 가져옴\n",
        "data, label = test_set[5]\n",
        "\n",
        "# 모델에 데이터를 입력하여 예측 수행\n",
        "# 데이터 차원을 (1, C, H, W)로 맞추기 위해 차원 추가 (배치 차원 추가)\n",
        "pred = model(torch.unsqueeze(data.to('cpu'), dim=0)) > 0.5  # 0.5를 기준으로 이진화하여 마스크 생성\n",
        "\n",
        "with torch.no_grad():  # 추론 단계에서 불필요한 그래디언트 계산을 비활성화 (메모리 절약)\n",
        "    plt.imshow(pred.squeeze().numpy(), cmap=\"gray\")  # 예측 결과를 시각화 (2D 이미지를 표시)\n"
      ]
    },
    {
      "cell_type": "code",
      "execution_count": 15,
      "metadata": {
        "colab": {
          "base_uri": "https://localhost:8080/",
          "height": 452
        },
        "id": "FmjHaUafCjpq",
        "outputId": "389dde05-8008-4b27-d71a-2949a6570de3"
      },
      "outputs": [
        {
          "data": {
            "text/plain": [
              "<matplotlib.image.AxesImage at 0x25912229d80>"
            ]
          },
          "execution_count": 15,
          "metadata": {},
          "output_type": "execute_result"
        },
        {
          "data": {
            "image/png": "[encoded data removed]",
            "text/plain": [
              "<Figure size 640x480 with 1 Axes>"
            ]
          },
          "metadata": {},
          "output_type": "display_data"
        }
      ],
      "source": [
        "plt.imshow(label)"
      ]
    },
    {
      "cell_type": "code",
      "execution_count": null,
      "metadata": {
        "id": "EEpphCZDC09H"
      },
      "outputs": [],
      "source": []
    }
  ],
  "metadata": {
    "accelerator": "GPU",
    "colab": {
      "gpuType": "T4",
      "provenance": []
    },
    "kernelspec": {
      "display_name": "Python 3",
      "name": "python3"
    },
    "language_info": {
      "codemirror_mode": {
        "name": "ipython",
        "version": 3
      },
      "file_extension": ".py",
      "mimetype": "text/x-python",
      "name": "python",
      "nbconvert_exporter": "python",
      "pygments_lexer": "ipython3",
      "version": "3.10.14"
    }
  },
  "nbformat": 4,
  "nbformat_minor": 0
}
