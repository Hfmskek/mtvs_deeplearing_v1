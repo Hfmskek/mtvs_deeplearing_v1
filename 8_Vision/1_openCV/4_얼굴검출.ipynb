{
 "cells": [
  {
   "cell_type": "markdown",
   "metadata": {},
   "source": [
    "### 1. 기본 얼굴 검출"
   ]
  },
  {
   "cell_type": "code",
   "execution_count": 7,
   "metadata": {},
   "outputs": [],
   "source": [
    "import cv2"
   ]
  },
  {
   "cell_type": "code",
   "execution_count": 8,
   "metadata": {},
   "outputs": [],
   "source": [
    "cascade_path = cv2.data.haarcascades + 'haarcascade_frontalface_default.xml'\n",
    "\n",
    "# Haar Cascade 로드\n",
    "face_cascade = cv2.CascadeClassifier(cascade_path)"
   ]
  },
  {
   "cell_type": "code",
   "execution_count": 9,
   "metadata": {},
   "outputs": [],
   "source": [
    "# 웹캠 열기\n",
    "cap = cv2.VideoCapture(0)\n",
    "\n",
    "if not cap.isOpened():\n",
    "    print(\"웹캠이 연결이 안됩니다\")\n",
    "\n",
    "while True:\n",
    "\n",
    "    # 프레임 읽기\n",
    "    ret, frame = cap.read()\n",
    "\n",
    "    if not ret:\n",
    "        break\n",
    "\n",
    "    # 그레이스케일 - 흑백 변환\n",
    "    gray_frame = cv2.cvtColor(frame, cv2.COLOR_BGR2GRAY)\n",
    "\n",
    "    # 얼굴 검출\n",
    "    faces = face_cascade.detectMultiScale(gray_frame, scaleFactor=1.1, minNeighbors=5, minSize=(30,30))\n",
    "\n",
    "    for i in faces:\n",
    "        x, y, w, h = i\n",
    "        cv2.rectangle(frame, (x, y), (x+w, y+h), (255, 0, 0), 2)\n",
    "\n",
    "    # 출력\n",
    "    cv2.imshow(\"frame\", frame)\n",
    "    if cv2.waitKey(1) == ord('q'):\n",
    "        break\n",
    "\n",
    "cap.release()\n",
    "cv2.destroyAllWindows()"
   ]
  },
  {
   "cell_type": "code",
   "execution_count": 10,
   "metadata": {},
   "outputs": [],
   "source": [
    "# 넣을 이모티콘 이미지 로드\n",
    "emoji_img = cv2.imread('cat_face.png')\n",
    "cv2.imshow(\"emoji_img\", emoji_img)\n",
    "cv2.waitKey(0)\n",
    "cv2.destroyAllWindows()"
   ]
  },
  {
   "cell_type": "code",
   "execution_count": 11,
   "metadata": {},
   "outputs": [],
   "source": [
    "# 웹캠 열기\n",
    "cap = cv2.VideoCapture(0)\n",
    "\n",
    "if not cap.isOpened():\n",
    "    print(\"웹캠이 연결이 안됩니다\")\n",
    "\n",
    "while True:\n",
    "\n",
    "    # 프레임 읽기\n",
    "    ret, frame = cap.read()\n",
    "\n",
    "    if not ret:\n",
    "        break\n",
    "\n",
    "    # 그레이스케일 - 흑백 변환\n",
    "    gray_frame = cv2.cvtColor(frame, cv2.COLOR_BGR2GRAY)\n",
    "\n",
    "    # 얼굴 검출\n",
    "    faces = face_cascade.detectMultiScale(gray_frame, scaleFactor=1.1, minNeighbors=5, minSize=(30,30))\n",
    "\n",
    "    for i in faces:\n",
    "        x, y, w, h = i\n",
    "        # cv2.rectangle(frame, (x, y), (x+w, y+h), (255, 0, 0), 2)\n",
    "        emoji_img_resized = cv2.resize(emoji_img, (w, h))\n",
    "        \n",
    "        frame[y:y+h, x:x+w] = emoji_img_resized\n",
    "\n",
    "    # 출력\n",
    "    cv2.imshow(\"frame\", frame)\n",
    "    if cv2.waitKey(1) == ord('q'):\n",
    "        break\n",
    "\n",
    "cap.release()\n",
    "cv2.destroyAllWindows()"
   ]
  },
  {
   "cell_type": "markdown",
   "metadata": {},
   "source": [
    "### 3. 자연스럽게 다양한 효과를 적용해서 합성해보기"
   ]
  },
  {
   "cell_type": "code",
   "execution_count": 12,
   "metadata": {},
   "outputs": [
    {
     "name": "stdout",
     "output_type": "stream",
     "text": [
      "(500, 500, 4)\n"
     ]
    }
   ],
   "source": [
    "# 넣을 이모티콘 이미지 로드\n",
    "emoji_img = cv2.imread('cat_face.png', cv2.IMREAD_UNCHANGED)\n",
    "print(emoji_img.shape)\n",
    "cv2.imshow(\"emoji_img\", emoji_img)\n",
    "cv2.waitKey(0)\n",
    "cv2.destroyAllWindows()"
   ]
  },
  {
   "cell_type": "code",
   "execution_count": 13,
   "metadata": {},
   "outputs": [
    {
     "data": {
      "text/plain": [
       "array([[1., 1., 1., ..., 1., 1., 1.],\n",
       "       [1., 1., 1., ..., 1., 1., 1.],\n",
       "       [1., 1., 1., ..., 1., 1., 1.],\n",
       "       ...,\n",
       "       [1., 1., 1., ..., 1., 1., 1.],\n",
       "       [1., 1., 1., ..., 1., 1., 1.],\n",
       "       [1., 1., 1., ..., 1., 1., 1.]])"
      ]
     },
     "execution_count": 13,
     "metadata": {},
     "output_type": "execute_result"
    }
   ],
   "source": [
    "import numpy as np\n",
    "\n",
    "emoji_alpha = emoji_img[:, :, 3] / 255.0\n",
    "emoji_alpha[100:200, 200:300]"
   ]
  },
  {
   "cell_type": "code",
   "execution_count": 14,
   "metadata": {},
   "outputs": [
    {
     "data": {
      "text/plain": [
       "array([[[ 23,  84, 228],\n",
       "        [ 24,  85, 229],\n",
       "        [ 20,  84, 226],\n",
       "        ...,\n",
       "        [ 35, 125, 244],\n",
       "        [ 36, 122, 244],\n",
       "        [ 35, 121, 245]],\n",
       "\n",
       "       [[ 20,  85, 230],\n",
       "        [ 20,  84, 232],\n",
       "        [ 19,  83, 231],\n",
       "        ...,\n",
       "        [ 37, 136, 252],\n",
       "        [ 36, 132, 250],\n",
       "        [ 33, 126, 247]],\n",
       "\n",
       "       [[ 16,  83, 228],\n",
       "        [ 18,  84, 233],\n",
       "        [ 18,  83, 235],\n",
       "        ...,\n",
       "        [ 18, 121, 237],\n",
       "        [ 18, 118, 236],\n",
       "        [ 17, 117, 236]],\n",
       "\n",
       "       ...,\n",
       "\n",
       "       [[ 35, 149, 250],\n",
       "        [ 35, 149, 249],\n",
       "        [ 35, 149, 249],\n",
       "        ...,\n",
       "        [ 31, 136, 247],\n",
       "        [ 31, 133, 245],\n",
       "        [ 30, 132, 244]],\n",
       "\n",
       "       [[ 36, 147, 251],\n",
       "        [ 34, 148, 249],\n",
       "        [ 34, 148, 249],\n",
       "        ...,\n",
       "        [ 30, 132, 244],\n",
       "        [ 29, 131, 244],\n",
       "        [ 30, 129, 243]],\n",
       "\n",
       "       [[ 35, 146, 250],\n",
       "        [ 35, 146, 250],\n",
       "        [ 33, 146, 250],\n",
       "        ...,\n",
       "        [ 29, 131, 243],\n",
       "        [ 30, 129, 243],\n",
       "        [ 29, 128, 242]]], dtype=uint8)"
      ]
     },
     "execution_count": 14,
     "metadata": {},
     "output_type": "execute_result"
    }
   ],
   "source": [
    "emoji_bgr = emoji_img[:, :, :3] # brg 채널값\n",
    "emoji_bgr[100:200, 200:300]"
   ]
  },
  {
   "cell_type": "code",
   "execution_count": 16,
   "metadata": {},
   "outputs": [],
   "source": [
    "# 웹캠 열기\n",
    "cap = cv2.VideoCapture(0)\n",
    "\n",
    "if not cap.isOpened():\n",
    "    print(\"웹캠이 연결이 안됩니다\")\n",
    "\n",
    "while True:\n",
    "\n",
    "    # 프레임 읽기\n",
    "    ret, frame = cap.read()\n",
    "\n",
    "    if not ret:\n",
    "        break\n",
    "\n",
    "    # 그레이스케일 - 흑백 변환\n",
    "    gray_frame = cv2.cvtColor(frame, cv2.COLOR_BGR2GRAY)\n",
    "\n",
    "    # 얼굴 검출\n",
    "    faces = face_cascade.detectMultiScale(gray_frame, scaleFactor=1.1, minNeighbors=5, minSize=(30,30))\n",
    "\n",
    "    for i in faces:\n",
    "        x, y, w, h = i\n",
    "\n",
    "        # 넣을 이미지 크기 조정\n",
    "        emoji_img_resized = cv2.resize(emoji_bgr, (w, h))\n",
    "\n",
    "        # 알파 채널도 이미지 크기 조정\n",
    "        emoji_alpha_resized = cv2.resize(emoji_alpha, (w, h))\n",
    "\n",
    "        # 얼굴 부위 추출\n",
    "        face_part = frame[y:y+h, x:x+w]\n",
    "\n",
    "        # 배경(얼굴 부위) 반대 마스크\n",
    "        background_alpha = 1.0 - emoji_alpha_resized\n",
    "\n",
    "        # 마스크 이미지의 알파 채널과 RGB 채널을 곱해서 마스크 이미지에서 알파 처리된 부분을 추출\n",
    "        alpha_face = emoji_alpha_resized[..., np.newaxis] * emoji_img_resized\n",
    "\n",
    "        # 원본 이미지의 해당 영역과 배경 알파 채널을 곱해서 배경 추출\n",
    "        background_face = background_alpha[..., np.newaxis] * face_part\n",
    "\n",
    "        # 최종 추출된 두 부분을 합쳐서 얼굴 부분을 생성\n",
    "        face_part = alpha_face + background_face\n",
    "\n",
    "    frame[y:y+h, x:x+w] = face_part\n",
    "    # 출력\n",
    "    cv2.imshow(\"frame\", frame)\n",
    "    if cv2.waitKey(1) == ord('q'):\n",
    "        break\n",
    "\n",
    "cap.release()\n",
    "cv2.destroyAllWindows()"
   ]
  }
 ],
 "metadata": {
  "kernelspec": {
   "display_name": "gumi_env310",
   "language": "python",
   "name": "python3"
  },
  "language_info": {
   "codemirror_mode": {
    "name": "ipython",
    "version": 3
   },
   "file_extension": ".py",
   "mimetype": "text/x-python",
   "name": "python",
   "nbconvert_exporter": "python",
   "pygments_lexer": "ipython3",
   "version": "3.10.14"
  }
 },
 "nbformat": 4,
 "nbformat_minor": 2
}
