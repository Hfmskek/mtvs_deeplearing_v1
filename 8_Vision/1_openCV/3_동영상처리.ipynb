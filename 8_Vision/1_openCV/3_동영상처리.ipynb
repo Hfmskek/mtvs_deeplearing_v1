{
 "cells": [
  {
   "cell_type": "markdown",
   "metadata": {},
   "source": [
    "### 1. 영상 불러오기 및 정보 확인"
   ]
  },
  {
   "cell_type": "code",
   "execution_count": 1,
   "metadata": {},
   "outputs": [],
   "source": [
    "import cv2"
   ]
  },
  {
   "cell_type": "code",
   "execution_count": 2,
   "metadata": {},
   "outputs": [
    {
     "name": "stdout",
     "output_type": "stream",
     "text": [
      "영상의 가로 크기 1920\n",
      "영상의 세로 크기 1080\n",
      "영상의 프레임수 1515\n",
      "영상의 프레임 속도 25\n"
     ]
    }
   ],
   "source": [
    "# 영상읽기\n",
    "cap = cv2.VideoCapture('cat_video.mp4')\n",
    "\n",
    "print(\"영상의 가로 크기\", int(cap.get(cv2.CAP_PROP_FRAME_WIDTH)))\n",
    "print(\"영상의 세로 크기\", int(cap.get(cv2.CAP_PROP_FRAME_HEIGHT)))\n",
    "print(\"영상의 프레임수\", int(cap.get(cv2.CAP_PROP_FRAME_COUNT)))\n",
    "print(\"영상의 프레임 속도\", int(cap.get(cv2.CAP_PROP_FPS)))"
   ]
  },
  {
   "cell_type": "markdown",
   "metadata": {},
   "source": [
    "### 2. 영상 출력해보기"
   ]
  },
  {
   "cell_type": "code",
   "execution_count": 3,
   "metadata": {},
   "outputs": [],
   "source": [
    "cap = cv2.VideoCapture('cat_video.mp4')\n",
    "\n",
    "while True:\n",
    "    ret, frame = cap.read()\n",
    "    if not ret:\n",
    "        break\n",
    "    # 프레임을 표시\n",
    "    else:\n",
    "        cv2.imshow(\"frame\", frame)\n",
    "        if cv2.waitKey(1) == ord('q'):\n",
    "            break\n",
    "cap.release()\n",
    "cv2.destroyAllWindows()"
   ]
  },
  {
   "cell_type": "markdown",
   "metadata": {},
   "source": [
    "### 3. 웹캠으로 카메라 정보를 출력해보기"
   ]
  },
  {
   "cell_type": "code",
   "execution_count": 4,
   "metadata": {},
   "outputs": [],
   "source": [
    "cap = cv2.VideoCapture(0)\n",
    "\n",
    "while True:\n",
    "    ret, frame = cap.read()\n",
    "    if not ret:\n",
    "        break\n",
    "    # 프레임을 표시\n",
    "    else:\n",
    "        frame = cv2.flip(frame, 1)\n",
    "        face = frame[100:300, 200:400]\n",
    "        face_resized = cv2.resize(face, (10, 10), interpolation=cv2.INTER_AREA)\n",
    "        face_resized = cv2.resize(face_resized, (200, 200), interpolation=cv2.INTER_AREA)\n",
    "        frame[100:300, 200:400] = face_resized\n",
    "        cv2.imshow(\"frame\", frame)\n",
    "        cv2.imshow(\"face\", face)\n",
    "        cv2.imshow(\"face_resized\", face_resized)\n",
    "        if cv2.waitKey(1) == ord('q'):\n",
    "            break\n",
    "cap.release()\n",
    "cv2.destroyAllWindows()"
   ]
  },
  {
   "cell_type": "markdown",
   "metadata": {},
   "source": [
    "### 4. 영상 저장하기"
   ]
  },
  {
   "cell_type": "code",
   "execution_count": 5,
   "metadata": {},
   "outputs": [],
   "source": [
    "cap = cv2.VideoCapture('cat_video.mp4')"
   ]
  },
  {
   "cell_type": "code",
   "execution_count": 6,
   "metadata": {},
   "outputs": [],
   "source": [
    "frame_width = int(cap.get(cv2.CAP_PROP_FRAME_WIDTH))\n",
    "frame_height = int(cap.get(cv2.CAP_PROP_FRAME_HEIGHT))\n",
    "fps = int(cap.get(cv2.CAP_PROP_FPS))"
   ]
  },
  {
   "cell_type": "code",
   "execution_count": 7,
   "metadata": {},
   "outputs": [],
   "source": [
    "# 비디오 저장을 위한 videowriter 객체 설정\n",
    "fourcc = cv2.VideoWriter_fourcc(*'MP4V')\n",
    "# fourcc = cv2.VideoWriter_fourcc(*'X264')\n",
    "out = cv2.VideoWriter('gray_cat.mp4', fourcc, fps, (frame_width, frame_height), True)  # True로 변경\n"
   ]
  },
  {
   "cell_type": "code",
   "execution_count": 8,
   "metadata": {},
   "outputs": [],
   "source": [
    "while True:\n",
    "    ret, frame = cap.read()\n",
    "    if not ret:\n",
    "        break\n",
    "    else:\n",
    "        # 흑백으로 바꾸기\n",
    "        gray_frame = cv2.cvtColor(frame, cv2.COLOR_BGR2GRAY)\n",
    "        \n",
    "        # 그레이스케일 이미지를 3채널로 변환\n",
    "        gray_3channel = cv2.cvtColor(gray_frame, cv2.COLOR_GRAY2BGR)\n",
    "        \n",
    "        out.write(gray_3channel)\n",
    "        \n",
    "        cv2.imshow(\"frame\", gray_frame)\n",
    "        if cv2.waitKey(1) == ord('q'):\n",
    "            break\n",
    "\n",
    "cap.release()\n",
    "out.release()\n",
    "cv2.destroyAllWindows()"
   ]
  }
 ],
 "metadata": {
  "kernelspec": {
   "display_name": "gumi_env310",
   "language": "python",
   "name": "python3"
  },
  "language_info": {
   "codemirror_mode": {
    "name": "ipython",
    "version": 3
   },
   "file_extension": ".py",
   "mimetype": "text/x-python",
   "name": "python",
   "nbconvert_exporter": "python",
   "pygments_lexer": "ipython3",
   "version": "3.10.14"
  }
 },
 "nbformat": 4,
 "nbformat_minor": 2
}
