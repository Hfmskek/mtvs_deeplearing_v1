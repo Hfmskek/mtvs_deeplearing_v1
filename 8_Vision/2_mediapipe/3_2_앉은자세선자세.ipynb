{
 "cells": [
  {
   "cell_type": "code",
   "execution_count": 1,
   "metadata": {},
   "outputs": [],
   "source": [
    "import cv2\n",
    "import mediapipe as mp"
   ]
  },
  {
   "cell_type": "code",
   "execution_count": 2,
   "metadata": {},
   "outputs": [
    {
     "name": "stderr",
     "output_type": "stream",
     "text": [
      "c:\\Users\\Admin\\anaconda3\\envs\\gumi_env310\\lib\\site-packages\\google\\protobuf\\symbol_database.py:55: UserWarning: SymbolDatabase.GetPrototype() is deprecated. Please use message_factory.GetMessageClass() instead. SymbolDatabase.GetPrototype() will be removed soon.\n",
      "  warnings.warn('SymbolDatabase.GetPrototype() is deprecated. Please '\n"
     ]
    }
   ],
   "source": [
    "# 얼굴 메시 객체와 그리기 객체 초기화\n",
    "mp_pose = mp.solutions.pose\n",
    "mp_drawing = mp.solutions.drawing_utils\n",
    "drawing_spec1 = mp_drawing.DrawingSpec(thickness=1, circle_radius=1, color=(0, 255, 0))\n",
    "drawing_spec2 = mp_drawing.DrawingSpec(thickness=1, circle_radius=1, color=(0, 0, 255))\n",
    "\n",
    "# 웹캠 설정\n",
    "cap = cv2.VideoCapture(0)\n",
    "\n",
    "\n",
    "def detect_pose(landmarks):\n",
    "    thershold = 0.9\n",
    "\n",
    "    left_hip = landmarks[mp_pose.PoseLandmark.LEFT_HIP.value]\n",
    "    right_hip = landmarks[mp_pose.PoseLandmark.RIGHT_HIP.value]\n",
    "    left_knee = landmarks[mp_pose.PoseLandmark.LEFT_KNEE.value]\n",
    "    right_knee = landmarks[mp_pose.PoseLandmark.RIGHT_KNEE.value]\n",
    "    \n",
    "    hip_y = (left_hip.y + right_hip.y) / 2\n",
    "    knee_y = (left_knee.y + right_knee.y) /2\n",
    "\n",
    "    if hip_y < knee_y * 0.9:\n",
    "        return \"Standing\"\n",
    "    else:\n",
    "        return \"Sitting\"\n",
    "\n",
    "with mp_pose.Pose(\n",
    "    static_image_mode=False, # False 일 때는 비디오 스트림일 경우\n",
    "    model_complexity=1, # 0, 1, 2 의 순서로 정확도 / 숫자가 올라갈수록 정확도 상승 / 속도는 저하\n",
    "    smooth_landmarks=True,  # 프레임간의 랜드마크 위치를 부드럽게 처리할 지 경정\n",
    "    enable_segmentation=False, # 포즈 검출과 인물 마스크를 생성할지 여부 결정 -> 배경제거\n",
    "    smooth_segmentation=True, # 마스크 경계를 부드럽게 처리할지 여부\n",
    "    min_detection_confidence=0.5,\n",
    "    min_tracking_confidence=0.5) as pose:\n",
    "\n",
    "    while cap.isOpened():\n",
    "        res, image = cap.read()\n",
    "        if not res:\n",
    "            print('웹캠에서 이미지를 가져오는 것을 실패')\n",
    "            break\n",
    "        \n",
    "        # bgr 이미지를 rgb 변환\n",
    "        image = cv2.cvtColor(image, cv2.COLOR_BGR2RGB)\n",
    "        image = cv2.flip(image, 1)\n",
    "\n",
    "        # 속도 개선을 위한 이미지 쓰기 불가능\n",
    "        image.flags.writeable = False\n",
    "\n",
    "        # 포즈 감지\n",
    "        results = pose.process(image)\n",
    "\n",
    "        # 이미지 다시 쓰기로 지정\n",
    "        image.flags.writeable = True\n",
    "\n",
    "        image = cv2.cvtColor(image, cv2.COLOR_RGB2BGR)\n",
    "\n",
    "        if results.pose_landmarks:\n",
    "            mp_drawing.draw_landmarks(\n",
    "                image, results.pose_landmarks, mp.solutions.pose.POSE_CONNECTIONS)\n",
    "            # 전체 검출된 랜드마크\n",
    "            pose_state = results.pose_landmarks.landmark\n",
    "\n",
    "            # 포즈 검출 함수 적용\n",
    "            detect_result = detect_pose(pose_state)\n",
    "            cv2.putText(image, detect_result, (50, 50), cv2.FONT_HERSHEY_SIMPLEX, 1, (0, 255, 0), 2, cv2.LINE_AA)\n",
    "        cv2.imshow(\"frame\", image)\n",
    "        if cv2.waitKey(1) == ord('q'):\n",
    "            break\n",
    "\n",
    "cap.release()\n",
    "cv2.destroyAllWindows()"
   ]
  }
 ],
 "metadata": {
  "kernelspec": {
   "display_name": "gumi_env310",
   "language": "python",
   "name": "python3"
  },
  "language_info": {
   "codemirror_mode": {
    "name": "ipython",
    "version": 3
   },
   "file_extension": ".py",
   "mimetype": "text/x-python",
   "name": "python",
   "nbconvert_exporter": "python",
   "pygments_lexer": "ipython3",
   "version": "3.10.14"
  }
 },
 "nbformat": 4,
 "nbformat_minor": 2
}
