{
 "cells": [
  {
   "cell_type": "code",
   "execution_count": 1,
   "metadata": {},
   "outputs": [],
   "source": [
    "# pip install paddlepaddle\n",
    "# pip install paddleocr --user"
   ]
  },
  {
   "cell_type": "code",
   "execution_count": 1,
   "metadata": {},
   "outputs": [],
   "source": [
    "from paddleocr import PaddleOCR\n",
    "from PIL import Image"
   ]
  },
  {
   "cell_type": "code",
   "execution_count": 2,
   "metadata": {},
   "outputs": [],
   "source": [
    "# 이미지 불러오기\n",
    "img_path=\"webtoon.png\"\n",
    "img= Image.open(img_path)"
   ]
  },
  {
   "cell_type": "code",
   "execution_count": 3,
   "metadata": {},
   "outputs": [
    {
     "name": "stdout",
     "output_type": "stream",
     "text": [
      "[2024/08/07 15:39:16] ppocr DEBUG: Namespace(help='==SUPPRESS==', use_gpu=False, use_xpu=False, use_npu=False, use_mlu=False, ir_optim=True, use_tensorrt=False, min_subgraph_size=15, precision='fp32', gpu_mem=500, gpu_id=0, image_dir=None, page_num=0, det_algorithm='DB', det_model_dir='C:\\\\Users\\\\Admin/.paddleocr/whl\\\\det\\\\ml\\\\Multilingual_PP-OCRv3_det_infer', det_limit_side_len=960, det_limit_type='max', det_box_type='quad', det_db_thresh=0.3, det_db_box_thresh=0.6, det_db_unclip_ratio=1.5, max_batch_size=10, use_dilation=False, det_db_score_mode='fast', det_east_score_thresh=0.8, det_east_cover_thresh=0.1, det_east_nms_thresh=0.2, det_sast_score_thresh=0.5, det_sast_nms_thresh=0.2, det_pse_thresh=0, det_pse_box_thresh=0.85, det_pse_min_area=16, det_pse_scale=1, scales=[8, 16, 32], alpha=1.0, beta=1.0, fourier_degree=5, rec_algorithm='SVTR_LCNet', rec_model_dir='C:\\\\Users\\\\Admin/.paddleocr/whl\\\\rec\\\\korean\\\\korean_PP-OCRv4_rec_infer', rec_image_inverse=True, rec_image_shape='3, 48, 320', rec_batch_num=6, max_text_length=25, rec_char_dict_path='C:\\\\Users\\\\Admin\\\\AppData\\\\Roaming\\\\Python\\\\Python310\\\\site-packages\\\\paddleocr\\\\ppocr\\\\utils\\\\dict\\\\korean_dict.txt', use_space_char=True, vis_font_path='./doc/fonts/simfang.ttf', drop_score=0.5, e2e_algorithm='PGNet', e2e_model_dir=None, e2e_limit_side_len=768, e2e_limit_type='max', e2e_pgnet_score_thresh=0.5, e2e_char_dict_path='./ppocr/utils/ic15_dict.txt', e2e_pgnet_valid_set='totaltext', e2e_pgnet_mode='fast', use_angle_cls=False, cls_model_dir='C:\\\\Users\\\\Admin/.paddleocr/whl\\\\cls\\\\ch_ppocr_mobile_v2.0_cls_infer', cls_image_shape='3, 48, 192', label_list=['0', '180'], cls_batch_num=6, cls_thresh=0.9, enable_mkldnn=False, cpu_threads=10, use_pdserving=False, warmup=False, sr_model_dir=None, sr_image_shape='3, 32, 128', sr_batch_num=1, draw_img_save_dir='./inference_results', save_crop_res=False, crop_res_save_dir='./output', use_mp=False, total_process_num=1, process_id=0, benchmark=False, save_log_path='./log_output/', show_log=True, use_onnx=False, return_word_box=False, output='./output', table_max_len=488, table_algorithm='TableAttn', table_model_dir=None, merge_no_span_structure=True, table_char_dict_path=None, layout_model_dir=None, layout_dict_path=None, layout_score_threshold=0.5, layout_nms_threshold=0.5, kie_algorithm='LayoutXLM', ser_model_dir=None, re_model_dir=None, use_visual_backbone=True, ser_dict_path='../train_data/XFUND/class_list_xfun.txt', ocr_order_method=None, mode='structure', image_orientation=False, layout=True, table=True, ocr=True, recovery=False, use_pdf2docx_api=False, invert=False, binarize=False, alphacolor=(255, 255, 255), lang='korean', det=True, rec=True, type='ocr', savefile=False, ocr_version='PP-OCRv4', structure_version='PP-StructureV2')\n",
      "[2024/08/07 15:39:18] ppocr DEBUG: dt_boxes num : 13, elapsed : 0.3654189109802246\n",
      "[2024/08/07 15:39:19] ppocr DEBUG: rec_res num  : 13, elapsed : 1.2860991954803467\n"
     ]
    }
   ],
   "source": [
    "# OCR 수행해보기\n",
    "ocr = PaddleOCR(lang=\"korean\")\n",
    "\n",
    "result = ocr.ocr(img_path, cls=False)"
   ]
  },
  {
   "cell_type": "code",
   "execution_count": 4,
   "metadata": {},
   "outputs": [
    {
     "data": {
      "text/plain": [
       "[[[[214.0, 148.0], [287.0, 148.0], [287.0, 192.0], [214.0, 192.0]],\n",
       "  ('태진', 0.9997134208679199)],\n",
       " [[[293.0, 149.0], [329.0, 149.0], [329.0, 188.0], [293.0, 188.0]],\n",
       "  ('씨', 0.9999964237213135)],\n",
       " [[[338.0, 147.0], [410.0, 147.0], [410.0, 192.0], [338.0, 192.0]],\n",
       "  ('같은', 0.999995768070221)],\n",
       " [[[179.0, 203.0], [331.0, 203.0], [331.0, 249.0], [179.0, 249.0]],\n",
       "  ('20대들은', 0.9999313354492188)],\n",
       " [[[340.0, 204.0], [445.0, 204.0], [445.0, 247.0], [340.0, 247.0]],\n",
       "  ('일하다', 0.9999757409095764)],\n",
       " [[[123.0, 259.0], [228.0, 259.0], [228.0, 301.0], [123.0, 301.0]],\n",
       "  ('마음에', 0.9999668598175049)],\n",
       " [[[241.0, 260.0], [274.0, 260.0], [274.0, 302.0], [241.0, 302.0]],\n",
       "  ('안', 0.999962329864502)],\n",
       " [[[279.0, 260.0], [351.0, 260.0], [351.0, 301.0], [279.0, 301.0]],\n",
       "  ('들면', 0.9999479055404663)],\n",
       " [[[364.0, 262.0], [498.0, 262.0], [498.0, 298.0], [364.0, 298.0]],\n",
       "  ('그만두고', 0.9999701976776123)],\n",
       " [[[155.0, 314.0], [226.0, 314.0], [226.0, 355.0], [155.0, 355.0]],\n",
       "  ('다른', 0.9999862909317017)],\n",
       " [[[232.0, 315.0], [268.0, 315.0], [268.0, 355.0], [232.0, 355.0]],\n",
       "  ('곳', 0.9991746544837952)],\n",
       " [[[277.0, 314.0], [346.0, 314.0], [346.0, 356.0], [277.0, 356.0]],\n",
       "  ('가면', 0.9998560547828674)],\n",
       " [[[356.0, 314.0], [460.0, 314.0], [460.0, 356.0], [356.0, 356.0]],\n",
       "  ('되지만', 0.9999463558197021)]]"
      ]
     },
     "execution_count": 4,
     "metadata": {},
     "output_type": "execute_result"
    }
   ],
   "source": [
    "ocr_result = result[0]\n",
    "ocr_result"
   ]
  },
  {
   "cell_type": "code",
   "execution_count": 8,
   "metadata": {},
   "outputs": [
    {
     "name": "stdout",
     "output_type": "stream",
     "text": [
      "태진 씨 같은 20대들은 일하다 마음에 안 들면 그만두고 다른 곳 가면 되지만 \n"
     ]
    }
   ],
   "source": [
    "text = \"\"\n",
    "for content in ocr_result:\n",
    "    text += content[1][0]\n",
    "    text += \" \"\n",
    "print(text)"
   ]
  },
  {
   "cell_type": "code",
   "execution_count": 9,
   "metadata": {},
   "outputs": [
    {
     "name": "stdout",
     "output_type": "stream",
     "text": [
      "[2024/08/07 15:40:03] ppocr DEBUG: dt_boxes num : 88, elapsed : 0.10849475860595703\n",
      "[2024/08/07 15:40:10] ppocr DEBUG: rec_res num  : 88, elapsed : 6.611276626586914\n"
     ]
    }
   ],
   "source": [
    "img_path2 = \"영수증.jpg\"\n",
    "result2 = ocr.ocr(img_path2, cls=False)"
   ]
  },
  {
   "cell_type": "code",
   "execution_count": 11,
   "metadata": {},
   "outputs": [
    {
     "name": "stdout",
     "output_type": "stream",
     "text": [
      "주소:제주 대표:윤민 제주시 세평항로 13 사업자번호:616-82-06936 전화:064-784-3326 인 영수증을필히 지참 하여 주시기 바랍니다 퓨드 김추희 2023-04-30 18:26:25 0003 00151 상품코드 단가 수량 금액 001 P옛날과자 240229 3000 3 9000 002 P쿠키 359 8809068351015 10000 10000 003 P옛날과자 240229 7000 1 7000 004 P제주흑돼지라면 컵 놋멘 739 8809575780445 3000 3000 005 P초밥 캘리포니아 260069 6800 6800 006 P제주딱멘 739 8809575781077 3000 3000 007 한라산21 360ML 8801798000027 1590 4770 008 P제주우유200ML 200ML #8804434000016 900 900 009 P혼디주330 330m 8809432040002 8000 8000 010 P 한라우유200세! 200m1 *8804870100011 850 850 \n"
     ]
    }
   ],
   "source": [
    "ocr_result2 = result2[0]\n",
    "text2 = \"\"\n",
    "for content in ocr_result2:\n",
    "    text2 += content[1][0]\n",
    "    text2 += \" \"\n",
    "print(text2)"
   ]
  }
 ],
 "metadata": {
  "kernelspec": {
   "display_name": "gumi_env310",
   "language": "python",
   "name": "python3"
  },
  "language_info": {
   "codemirror_mode": {
    "name": "ipython",
    "version": 3
   },
   "file_extension": ".py",
   "mimetype": "text/x-python",
   "name": "python",
   "nbconvert_exporter": "python",
   "pygments_lexer": "ipython3",
   "version": "3.10.14"
  }
 },
 "nbformat": 4,
 "nbformat_minor": 2
}
