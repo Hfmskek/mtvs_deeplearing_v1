{
 "cells": [
  {
   "cell_type": "code",
   "execution_count": 1,
   "metadata": {},
   "outputs": [],
   "source": [
    "import pytesseract\n",
    "from PIL import Image"
   ]
  },
  {
   "cell_type": "code",
   "execution_count": 4,
   "metadata": {},
   "outputs": [
    {
     "name": "stdout",
     "output_type": "stream",
     "text": [
      "빅데이터\n",
      "\n",
      "분석기사\n",
      "\n",
      "제8회\n",
      "\n",
      "제9회\n",
      "\n",
      "회차\n",
      "\n",
      "접수기간\n",
      "\n",
      "3.4~8\n",
      "\n",
      "5.20~24\n",
      "\n",
      "8.5~9\n",
      "\n",
      "10.28~111\n",
      "\n",
      "수험표발급\n",
      "\n",
      "3.22\n",
      "\n",
      "67\n",
      "\n",
      "8.23\n",
      "\n",
      "1115\n",
      "\n",
      "시험일\n",
      "\n",
      "4.6(토)\n",
      "\n",
      "6.22(토)\n",
      "\n",
      "9.7(토)\n",
      "\n",
      "11.30(토)\n",
      "\n",
      "12.13~17\n",
      "\n",
      "4.26\n",
      "\n",
      "712\n",
      "\n",
      "9.27\n",
      "\n",
      "12.20\n",
      "\n",
      "증빙서류 제출기간\n",
      "\n",
      "4.29~5.9\n",
      "\n",
      "9.30~10.10\n",
      "\n"
     ]
    }
   ],
   "source": [
    "img = Image.open(\"시험정보.png\")\n",
    "text = pytesseract.image_to_string(img, lang=\"kor\")\n",
    "print(text)"
   ]
  },
  {
   "cell_type": "code",
   "execution_count": 5,
   "metadata": {},
   "outputs": [
    {
     "name": "stdout",
     "output_type": "stream",
     "text": [
      "ㆍ 오 구좌농\n",
      "그 알도 제주시\n",
      "시마 으 1616-82-0693\n",
      "0080 1냉동 뱅장제품은 반품 교환이 안됩니다:낸\n",
      "오소       물은 당일 일반상품은 잃이내 반품 교환\n",
      "        보관소출로 인한 반품교환은 안\n",
      "됩니다. 모든 반품교환시 영수증을 필히\n",
      "하여 주시기 바랍니다.\n",
      "\n",
      "슬릭 하나로마트\n",
      "그 784-9326\n",
      "\n",
      "구운            28희       2023-04-30 1\n",
      "로                단\n",
      "\n",
      "001  ㅁ옛날과자 ㆍ\n",
      "\n",
      "240229        3,000\n",
      "002 『ㄷ쿠키 359\n",
      "8609066351015    10,000   1\n",
      ". 003 『옛날과자 .\n",
      " 240229      75000   10\n",
      "\n",
      " 004 『세주흑돼지라면 컵 듯멘 헬\n",
      "은 ㅣ 6809575780445    3,000      「\n",
      " 005 『초밥 (캘리포니아) .\n",
      "\n",
      "260069             6.800\n",
      "006 『제주딱멘 739\n",
      "8809575781077    3,000\n",
      "007 한라산21 (36얘1.) .\n",
      "8801798000027    1.590“”\n",
      "008 『제주우유200 2000Ｌ\n",
      "*6804434000016\n",
      "009 『혼디주33001 33001\n",
      "8809432040002\n",
      "\n",
      "010 『한라우유20\n",
      "\n",
      "*0804870100011\n",
      "\n"
     ]
    }
   ],
   "source": [
    "img = Image.open(\"영수증.jpg\")\n",
    "text = pytesseract.image_to_string(img, lang=\"kor\")\n",
    "print(text)"
   ]
  }
 ],
 "metadata": {
  "kernelspec": {
   "display_name": "gumi_env310",
   "language": "python",
   "name": "python3"
  },
  "language_info": {
   "codemirror_mode": {
    "name": "ipython",
    "version": 3
   },
   "file_extension": ".py",
   "mimetype": "text/x-python",
   "name": "python",
   "nbconvert_exporter": "python",
   "pygments_lexer": "ipython3",
   "version": "3.10.14"
  }
 },
 "nbformat": 4,
 "nbformat_minor": 2
}
