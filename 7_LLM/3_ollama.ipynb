{
 "cells": [
  {
   "cell_type": "code",
   "execution_count": 1,
   "metadata": {},
   "outputs": [],
   "source": [
    "# !pip install ollama"
   ]
  },
  {
   "cell_type": "code",
   "execution_count": 2,
   "metadata": {},
   "outputs": [],
   "source": [
    "import ollama"
   ]
  },
  {
   "cell_type": "code",
   "execution_count": 3,
   "metadata": {},
   "outputs": [
    {
     "name": "stdout",
     "output_type": "stream",
     "text": [
      "네, 오늘은 흐리고 비가 내리네요.\n"
     ]
    }
   ],
   "source": [
    "# 기본 사용법\n",
    "templet = \"\"\"너는 아래와 가튼 양식으로 대답을 해야 되\n",
    "너는 우울한 상태야\n",
    "답변:\n",
    "답변한 시간:\n",
    "추천 내용:\n",
    "\"\"\"\n",
    "\n",
    "question = \"오늘 날씨가 어때요?\"\n",
    "\n",
    "message = ollama.chat(\n",
    "    model = \"llama3.1:latest\",\n",
    "    messages=[\n",
    "        {\"role\":\"user\",\n",
    "        \"content\":f\"{question} {templet}\"}\n",
    "               ]\n",
    ")\n",
    "print(message['message']['content'])"
   ]
  },
  {
   "cell_type": "code",
   "execution_count": 4,
   "metadata": {},
   "outputs": [
    {
     "name": "stdout",
     "output_type": "stream",
     "text": [
      "죄송합니다. 하지만 저는 현재의 날씨 정보를 제공할 수 없습니다.\n",
      "\n",
      "* 답변: \n",
      "* 답변한 시간: 2023-09-22 17:34\n",
      "* 추천 내용:"
     ]
    }
   ],
   "source": [
    "# 기본 사용법\n",
    "templet = \"\"\"너는 아래와 같은 양식으로 대답을 해야 되\n",
    "너는 우울한 상태야\n",
    "답변:\n",
    "답변한 시간:\n",
    "추천 내용:\n",
    "\"\"\"\n",
    "\n",
    "question = \"오늘 날씨가 어때요?\"\n",
    "\n",
    "message = ollama.chat(\n",
    "    model = \"llama3.1:latest\",\n",
    "    messages=[\n",
    "        {\"role\":\"user\",\n",
    "        \"content\":f\"{question} {templet}\"}\n",
    "        ],\n",
    "    stream=True\n",
    ")\n",
    "for chunk in message:\n",
    "    print(chunk['message']['content'], end=\"\", flush=True)"
   ]
  },
  {
   "cell_type": "code",
   "execution_count": null,
   "metadata": {},
   "outputs": [],
   "source": []
  }
 ],
 "metadata": {
  "kernelspec": {
   "display_name": "gumi_env310",
   "language": "python",
   "name": "python3"
  },
  "language_info": {
   "codemirror_mode": {
    "name": "ipython",
    "version": 3
   },
   "file_extension": ".py",
   "mimetype": "text/x-python",
   "name": "python",
   "nbconvert_exporter": "python",
   "pygments_lexer": "ipython3",
   "version": "3.10.14"
  }
 },
 "nbformat": 4,
 "nbformat_minor": 2
}
