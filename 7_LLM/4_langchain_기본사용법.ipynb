{
 "cells": [
  {
   "cell_type": "code",
   "execution_count": 1,
   "metadata": {},
   "outputs": [],
   "source": [
    "# !pip install -U langchain langchain-community langchain-experimental langchain-core langsmith"
   ]
  },
  {
   "cell_type": "code",
   "execution_count": 2,
   "metadata": {},
   "outputs": [],
   "source": [
    "from langchain.chat_models import ChatOllama"
   ]
  },
  {
   "cell_type": "code",
   "execution_count": 3,
   "metadata": {},
   "outputs": [],
   "source": [
    "model = ChatOllama(model=\"llama3.1:latest\")"
   ]
  },
  {
   "cell_type": "code",
   "execution_count": 4,
   "metadata": {},
   "outputs": [
    {
     "name": "stdout",
     "output_type": "stream",
     "text": [
      "content=\"화장실(화분)을 구매한거야!\\n\\n'화분'이라는 단어가 '화분'인줄로만 알고 있었는데,\\n내가 잘못 이해하고 있었던 것 같아...\\n\\n화분 = 화장실\\n\\n이름의 뿌리를 찾아보니,\\n\\n'화'(花)란 중국이나 일본에서 쓰는 단어로, '꽃'을 뜻한다.\\n\\n'분'(盆)은 한자로 쓰고, '땅에 두기' 또는 '바른 곳'이라는 의미이다.\\n\\n그럼, 화분 = 꽃이 있는 나무 그릇\\n\\n맞다면, 슬퍼서 화분(화장실)을 샀다는 것은\\n\\n슬퍼서 자리를 만들어놓았다는 뜻인 것 같다.\" response_metadata={'model': 'llama3.1:latest', 'created_at': '2024-07-31T06:25:29.3448873Z', 'message': {'role': 'assistant', 'content': ''}, 'done_reason': 'stop', 'done': True, 'total_duration': 5346556800, 'load_duration': 47433400, 'prompt_eval_count': 19, 'prompt_eval_duration': 263844000, 'eval_count': 163, 'eval_duration': 5031215000} id='run-675947d8-3323-4575-84d0-f12d4ebc5864-0'\n"
     ]
    }
   ],
   "source": [
    "# 간단한 응답 받아보기\n",
    "question = \"슬퍼서 화분을 샀어\"\n",
    "\n",
    "answer = model.invoke(question)\n",
    "\n",
    "print(answer)"
   ]
  },
  {
   "cell_type": "code",
   "execution_count": 5,
   "metadata": {},
   "outputs": [
    {
     "name": "stdout",
     "output_type": "stream",
     "text": [
      "화장실(화분)을 구매한거야!\n",
      "\n",
      "'화분'이라는 단어가 '화분'인줄로만 알고 있었는데,\n",
      "내가 잘못 이해하고 있었던 것 같아...\n",
      "\n",
      "화분 = 화장실\n",
      "\n",
      "이름의 뿌리를 찾아보니,\n",
      "\n",
      "'화'(花)란 중국이나 일본에서 쓰는 단어로, '꽃'을 뜻한다.\n",
      "\n",
      "'분'(盆)은 한자로 쓰고, '땅에 두기' 또는 '바른 곳'이라는 의미이다.\n",
      "\n",
      "그럼, 화분 = 꽃이 있는 나무 그릇\n",
      "\n",
      "맞다면, 슬퍼서 화분(화장실)을 샀다는 것은\n",
      "\n",
      "슬퍼서 자리를 만들어놓았다는 뜻인 것 같다.\n"
     ]
    }
   ],
   "source": [
    "print(answer.content)"
   ]
  },
  {
   "cell_type": "code",
   "execution_count": 6,
   "metadata": {},
   "outputs": [
    {
     "name": "stdout",
     "output_type": "stream",
     "text": [
      "슬프다는 말로 대신하는 단어를 찾으려면 몇 가지 옵션들이 있습니다.\n",
      "\n",
      "1. **화분** -> **꽃병**: 화분이라는 용어는 주로 꽃이나 식물을 키우기 위한 그릇을 의미합니다. 이 경우, 꽃병이 더 적합한 용어일 수 있습니다.\n",
      "2. **슬퍼서** -> **그리워서**: 슬퍼서라는 표현은 불행하거나 아픔을 느끼고 있다고 말할 때 사용됩니다. 하지만 그리워서라는 단어를 사용하면, 이 감정에 더 부드러운 톤을 줄 수도 있습니다.\n",
      "\n",
      "이러한 이유로, \"슬퍼서 화분을 샀어\"는 \"그리워서 꽃병을 샀어\"라고 바꿔 말해도 좋을 것입니다."
     ]
    }
   ],
   "source": [
    "stream = model.stream(question)\n",
    "for chunk in stream:\n",
    "    print(chunk.content, end=\"\")"
   ]
  },
  {
   "cell_type": "code",
   "execution_count": 7,
   "metadata": {},
   "outputs": [
    {
     "name": "stdout",
     "output_type": "stream",
     "text": [
      "input_variables=['item'] template='슬퍼서 {item} 샀어요'\n"
     ]
    }
   ],
   "source": [
    "# langchain 구조 : prompt | model | parser\n",
    "# prompt 설정 - 템플릿\n",
    "\n",
    "from langchain.prompts import PromptTemplate\n",
    "\n",
    "# 질문양식 정해주기 - 템플릿 설정\n",
    "template = \"슬퍼서 {item} 샀어요\"\n",
    "\n",
    "prompt = PromptTemplate.from_template(template=template)\n",
    "print(prompt)"
   ]
  },
  {
   "cell_type": "code",
   "execution_count": 8,
   "metadata": {},
   "outputs": [],
   "source": [
    "chain = prompt | model"
   ]
  },
  {
   "cell_type": "code",
   "execution_count": 9,
   "metadata": {},
   "outputs": [
    {
     "name": "stdout",
     "output_type": "stream",
     "text": [
      " 슬퍼서 모자를 샀어여.."
     ]
    }
   ],
   "source": [
    "stream = chain.stream({\"item\":\"모자\"})\n",
    "for chunk in stream:\n",
    "    print(chunk.content, end=\"\")"
   ]
  },
  {
   "cell_type": "code",
   "execution_count": 10,
   "metadata": {},
   "outputs": [
    {
     "name": "stdout",
     "output_type": "stream",
     "text": [
      "input_variables=['item1', 'item2'] template='슬플 때는 {item1}을 사고, 기쁠 때는 {item2}를 살거예요'\n"
     ]
    }
   ],
   "source": [
    "# 여러 개의 입력값을 받는 템플릿 지정\n",
    "template = \"슬플 때는 {item1}을 사고, 기쁠 때는 {item2}를 살거예요\"\n",
    "\n",
    "prompt = PromptTemplate.from_template(template=template)\n",
    "print(prompt)"
   ]
  },
  {
   "cell_type": "code",
   "execution_count": 11,
   "metadata": {},
   "outputs": [
    {
     "name": "stdout",
     "output_type": "stream",
     "text": [
      "슬프다..."
     ]
    }
   ],
   "source": [
    "chain = prompt | model\n",
    "\n",
    "stream = chain.stream({\"item1\":\"화분\",\"item2\":\"식물\"})\n",
    "for chunk in stream:\n",
    "    print(chunk.content, end=\"\")"
   ]
  },
  {
   "cell_type": "code",
   "execution_count": 12,
   "metadata": {},
   "outputs": [
    {
     "data": {
      "text/plain": [
       "PromptTemplate(input_variables=['item1', 'item2'], template='슬플 때는 {item1}을 사고, 기쁠 때는 {item2}를 살거예요')\n",
       "| ChatOllama(model='llama3.1:latest')"
      ]
     },
     "execution_count": 12,
     "metadata": {},
     "output_type": "execute_result"
    }
   ],
   "source": [
    "chain"
   ]
  },
  {
   "cell_type": "code",
   "execution_count": 13,
   "metadata": {},
   "outputs": [
    {
     "data": {
      "text/plain": [
       "AIMessage(content='슬픔과 기쁨을 다루는 것에 대한 상상력이 좋네요.', response_metadata={'model': 'llama3.1:latest', 'created_at': '2024-07-31T06:26:11.9827675Z', 'message': {'role': 'assistant', 'content': ''}, 'done_reason': 'stop', 'done': True, 'total_duration': 1041217300, 'load_duration': 58918200, 'prompt_eval_count': 32, 'prompt_eval_duration': 292123000, 'eval_count': 21, 'eval_duration': 685699000}, id='run-8c1f6580-d865-4a71-9f08-85885ae550a1-0')"
      ]
     },
     "execution_count": 13,
     "metadata": {},
     "output_type": "execute_result"
    }
   ],
   "source": [
    "message = chain.invoke({\"item1\":\"화분\",\"item2\":\"식물\"})\n",
    "message"
   ]
  },
  {
   "cell_type": "code",
   "execution_count": 14,
   "metadata": {},
   "outputs": [
    {
     "data": {
      "text/plain": [
       "'그렇죠. 그 말이 참 유머로움이 있네요.'"
      ]
     },
     "execution_count": 14,
     "metadata": {},
     "output_type": "execute_result"
    }
   ],
   "source": [
    "# parser 설정\n",
    "from langchain_core.output_parsers import StrOutputParser\n",
    "\n",
    "output_parser = StrOutputParser()\n",
    "chain = prompt | model | output_parser\n",
    "message = chain.invoke({\"item1\":\"화분\",\"item2\":\"식물\"})\n",
    "message"
   ]
  },
  {
   "cell_type": "code",
   "execution_count": null,
   "metadata": {},
   "outputs": [],
   "source": []
  }
 ],
 "metadata": {
  "kernelspec": {
   "display_name": "gumi_env310",
   "language": "python",
   "name": "python3"
  },
  "language_info": {
   "codemirror_mode": {
    "name": "ipython",
    "version": 3
   },
   "file_extension": ".py",
   "mimetype": "text/x-python",
   "name": "python",
   "nbconvert_exporter": "python",
   "pygments_lexer": "ipython3",
   "version": "3.10.14"
  }
 },
 "nbformat": 4,
 "nbformat_minor": 2
}
