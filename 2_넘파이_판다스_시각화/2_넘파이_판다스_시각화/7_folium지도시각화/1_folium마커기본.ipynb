{
 "cells": [
  {
   "cell_type": "code",
   "execution_count": 1,
   "metadata": {},
   "outputs": [],
   "source": [
    "import folium\n",
    "from folium.features import DivIcon\n",
    "\n",
    "# 지도 생성\n",
    "m = folium.Map(location=[37.5665, 126.9780], zoom_start=12)\n",
    "\n",
    "# 마커 추가 예시\n",
    "folium.Marker(\n",
    "    location=[37.5665, 126.9780],\n",
    "    popup='<b>서울 시청</b>',\n",
    "    icon=folium.Icon(color='blue', icon='info-sign')\n",
    ").add_to(m)\n",
    "\n",
    "folium.Marker(\n",
    "    location=[37.5512, 126.9882],\n",
    "    popup='<b>남산타워</b>',\n",
    "    icon=folium.Icon(color='red', icon='cloud')\n",
    ").add_to(m)\n",
    "\n",
    "folium.Marker(\n",
    "    location=[37.5796, 126.9770],\n",
    "    popup='<b>경복궁</b>',\n",
    "    icon=folium.Icon(color='green', icon='ok')\n",
    ").add_to(m)\n",
    "\n",
    "folium.Marker(\n",
    "    location=[37.5700, 126.9910],\n",
    "    popup='<b>종로구청</b>',\n",
    "    icon=folium.Icon(color='purple', icon='star')\n",
    ").add_to(m)\n",
    "\n",
    "folium.Marker(\n",
    "    location=[37.5600, 126.9750],\n",
    "    popup='<b>서울역</b>',\n",
    "    icon=folium.Icon(color='orange', icon='flag')\n",
    ").add_to(m)\n",
    "\n",
    "# 커스텀 아이콘 마커 추가 예시\n",
    "folium.Marker(\n",
    "    location=[37.5610, 126.9794],\n",
    "    popup='커스텀 아이콘 예시',\n",
    "    icon=DivIcon(\n",
    "        icon_size=(150,36),\n",
    "        icon_anchor=(7,20),\n",
    "        html='<div style=\"font-size: 12pt; color : black\">📍커스텀</div>',\n",
    "    )\n",
    ").add_to(m)\n",
    "\n",
    "# 지도 보여주기\n",
    "m.save('seoul_map.html')"
   ]
  },
  {
   "cell_type": "code",
   "execution_count": null,
   "metadata": {},
   "outputs": [],
   "source": []
  }
 ],
 "metadata": {
  "kernelspec": {
   "display_name": "2024_mtvs_basic",
   "language": "python",
   "name": "python3"
  },
  "language_info": {
   "codemirror_mode": {
    "name": "ipython",
    "version": 3
   },
   "file_extension": ".py",
   "mimetype": "text/x-python",
   "name": "python",
   "nbconvert_exporter": "python",
   "pygments_lexer": "ipython3",
   "version": "3.11.9"
  }
 },
 "nbformat": 4,
 "nbformat_minor": 2
}
