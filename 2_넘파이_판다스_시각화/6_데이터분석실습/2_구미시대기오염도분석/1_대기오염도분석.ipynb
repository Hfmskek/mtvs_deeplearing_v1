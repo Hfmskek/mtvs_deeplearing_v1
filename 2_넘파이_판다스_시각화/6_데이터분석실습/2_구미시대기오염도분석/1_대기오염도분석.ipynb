{
 "cells": [
  {
   "cell_type": "markdown",
   "metadata": {},
   "source": [
    "### 2. 구미시 대기오염 데이터 분석해보기(예시)\n",
    "1. 데이터 수집: 구미시 대기오염도 정보 (공단동, 원평동, 형곡동, 4공단) \n",
    "- https://www.data.go.kr/data/3071390/fileData.do#tab-layer-openapi\n",
    "2. 데이터 전처리: SO₂, NO₂, O₃, CO, PM10, PM2.5 농도 정리\n",
    "3. 데이터 분석(예시)\n",
    "- 각 구별 대기오염 물질 농도 분석\n",
    "- 계절별 및 시간대별 대기오염 변화 패턴 분석\n",
    "4. 기대되는 인사이트:\n",
    "- 오염이 심한 지역 및 시간대 파악\n",
    "- 대기오염 저감 대책 수립"
   ]
  },
  {
   "cell_type": "code",
   "execution_count": null,
   "metadata": {
    "vscode": {
     "languageId": "plaintext"
    }
   },
   "outputs": [],
   "source": []
  }
 ],
 "metadata": {
  "language_info": {
   "name": "python"
  }
 },
 "nbformat": 4,
 "nbformat_minor": 2
}
