{
 "cells": [
  {
   "cell_type": "markdown",
   "metadata": {},
   "source": [
    "### 교통사고가 많은 지역을 확인하여, 교통사고 원인을 분석해본다\n",
    "1. 목표는 어떻게?\n",
    "2. 데이터 수집은 어떻게?\n",
    "3. 데이터 분석은 어떻게?\n",
    "4. 시각화는 어떻게?\n",
    "5. 결론은 어떻게?"
   ]
  }
 ],
 "metadata": {
  "language_info": {
   "name": "python"
  }
 },
 "nbformat": 4,
 "nbformat_minor": 2
}
