{
 "cells": [
  {
   "cell_type": "code",
   "execution_count": 1,
   "metadata": {},
   "outputs": [],
   "source": [
    "import os\n",
    "from glob import glob"
   ]
  },
  {
   "cell_type": "code",
   "execution_count": 2,
   "metadata": {},
   "outputs": [],
   "source": [
    "base_dir = os.getcwd()"
   ]
  },
  {
   "cell_type": "code",
   "execution_count": 3,
   "metadata": {},
   "outputs": [
    {
     "data": {
      "text/plain": [
       "'c:\\\\Projects\\\\Python_basic\\\\6_딥러닝\\\\3_파이토치비전모델링'"
      ]
     },
     "execution_count": 3,
     "metadata": {},
     "output_type": "execute_result"
    }
   ],
   "source": [
    "base_dir"
   ]
  },
  {
   "cell_type": "code",
   "execution_count": 11,
   "metadata": {},
   "outputs": [
    {
     "data": {
      "text/plain": [
       "['resnet_data']"
      ]
     },
     "execution_count": 11,
     "metadata": {},
     "output_type": "execute_result"
    }
   ],
   "source": [
    "os.listdir(r\"c:\\Projects\\Python_basic\\6_딥러닝\\3_파이토치비전모델링\\data\")"
   ]
  },
  {
   "cell_type": "code",
   "execution_count": 12,
   "metadata": {},
   "outputs": [
    {
     "data": {
      "text/plain": [
       "'c:\\\\Projects\\\\Python_basic\\\\6_딥러닝\\\\3_파이토치비전모델링\\\\*'"
      ]
     },
     "execution_count": 12,
     "metadata": {},
     "output_type": "execute_result"
    }
   ],
   "source": [
    "base_dir + \"\\*\""
   ]
  },
  {
   "cell_type": "code",
   "execution_count": 13,
   "metadata": {},
   "outputs": [
    {
     "data": {
      "text/plain": [
       "['c:\\\\Projects\\\\Python_basic\\\\6_딥러닝\\\\3_파이토치비전모델링\\\\1_CNN구현기본.ipynb',\n",
       " 'c:\\\\Projects\\\\Python_basic\\\\6_딥러닝\\\\3_파이토치비전모델링\\\\2_2_CNN클래스로검증만.ipynb',\n",
       " 'c:\\\\Projects\\\\Python_basic\\\\6_딥러닝\\\\3_파이토치비전모델링\\\\2_CNN클래스구현.ipynb',\n",
       " 'c:\\\\Projects\\\\Python_basic\\\\6_딥러닝\\\\3_파이토치비전모델링\\\\3_VGG.ipynb',\n",
       " 'c:\\\\Projects\\\\Python_basic\\\\6_딥러닝\\\\3_파이토치비전모델링\\\\4_ResNet.ipynb',\n",
       " 'c:\\\\Projects\\\\Python_basic\\\\6_딥러닝\\\\3_파이토치비전모델링\\\\4_ResNet_original.ipynb',\n",
       " 'c:\\\\Projects\\\\Python_basic\\\\6_딥러닝\\\\3_파이토치비전모델링\\\\5_0_이미지스크래핑.ipynb',\n",
       " 'c:\\\\Projects\\\\Python_basic\\\\6_딥러닝\\\\3_파이토치비전모델링\\\\5_1_데이터수집간단.ipynb',\n",
       " 'c:\\\\Projects\\\\Python_basic\\\\6_딥러닝\\\\3_파이토치비전모델링\\\\5_2_연예인분류모델.ipynb',\n",
       " 'c:\\\\Projects\\\\Python_basic\\\\6_딥러닝\\\\3_파이토치비전모델링\\\\폴더관리.ipynb']"
      ]
     },
     "execution_count": 13,
     "metadata": {},
     "output_type": "execute_result"
    }
   ],
   "source": [
    "# 경로까지 다나오려면!\n",
    "glob(base_dir + \"\\*.ipynb\")"
   ]
  }
 ],
 "metadata": {
  "kernelspec": {
   "display_name": "gumi_env310",
   "language": "python",
   "name": "python3"
  },
  "language_info": {
   "codemirror_mode": {
    "name": "ipython",
    "version": 3
   },
   "file_extension": ".py",
   "mimetype": "text/x-python",
   "name": "python",
   "nbconvert_exporter": "python",
   "pygments_lexer": "ipython3",
   "version": "3.10.14"
  }
 },
 "nbformat": 4,
 "nbformat_minor": 2
}
