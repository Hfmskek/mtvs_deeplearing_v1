{
 "cells": [
  {
   "cell_type": "markdown",
   "metadata": {},
   "source": [
    "### 1. ResNet 모델 정의"
   ]
  },
  {
   "cell_type": "code",
   "execution_count": 1,
   "metadata": {},
   "outputs": [],
   "source": [
    "import torch\n",
    "import torch.nn as nn\n",
    "import torchvision.models as models\n",
    "\n",
    "# ResNet 모델 정의\n",
    "model_ResNet = models.resnet18(weights=None, num_classes=10)"
   ]
  },
  {
   "cell_type": "markdown",
   "metadata": {},
   "source": [
    "### 2. 데이터셋 준비"
   ]
  },
  {
   "cell_type": "code",
   "execution_count": 2,
   "metadata": {},
   "outputs": [],
   "source": [
    "import torchvision\n",
    "import torchvision.transforms as transforms\n",
    "import torch.nn as nn\n",
    "import torch.optim as optim\n",
    "from torch.utils.data import DataLoader, random_split\n",
    "import numpy as np\n",
    "from tqdm.notebook import tqdm\n"
   ]
  },
  {
   "cell_type": "code",
   "execution_count": 3,
   "metadata": {},
   "outputs": [
    {
     "ename": "NameError",
     "evalue": "name 'trainloader' is not defined",
     "output_type": "error",
     "traceback": [
      "\u001b[1;31m---------------------------------------------------------------------------\u001b[0m",
      "\u001b[1;31mNameError\u001b[0m                                 Traceback (most recent call last)",
      "Cell \u001b[1;32mIn[3], line 14\u001b[0m\n\u001b[0;32m     11\u001b[0m     std \u001b[38;5;241m=\u001b[39m (channels_squared_sum \u001b[38;5;241m/\u001b[39m num_batches \u001b[38;5;241m-\u001b[39m mean\u001b[38;5;241m*\u001b[39m\u001b[38;5;241m*\u001b[39m\u001b[38;5;241m2\u001b[39m)\u001b[38;5;241m*\u001b[39m\u001b[38;5;241m*\u001b[39m\u001b[38;5;241m0.5\u001b[39m\n\u001b[0;32m     12\u001b[0m     \u001b[38;5;28;01mreturn\u001b[39;00m mean, std\n\u001b[1;32m---> 14\u001b[0m mean, std \u001b[38;5;241m=\u001b[39m get_mean_std(\u001b[43mtrainloader\u001b[49m)\n\u001b[0;32m     15\u001b[0m \u001b[38;5;28mprint\u001b[39m(\u001b[38;5;124mf\u001b[39m\u001b[38;5;124m\"\u001b[39m\u001b[38;5;124mMean: \u001b[39m\u001b[38;5;132;01m{\u001b[39;00mmean\u001b[38;5;132;01m}\u001b[39;00m\u001b[38;5;124m\"\u001b[39m)\n\u001b[0;32m     16\u001b[0m \u001b[38;5;28mprint\u001b[39m(\u001b[38;5;124mf\u001b[39m\u001b[38;5;124m\"\u001b[39m\u001b[38;5;124mStd: \u001b[39m\u001b[38;5;132;01m{\u001b[39;00mstd\u001b[38;5;132;01m}\u001b[39;00m\u001b[38;5;124m\"\u001b[39m)\n",
      "\u001b[1;31mNameError\u001b[0m: name 'trainloader' is not defined"
     ]
    }
   ],
   "source": [
    "# # 평균과 표준편차 계산\n",
    "# def get_mean_std(loader):\n",
    "#     channels_sum, channels_squared_sum, num_batches = 0, 0, 0\n",
    "\n",
    "#     for data, _ in loader:\n",
    "#         channels_sum += torch.mean(data, dim=[0, 2, 3])\n",
    "#         channels_squared_sum += torch.mean(data**2, dim=[0, 2, 3])\n",
    "#         num_batches += 1\n",
    "\n",
    "#     mean = channels_sum / num_batches\n",
    "#     std = (channels_squared_sum / num_batches - mean**2)**0.5\n",
    "#     return mean, std\n",
    "\n",
    "# mean, std = get_mean_std(trainloader)\n",
    "# print(f\"Mean: {mean}\")\n",
    "# print(f\"Std: {std}\")"
   ]
  },
  {
   "cell_type": "code",
   "execution_count": 4,
   "metadata": {},
   "outputs": [
    {
     "name": "stdout",
     "output_type": "stream",
     "text": [
      "Files already downloaded and verified\n",
      "Files already downloaded and verified\n"
     ]
    }
   ],
   "source": [
    "\n",
    "# 데이터셋 로드 (정규화)\n",
    "transform = transforms.Compose([\n",
    "    transforms.Resize((224, 224)),  # VGG는 224x224 크기의 입력\n",
    "    transforms.ToTensor(),\n",
    "    transforms.Normalize((0.4914, 0.4821, 0.4465), (0.2413, 0.2378, 0.2564))\n",
    "])\n",
    "\n",
    "# 전체 데이터셋을 로드하고 나누기\n",
    "dataset = torchvision.datasets.CIFAR10(root='../data', train=True, download=True, transform=transform)\n",
    "\n",
    "# # 학습시간이 길기 때문에 강의를 위해 10프로만 사용해보기\n",
    "# num_samples = int(0.1 * len(dataset))\n",
    "# indices = np.random.choice(len(dataset), num_samples, replace=False)\n",
    "# dataset = torch.utils.data.Subset(dataset, indices)\n",
    "\n",
    "# 학습 및 검증 데이터셋 나누기\n",
    "train_len = int(0.8 * len(dataset))\n",
    "val_len = len(dataset) - train_len\n",
    "trainset, valset = random_split(dataset, [train_len, val_len])\n",
    "\n",
    "\n",
    "# 데이터 로더 정의\n",
    "trainloader = DataLoader(trainset, batch_size=64, shuffle=True, num_workers=4, pin_memory=True)\n",
    "valloader = DataLoader(valset, batch_size=64, shuffle=False)\n",
    "testset = torchvision.datasets.CIFAR10(root='../data', train=False, download=True, transform=transform)\n",
    "testloader = DataLoader(testset, batch_size=64, shuffle=False, num_workers=4, pin_memory=True)\n",
    "\n",
    "classes = ('plane', 'car', 'bird', 'cat', 'deer', 'dog', 'frog', 'horse', 'ship', 'truck')"
   ]
  },
  {
   "cell_type": "markdown",
   "metadata": {},
   "source": [
    "### 3. 손실 함수와 옵티마이저 정의"
   ]
  },
  {
   "cell_type": "code",
   "execution_count": 5,
   "metadata": {},
   "outputs": [],
   "source": [
    "criterion = nn.CrossEntropyLoss()\n",
    "optimizer = torch.optim.Adam(model_ResNet.parameters(), lr=0.001)"
   ]
  },
  {
   "cell_type": "markdown",
   "metadata": {},
   "source": [
    "### 4. 학습 함수 정의"
   ]
  },
  {
   "cell_type": "code",
   "execution_count": 6,
   "metadata": {},
   "outputs": [],
   "source": [
    "import torchmetrics\n",
    "\n",
    "def train_and_validate(model, train_loader, val_loader, optimizer, criterion, epochs, device):\n",
    "    train_losses = []\n",
    "    val_losses = []\n",
    "    train_accuracies = []\n",
    "    val_accuracies = []\n",
    "    \n",
    "    model = model.to(device)\n",
    "\n",
    "    # 옵티마이저 다시 설정\n",
    "    optimizer = torch.optim.Adam(model.parameters(), lr=0.001)\n",
    "\n",
    "    for epoch in range(epochs):\n",
    "        # 모델을 학습 모드로 설정\n",
    "        model.train()\n",
    "        running_loss = 0.0\n",
    "        train_accuracy_metric = torchmetrics.Accuracy(task='multiclass', num_classes=10, average='macro').to(device)\n",
    "\n",
    "        # 학습 데이터에 대한 반복\n",
    "        for inputs, labels in tqdm(train_loader, desc=f\"Epoch {epoch+1}/{epochs} - 학습중\"):\n",
    "            inputs, labels = inputs.to(device), labels.to(device)\n",
    "            optimizer.zero_grad()  # 그라디언트 초기화\n",
    "            outputs = model(inputs)  # 모델을 통한 예측\n",
    "            loss = criterion(outputs, labels)  # 손실 계산\n",
    "            loss.backward()  # 역전파\n",
    "            optimizer.step()  # 최적화 단계\n",
    "\n",
    "            running_loss += loss.item()\n",
    "            # 학습 정확도 계산\n",
    "            train_accuracy_metric.update(outputs, labels)\n",
    "\n",
    "        # 에포크의 평균 학습 손실 계산\n",
    "        epoch_loss = running_loss / len(train_loader)\n",
    "        train_losses.append(epoch_loss)\n",
    "\n",
    "        train_accuracy = train_accuracy_metric.compute().item()\n",
    "        train_accuracies.append(train_accuracy)\n",
    "\n",
    "        print(f'Epoch [{epoch + 1}/{epochs}] - Training loss: {epoch_loss:.3f} / Train acc : {train_accuracy:2%}')\n",
    "\n",
    "        # 검증 과정\n",
    "        model.eval()  # 모델을 평가 모드로 설정\n",
    "        running_val_loss = 0.0\n",
    "        val_accuracy_metric = torchmetrics.Accuracy(task='multiclass', num_classes=10, average='macro').to(device)\n",
    "\n",
    "        with torch.no_grad():\n",
    "            for inputs, labels in tqdm(val_loader, desc=f\"Epoch {epoch+1}/{epochs} - 평가중\"):\n",
    "                inputs, labels = inputs.to(device), labels.to(device)\n",
    "                outputs = model(inputs)\n",
    "                loss = criterion(outputs, labels)\n",
    "                running_val_loss += loss.item()\n",
    "                val_accuracy_metric.update(outputs, labels)\n",
    "\n",
    "\n",
    "        # 에포크의 평균 검증 손실 계산\n",
    "        epoch_val_loss = running_val_loss / len(val_loader)\n",
    "        val_losses.append(epoch_val_loss)\n",
    "        val_accuracy = val_accuracy_metric.compute().item()\n",
    "        val_accuracies.append(val_accuracy)\n",
    "\n",
    "        print(f'Epoch [{epoch + 1}/{epochs}] - Validation loss: {epoch_val_loss:.3f} / Val acc : {val_accuracy:2%}')\n",
    "\n",
    "    return train_losses, val_losses, train_accuracies, val_accuracies"
   ]
  },
  {
   "cell_type": "markdown",
   "metadata": {},
   "source": [
    "### 5. 테스트 함수 정의"
   ]
  },
  {
   "cell_type": "code",
   "execution_count": 7,
   "metadata": {},
   "outputs": [],
   "source": [
    "def evaluate(model, loader, device):\n",
    "    model.eval()\n",
    "    accuracy_metric = torchmetrics.Accuracy(task='multiclass', num_classes=10, average='macro').to(device)\n",
    "    with torch.no_grad():\n",
    "        for data in tqdm(loader, desc=f\"최종평가중\"):\n",
    "            inputs, labels = data\n",
    "            inputs, labels = inputs.to(device), labels.to(device)\n",
    "\n",
    "            outputs = model(inputs)\n",
    "            # 정확도 업데이트\n",
    "            accuracy_metric.update(outputs, labels)\n",
    "    accuracy = accuracy_metric.compute()  # 정확도 계산\n",
    "    print(f'테스트 이미지 정확도 계산: {accuracy.item() * 100:.2f}%')\n",
    "    return accuracy.item()\n"
   ]
  },
  {
   "cell_type": "markdown",
   "metadata": {},
   "source": [
    "### 6. 모델 학습"
   ]
  },
  {
   "cell_type": "code",
   "execution_count": 8,
   "metadata": {},
   "outputs": [
    {
     "data": {
      "application/vnd.jupyter.widget-view+json": {
       "model_id": "111f3026f96b40d29bb57293f4ef0c8c",
       "version_major": 2,
       "version_minor": 0
      },
      "text/plain": [
       "Epoch 1/10 - 학습중:   0%|          | 0/625 [00:00<?, ?it/s]"
      ]
     },
     "metadata": {},
     "output_type": "display_data"
    },
    {
     "name": "stdout",
     "output_type": "stream",
     "text": [
      "Epoch [1/10] - Training loss: 1.469 / Train acc : 46.107438%\n"
     ]
    },
    {
     "data": {
      "application/vnd.jupyter.widget-view+json": {
       "model_id": "07f0869a9bdb45bd9d92e5aa49a353ec",
       "version_major": 2,
       "version_minor": 0
      },
      "text/plain": [
       "Epoch 1/10 - 평가중:   0%|          | 0/157 [00:00<?, ?it/s]"
      ]
     },
     "metadata": {},
     "output_type": "display_data"
    },
    {
     "name": "stdout",
     "output_type": "stream",
     "text": [
      "Epoch [1/10] - Validation loss: 1.370 / Val acc : 50.885701%\n"
     ]
    },
    {
     "data": {
      "application/vnd.jupyter.widget-view+json": {
       "model_id": "5fce6fae78214c0491425df9ca70f680",
       "version_major": 2,
       "version_minor": 0
      },
      "text/plain": [
       "Epoch 2/10 - 학습중:   0%|          | 0/625 [00:00<?, ?it/s]"
      ]
     },
     "metadata": {},
     "output_type": "display_data"
    },
    {
     "name": "stdout",
     "output_type": "stream",
     "text": [
      "Epoch [2/10] - Training loss: 0.914 / Train acc : 67.543960%\n"
     ]
    },
    {
     "data": {
      "application/vnd.jupyter.widget-view+json": {
       "model_id": "e4dbc54b3a3248f98763ed8fa56d9ca8",
       "version_major": 2,
       "version_minor": 0
      },
      "text/plain": [
       "Epoch 2/10 - 평가중:   0%|          | 0/157 [00:00<?, ?it/s]"
      ]
     },
     "metadata": {},
     "output_type": "display_data"
    },
    {
     "name": "stdout",
     "output_type": "stream",
     "text": [
      "Epoch [2/10] - Validation loss: 0.943 / Val acc : 67.428553%\n"
     ]
    },
    {
     "data": {
      "application/vnd.jupyter.widget-view+json": {
       "model_id": "6a53b2be1d0b40d997c3ab74815edd3d",
       "version_major": 2,
       "version_minor": 0
      },
      "text/plain": [
       "Epoch 3/10 - 학습중:   0%|          | 0/625 [00:00<?, ?it/s]"
      ]
     },
     "metadata": {},
     "output_type": "display_data"
    },
    {
     "name": "stdout",
     "output_type": "stream",
     "text": [
      "Epoch [3/10] - Training loss: 0.690 / Train acc : 75.906283%\n"
     ]
    },
    {
     "data": {
      "application/vnd.jupyter.widget-view+json": {
       "model_id": "7ef9eb9eb0ff41e28342ec9086c6b9fc",
       "version_major": 2,
       "version_minor": 0
      },
      "text/plain": [
       "Epoch 3/10 - 평가중:   0%|          | 0/157 [00:00<?, ?it/s]"
      ]
     },
     "metadata": {},
     "output_type": "display_data"
    },
    {
     "name": "stdout",
     "output_type": "stream",
     "text": [
      "Epoch [3/10] - Validation loss: 0.705 / Val acc : 75.411230%\n"
     ]
    },
    {
     "data": {
      "application/vnd.jupyter.widget-view+json": {
       "model_id": "8c4658c974754aa6b30964f882fca4ba",
       "version_major": 2,
       "version_minor": 0
      },
      "text/plain": [
       "Epoch 4/10 - 학습중:   0%|          | 0/625 [00:00<?, ?it/s]"
      ]
     },
     "metadata": {},
     "output_type": "display_data"
    },
    {
     "name": "stdout",
     "output_type": "stream",
     "text": [
      "Epoch [4/10] - Training loss: 0.540 / Train acc : 81.181449%\n"
     ]
    },
    {
     "data": {
      "application/vnd.jupyter.widget-view+json": {
       "model_id": "92e273ebd76544c5a55a6b9faf25ba63",
       "version_major": 2,
       "version_minor": 0
      },
      "text/plain": [
       "Epoch 4/10 - 평가중:   0%|          | 0/157 [00:00<?, ?it/s]"
      ]
     },
     "metadata": {},
     "output_type": "display_data"
    },
    {
     "name": "stdout",
     "output_type": "stream",
     "text": [
      "Epoch [4/10] - Validation loss: 0.717 / Val acc : 75.682735%\n"
     ]
    },
    {
     "data": {
      "application/vnd.jupyter.widget-view+json": {
       "model_id": "ef932af938274d15bf81e21dfa1e7280",
       "version_major": 2,
       "version_minor": 0
      },
      "text/plain": [
       "Epoch 5/10 - 학습중:   0%|          | 0/625 [00:00<?, ?it/s]"
      ]
     },
     "metadata": {},
     "output_type": "display_data"
    },
    {
     "name": "stdout",
     "output_type": "stream",
     "text": [
      "Epoch [5/10] - Training loss: 0.443 / Train acc : 84.519404%\n"
     ]
    },
    {
     "data": {
      "application/vnd.jupyter.widget-view+json": {
       "model_id": "bbc9568d9c62474e976a6cff2a70fe4d",
       "version_major": 2,
       "version_minor": 0
      },
      "text/plain": [
       "Epoch 5/10 - 평가중:   0%|          | 0/157 [00:00<?, ?it/s]"
      ]
     },
     "metadata": {},
     "output_type": "display_data"
    },
    {
     "name": "stdout",
     "output_type": "stream",
     "text": [
      "Epoch [5/10] - Validation loss: 0.551 / Val acc : 81.399333%\n"
     ]
    },
    {
     "data": {
      "application/vnd.jupyter.widget-view+json": {
       "model_id": "cda353596c4a4a31989d6d41efd3b02d",
       "version_major": 2,
       "version_minor": 0
      },
      "text/plain": [
       "Epoch 6/10 - 학습중:   0%|          | 0/625 [00:00<?, ?it/s]"
      ]
     },
     "metadata": {},
     "output_type": "display_data"
    },
    {
     "name": "stdout",
     "output_type": "stream",
     "text": [
      "Epoch [6/10] - Training loss: 0.344 / Train acc : 87.882423%\n"
     ]
    },
    {
     "data": {
      "application/vnd.jupyter.widget-view+json": {
       "model_id": "4850f18b96bd443a86cd51d0dc2c06c2",
       "version_major": 2,
       "version_minor": 0
      },
      "text/plain": [
       "Epoch 6/10 - 평가중:   0%|          | 0/157 [00:00<?, ?it/s]"
      ]
     },
     "metadata": {},
     "output_type": "display_data"
    },
    {
     "name": "stdout",
     "output_type": "stream",
     "text": [
      "Epoch [6/10] - Validation loss: 0.606 / Val acc : 80.127275%\n"
     ]
    },
    {
     "data": {
      "application/vnd.jupyter.widget-view+json": {
       "model_id": "04f9efe1f2834d97b99e8f15b7ff79d6",
       "version_major": 2,
       "version_minor": 0
      },
      "text/plain": [
       "Epoch 7/10 - 학습중:   0%|          | 0/625 [00:00<?, ?it/s]"
      ]
     },
     "metadata": {},
     "output_type": "display_data"
    },
    {
     "name": "stdout",
     "output_type": "stream",
     "text": [
      "Epoch [7/10] - Training loss: 0.261 / Train acc : 90.842664%\n"
     ]
    },
    {
     "data": {
      "application/vnd.jupyter.widget-view+json": {
       "model_id": "7759365733be4d0191a367ee257ddf9e",
       "version_major": 2,
       "version_minor": 0
      },
      "text/plain": [
       "Epoch 7/10 - 평가중:   0%|          | 0/157 [00:00<?, ?it/s]"
      ]
     },
     "metadata": {},
     "output_type": "display_data"
    },
    {
     "name": "stdout",
     "output_type": "stream",
     "text": [
      "Epoch [7/10] - Validation loss: 0.562 / Val acc : 82.124209%\n"
     ]
    },
    {
     "data": {
      "application/vnd.jupyter.widget-view+json": {
       "model_id": "6b73e91d6363465d83149e3e537db181",
       "version_major": 2,
       "version_minor": 0
      },
      "text/plain": [
       "Epoch 8/10 - 학습중:   0%|          | 0/625 [00:00<?, ?it/s]"
      ]
     },
     "metadata": {},
     "output_type": "display_data"
    },
    {
     "name": "stdout",
     "output_type": "stream",
     "text": [
      "Epoch [8/10] - Training loss: 0.186 / Train acc : 93.299705%\n"
     ]
    },
    {
     "data": {
      "application/vnd.jupyter.widget-view+json": {
       "model_id": "674869f1f528489cb5c12829951fee71",
       "version_major": 2,
       "version_minor": 0
      },
      "text/plain": [
       "Epoch 8/10 - 평가중:   0%|          | 0/157 [00:00<?, ?it/s]"
      ]
     },
     "metadata": {},
     "output_type": "display_data"
    },
    {
     "name": "stdout",
     "output_type": "stream",
     "text": [
      "Epoch [8/10] - Validation loss: 0.560 / Val acc : 83.098304%\n"
     ]
    },
    {
     "data": {
      "application/vnd.jupyter.widget-view+json": {
       "model_id": "6d31058f4d9d41ddbf3233c311247147",
       "version_major": 2,
       "version_minor": 0
      },
      "text/plain": [
       "Epoch 9/10 - 학습중:   0%|          | 0/625 [00:00<?, ?it/s]"
      ]
     },
     "metadata": {},
     "output_type": "display_data"
    },
    {
     "name": "stdout",
     "output_type": "stream",
     "text": [
      "Epoch [9/10] - Training loss: 0.132 / Train acc : 95.309448%\n"
     ]
    },
    {
     "data": {
      "application/vnd.jupyter.widget-view+json": {
       "model_id": "48f99021612a472fadff0ecbc38a1948",
       "version_major": 2,
       "version_minor": 0
      },
      "text/plain": [
       "Epoch 9/10 - 평가중:   0%|          | 0/157 [00:00<?, ?it/s]"
      ]
     },
     "metadata": {},
     "output_type": "display_data"
    },
    {
     "name": "stdout",
     "output_type": "stream",
     "text": [
      "Epoch [9/10] - Validation loss: 0.688 / Val acc : 81.359750%\n"
     ]
    },
    {
     "data": {
      "application/vnd.jupyter.widget-view+json": {
       "model_id": "60d5912bbc2b433e88cbe65e50c8e44c",
       "version_major": 2,
       "version_minor": 0
      },
      "text/plain": [
       "Epoch 10/10 - 학습중:   0%|          | 0/625 [00:00<?, ?it/s]"
      ]
     },
     "metadata": {},
     "output_type": "display_data"
    },
    {
     "name": "stdout",
     "output_type": "stream",
     "text": [
      "Epoch [10/10] - Training loss: 0.098 / Train acc : 96.561265%\n"
     ]
    },
    {
     "data": {
      "application/vnd.jupyter.widget-view+json": {
       "model_id": "36de0327c47f444e8934512fb4743562",
       "version_major": 2,
       "version_minor": 0
      },
      "text/plain": [
       "Epoch 10/10 - 평가중:   0%|          | 0/157 [00:00<?, ?it/s]"
      ]
     },
     "metadata": {},
     "output_type": "display_data"
    },
    {
     "name": "stdout",
     "output_type": "stream",
     "text": [
      "Epoch [10/10] - Validation loss: 0.744 / Val acc : 81.272966%\n"
     ]
    }
   ],
   "source": [
    "device = torch.device(\"cuda\")\n",
    "history = train_and_validate(model_ResNet, trainloader, valloader, optimizer, criterion, epochs=10, device=device)"
   ]
  },
  {
   "cell_type": "markdown",
   "metadata": {},
   "source": [
    "### 7. 학습 과정 시각화 해보기"
   ]
  },
  {
   "cell_type": "code",
   "execution_count": 9,
   "metadata": {},
   "outputs": [
    {
     "data": {
      "image/png": "[encoded data removed]",
      "text/plain": [
       "<Figure size 640x480 with 1 Axes>"
      ]
     },
     "metadata": {},
     "output_type": "display_data"
    }
   ],
   "source": [
    "import matplotlib.pyplot as plt\n",
    "\n",
    "# train_and_validate 함수로부터 손실 기록 받기\n",
    "train_losses, val_losses = history[:2]\n",
    "\n",
    "# 에포크 번호를 기준으로 그래프를 그립니다.\n",
    "epochs = range(1, len(train_losses) + 1)\n",
    "\n",
    "# 학습 및 검증 손실 그래프 그리기\n",
    "plt.plot(epochs, train_losses, 'bo-', label='Training loss')\n",
    "plt.plot(epochs, val_losses, 'ro-', label='Validation loss')\n",
    "plt.title('Training and Validation loss')\n",
    "plt.xlabel('Epochs')\n",
    "plt.ylabel('Loss')\n",
    "plt.legend()\n",
    "\n",
    "plt.show()"
   ]
  },
  {
   "cell_type": "code",
   "execution_count": 10,
   "metadata": {},
   "outputs": [
    {
     "data": {
      "image/png": "[encoded data removed]",
      "text/plain": [
       "<Figure size 640x480 with 1 Axes>"
      ]
     },
     "metadata": {},
     "output_type": "display_data"
    }
   ],
   "source": [
    "# train_and_validate 함수로부터 손실 기록 받기\n",
    "train_accies, val_accies = history[2:]\n",
    "\n",
    "# 에포크 번호를 기준으로 그래프를 그립니다.\n",
    "epochs = range(1, len(train_losses) + 1)\n",
    "\n",
    "# 학습 및 검증 손실 그래프 그리기\n",
    "plt.plot(epochs, train_accies, 'bo-', label='Training acc')\n",
    "plt.plot(epochs, val_accies, 'ro-', label='Validation acc')\n",
    "plt.title('Training and Validation acc')\n",
    "plt.xlabel('Epochs')\n",
    "plt.ylabel('Loss')\n",
    "plt.legend()\n",
    "\n",
    "plt.show()"
   ]
  },
  {
   "cell_type": "markdown",
   "metadata": {},
   "source": [
    "### 8. 최종 모델 평가 해보기"
   ]
  },
  {
   "cell_type": "code",
   "execution_count": 11,
   "metadata": {},
   "outputs": [
    {
     "data": {
      "application/vnd.jupyter.widget-view+json": {
       "model_id": "92484d957f6548509cb3ac99cfce97bb",
       "version_major": 2,
       "version_minor": 0
      },
      "text/plain": [
       "최종평가중:   0%|          | 0/157 [00:00<?, ?it/s]"
      ]
     },
     "metadata": {},
     "output_type": "display_data"
    },
    {
     "name": "stdout",
     "output_type": "stream",
     "text": [
      "테스트 이미지 정확도 계산: 80.77%\n"
     ]
    },
    {
     "data": {
      "text/plain": [
       "0.8077000379562378"
      ]
     },
     "execution_count": 11,
     "metadata": {},
     "output_type": "execute_result"
    }
   ],
   "source": [
    "evaluate(model_ResNet, testloader, device)"
   ]
  },
  {
   "cell_type": "code",
   "execution_count": 12,
   "metadata": {},
   "outputs": [],
   "source": [
    "# 정규화를 원래대로 되돌리는 함수\n",
    "def denormalize(tensor, mean, std):\n",
    "    for t, m, s in zip(tensor, mean, std):\n",
    "        t.mul_(s).add_(m)\n",
    "    return tensor\n",
    "# 이미지 시각화\n",
    "mean = (0.4914, 0.4821, 0.4465)\n",
    "std = (0.2413, 0.2378, 0.2564)"
   ]
  },
  {
   "cell_type": "code",
   "execution_count": 14,
   "metadata": {},
   "outputs": [
    {
     "name": "stdout",
     "output_type": "stream",
     "text": [
      "예측결과 :  plane\n"
     ]
    }
   ],
   "source": [
    "# 새로운 이미지로 테스트 해보기\n",
    "from PIL import Image\n",
    "image_path = \"./비행기.jpeg\"\n",
    "image = Image.open(image_path)\n",
    "image = transform(image).unsqueeze(0)  # 배치 차원을 추가합니다.\n",
    "model_ResNet.eval()\n",
    "image = image.to(device)\n",
    "outputs = model_ResNet(image)\n",
    "_, pred = torch.max(outputs, 1)\n",
    "print(\"예측결과 : \", classes[pred])"
   ]
  }
 ],
 "metadata": {
  "kernelspec": {
   "display_name": "gumi_env310",
   "language": "python",
   "name": "python3"
  },
  "language_info": {
   "codemirror_mode": {
    "name": "ipython",
    "version": 3
   },
   "file_extension": ".py",
   "mimetype": "text/x-python",
   "name": "python",
   "nbconvert_exporter": "python",
   "pygments_lexer": "ipython3",
   "version": "3.10.14"
  }
 },
 "nbformat": 4,
 "nbformat_minor": 2
}
