{
 "cells": [
  {
   "cell_type": "markdown",
   "metadata": {},
   "source": [
    "### 1. 함수형태로 제작\n",
    "### 2. 진행과정을 눈으로 확인해보기\n",
    "### 1. 필요 모듈 불러오기"
   ]
  },
  {
   "cell_type": "code",
   "execution_count": 1,
   "metadata": {},
   "outputs": [],
   "source": [
    "import torch\n",
    "import torch.nn as nn\n",
    "import torchvision.models as models\n",
    "import torchvision.transforms as transforms\n",
    "import torch.optim as optim\n",
    "from torch.utils.data import DataLoader, random_split\n",
    "import numpy as np\n",
    "import matplotlib.pyplot as plt\n",
    "import torchvision\n",
    "from torchvision.datasets import CIFAR10"
   ]
  },
  {
   "cell_type": "markdown",
   "metadata": {},
   "source": [
    "### 2. 데이터 불러오기"
   ]
  },
  {
   "cell_type": "code",
   "execution_count": 2,
   "metadata": {},
   "outputs": [
    {
     "name": "stdout",
     "output_type": "stream",
     "text": [
      "Files already downloaded and verified\n"
     ]
    }
   ],
   "source": [
    "# 데이터셋 로드 (정규화 없이)\n",
    "transform = transforms.Compose([\n",
    "    transforms.Resize((224, 224)),  # VGG는 224x224 크기의 입력\n",
    "    transforms.ToTensor()\n",
    "])\n",
    "\n",
    "trainset = torchvision.datasets.CIFAR10(root='../data', train=True, download=True, transform=transform)\n",
    "trainloader = DataLoader(trainset, batch_size=64, shuffle=True)\n"
   ]
  },
  {
   "cell_type": "markdown",
   "metadata": {},
   "source": [
    "- 2-1 평균과 표준편차 구하기"
   ]
  },
  {
   "cell_type": "code",
   "execution_count": 3,
   "metadata": {},
   "outputs": [
    {
     "name": "stdout",
     "output_type": "stream",
     "text": [
      "Mean: tensor([0.4915, 0.4822, 0.4466])\n",
      "Std: tensor([0.2413, 0.2378, 0.2565])\n"
     ]
    }
   ],
   "source": [
    "# 평균과 표준편차 계산\n",
    "def get_mean_std(loader):\n",
    "    channels_sum, channels_squared_sum, num_batches = 0, 0, 0\n",
    "\n",
    "    for data, _ in loader:\n",
    "        channels_sum += torch.mean(data, dim=[0, 2, 3])\n",
    "        channels_squared_sum += torch.mean(data**2, dim=[0, 2, 3])\n",
    "        num_batches += 1\n",
    "\n",
    "    mean = channels_sum / num_batches\n",
    "    std = (channels_squared_sum / num_batches - mean**2)**0.5\n",
    "    return mean, std\n",
    "\n",
    "mean, std = get_mean_std(trainloader)\n",
    "print(f\"Mean: {mean}\")\n",
    "print(f\"Std: {std}\")"
   ]
  },
  {
   "cell_type": "code",
   "execution_count": 4,
   "metadata": {},
   "outputs": [],
   "source": [
    "# 데이터셋 로드 (정규화)\n",
    "transform = transforms.Compose([\n",
    "    transforms.Resize((224, 224)),  # VGG는 224x224 크기의 입력\n",
    "    transforms.ToTensor(),\n",
    "    transforms.Normalize(mean=(0.4914, 0.4821, 0.4465), std=(0.2413, 0.2378, 0.2564))\n",
    "])"
   ]
  },
  {
   "cell_type": "code",
   "execution_count": 5,
   "metadata": {},
   "outputs": [
    {
     "name": "stdout",
     "output_type": "stream",
     "text": [
      "Files already downloaded and verified\n",
      "Files already downloaded and verified\n"
     ]
    }
   ],
   "source": [
    "dataset = CIFAR10(root='../data', train=True, download=True, transform=transform)\n",
    "testset = CIFAR10(root=\"../data\", train=False, download=True, transform=transform)"
   ]
  },
  {
   "cell_type": "code",
   "execution_count": 6,
   "metadata": {},
   "outputs": [
    {
     "data": {
      "text/plain": [
       "(50000, 10000)"
      ]
     },
     "execution_count": 6,
     "metadata": {},
     "output_type": "execute_result"
    }
   ],
   "source": [
    "len(dataset), len(testset)"
   ]
  },
  {
   "cell_type": "code",
   "execution_count": 7,
   "metadata": {},
   "outputs": [],
   "source": [
    "trainset, valset = random_split(dataset, [int(len(dataset)*0.8), int(len(dataset)*0.2)])"
   ]
  },
  {
   "cell_type": "code",
   "execution_count": 8,
   "metadata": {},
   "outputs": [
    {
     "data": {
      "text/plain": [
       "(40000, 10000, 10000)"
      ]
     },
     "execution_count": 8,
     "metadata": {},
     "output_type": "execute_result"
    }
   ],
   "source": [
    "len(trainset), len(valset), len(testset)"
   ]
  },
  {
   "cell_type": "code",
   "execution_count": 9,
   "metadata": {},
   "outputs": [],
   "source": [
    "batch_size = 64\n",
    "\n",
    "# loader 만들기\n",
    "train_loader = DataLoader(trainset, batch_size = batch_size, shuffle=True) \n",
    "val_loader = DataLoader(valset, batch_size = batch_size, shuffle=False) \n",
    "test_loader = DataLoader(testset, batch_size = batch_size, shuffle=False) "
   ]
  },
  {
   "cell_type": "markdown",
   "metadata": {},
   "source": [
    "### 3. 모델 설정하기"
   ]
  },
  {
   "cell_type": "code",
   "execution_count": 10,
   "metadata": {},
   "outputs": [],
   "source": [
    "model_ResNet = models.resnet18(weights=None, num_classes=10)"
   ]
  },
  {
   "cell_type": "markdown",
   "metadata": {},
   "source": [
    "### 4. 손실함수와 옵티마이저 설정"
   ]
  },
  {
   "cell_type": "code",
   "execution_count": 11,
   "metadata": {},
   "outputs": [],
   "source": [
    "criterion = nn.CrossEntropyLoss()\n",
    "optimizer = torch.optim.Adam(model_ResNet.parameters(), lr=0.01)"
   ]
  },
  {
   "cell_type": "code",
   "execution_count": 12,
   "metadata": {},
   "outputs": [],
   "source": [
    "classes = ('plane', 'car', 'bird', 'cat', 'deer', 'dog', 'frog', 'horse', 'ship', 'truck')"
   ]
  },
  {
   "cell_type": "markdown",
   "metadata": {},
   "source": [
    "### 5.학습함수 정의"
   ]
  },
  {
   "cell_type": "code",
   "execution_count": 14,
   "metadata": {},
   "outputs": [],
   "source": [
    "import torchmetrics\n",
    "from tqdm.notebook import tqdm\n",
    "\n",
    "# train 과 val 과정중의 loss값과 accuracy 값을 저장하는것이 목표\n",
    "def train_and_validate(model, train_loader, val_loader, criterion, epochs, device):\n",
    "    train_losses = []\n",
    "    val_losses = []\n",
    "\n",
    "    train_accuracies = []\n",
    "    val_accuracies = []\n",
    "\n",
    "    model = model.to(device)\n",
    "    \n",
    "    # 옵티마이저 다시 설정\n",
    "    optimizer = optim.Adam(model.parameters(), lr=0.01)\n",
    "\n",
    "    for epoch in range(epochs):\n",
    "        # 모델 학습용으로 설정\n",
    "        model.train()\n",
    "        running_loss = 0.0\n",
    "\n",
    "        train_accuracy_metrics = torchmetrics.Accuracy(task=\"multiclass\", num_classes=10, average='macro').to(device)\n",
    "\n",
    "        # 학습 진행해보기\n",
    "        for inputs, labels in tqdm(train_loader, desc=f\"{epoch} 별 학습 진행중\"):\n",
    "            inputs, labels = inputs.to(device), labels.to(device)\n",
    "            \n",
    "            # 그라디언트 초기화\n",
    "            optimizer.zero_grad()\n",
    "            outputs = model(inputs) # 결과\n",
    "            loss = criterion(outputs, labels)\n",
    "            loss.backward() # 역전파\n",
    "            optimizer.step()\n",
    "\n",
    "            running_loss += loss.item()\n",
    "            \n",
    "            # 학습 정확도 계산\n",
    "            train_accuracy_metrics.update(outputs, labels)\n",
    "        \n",
    "        # 에포크별 학습손실 계산\n",
    "        epoch_loss = running_loss / len(train_loader)\n",
    "        train_losses.append(epoch_loss)\n",
    "\n",
    "        # 정확도 계산\n",
    "        train_accuracy = train_accuracy_metrics.compute().item()\n",
    "        train_accuracies.append(train_accuracy)\n",
    "\n",
    "        print(f\"에포크별 학습 loss : {epoch_loss:.3f} / 학습 정확도 : {train_accuracy:.2%}\")\n",
    "\n",
    "    return train_losses, val_losses, train_accuracies, val_accuracies"
   ]
  },
  {
   "cell_type": "markdown",
   "metadata": {},
   "source": [
    "### 7. 모델학습"
   ]
  },
  {
   "cell_type": "code",
   "execution_count": 15,
   "metadata": {},
   "outputs": [
    {
     "data": {
      "application/vnd.jupyter.widget-view+json": {
       "model_id": "324d88ccc3bd42af8378f9efbc7a531f",
       "version_major": 2,
       "version_minor": 0
      },
      "text/plain": [
       "0 별 학습 진행중:   0%|          | 0/625 [00:00<?, ?it/s]"
      ]
     },
     "metadata": {},
     "output_type": "display_data"
    },
    {
     "name": "stdout",
     "output_type": "stream",
     "text": [
      "에포크별 학습 loss : 1.774 / 학습 정확도 : 34.48%\n"
     ]
    },
    {
     "data": {
      "application/vnd.jupyter.widget-view+json": {
       "model_id": "9a2ca1b83fa648f7a25837ffe4f14d5a",
       "version_major": 2,
       "version_minor": 0
      },
      "text/plain": [
       "1 별 학습 진행중:   0%|          | 0/625 [00:00<?, ?it/s]"
      ]
     },
     "metadata": {},
     "output_type": "display_data"
    },
    {
     "name": "stdout",
     "output_type": "stream",
     "text": [
      "에포크별 학습 loss : 1.278 / 학습 정확도 : 53.59%\n"
     ]
    },
    {
     "data": {
      "application/vnd.jupyter.widget-view+json": {
       "model_id": "5c6f803708f04de7946302331083bda2",
       "version_major": 2,
       "version_minor": 0
      },
      "text/plain": [
       "2 별 학습 진행중:   0%|          | 0/625 [00:00<?, ?it/s]"
      ]
     },
     "metadata": {},
     "output_type": "display_data"
    },
    {
     "name": "stdout",
     "output_type": "stream",
     "text": [
      "에포크별 학습 loss : 0.940 / 학습 정확도 : 66.39%\n"
     ]
    },
    {
     "data": {
      "application/vnd.jupyter.widget-view+json": {
       "model_id": "bd5b3ae568ea43fb8764bbe2b6588251",
       "version_major": 2,
       "version_minor": 0
      },
      "text/plain": [
       "3 별 학습 진행중:   0%|          | 0/625 [00:00<?, ?it/s]"
      ]
     },
     "metadata": {},
     "output_type": "display_data"
    },
    {
     "name": "stdout",
     "output_type": "stream",
     "text": [
      "에포크별 학습 loss : 0.700 / 학습 정확도 : 75.25%\n"
     ]
    },
    {
     "data": {
      "application/vnd.jupyter.widget-view+json": {
       "model_id": "2c68c6cb36934af48ece05bcf6f61c00",
       "version_major": 2,
       "version_minor": 0
      },
      "text/plain": [
       "4 별 학습 진행중:   0%|          | 0/625 [00:00<?, ?it/s]"
      ]
     },
     "metadata": {},
     "output_type": "display_data"
    },
    {
     "name": "stdout",
     "output_type": "stream",
     "text": [
      "에포크별 학습 loss : 0.521 / 학습 정확도 : 81.77%\n"
     ]
    },
    {
     "data": {
      "application/vnd.jupyter.widget-view+json": {
       "model_id": "f7d07da6226f4f57b0b492997f94188c",
       "version_major": 2,
       "version_minor": 0
      },
      "text/plain": [
       "5 별 학습 진행중:   0%|          | 0/625 [00:00<?, ?it/s]"
      ]
     },
     "metadata": {},
     "output_type": "display_data"
    },
    {
     "name": "stdout",
     "output_type": "stream",
     "text": [
      "에포크별 학습 loss : 0.383 / 학습 정확도 : 86.62%\n"
     ]
    },
    {
     "data": {
      "application/vnd.jupyter.widget-view+json": {
       "model_id": "5f74c3be3654460d99d9fc989e5ce7b9",
       "version_major": 2,
       "version_minor": 0
      },
      "text/plain": [
       "6 별 학습 진행중:   0%|          | 0/625 [00:00<?, ?it/s]"
      ]
     },
     "metadata": {},
     "output_type": "display_data"
    },
    {
     "name": "stdout",
     "output_type": "stream",
     "text": [
      "에포크별 학습 loss : 0.263 / 학습 정확도 : 90.86%\n"
     ]
    },
    {
     "data": {
      "application/vnd.jupyter.widget-view+json": {
       "model_id": "07d34e6737c24168ab2ecc162226456d",
       "version_major": 2,
       "version_minor": 0
      },
      "text/plain": [
       "7 별 학습 진행중:   0%|          | 0/625 [00:00<?, ?it/s]"
      ]
     },
     "metadata": {},
     "output_type": "display_data"
    },
    {
     "name": "stdout",
     "output_type": "stream",
     "text": [
      "에포크별 학습 loss : 0.183 / 학습 정확도 : 93.55%\n"
     ]
    },
    {
     "data": {
      "application/vnd.jupyter.widget-view+json": {
       "model_id": "348567e83e2d4243b125e7052a1678ca",
       "version_major": 2,
       "version_minor": 0
      },
      "text/plain": [
       "8 별 학습 진행중:   0%|          | 0/625 [00:00<?, ?it/s]"
      ]
     },
     "metadata": {},
     "output_type": "display_data"
    },
    {
     "name": "stdout",
     "output_type": "stream",
     "text": [
      "에포크별 학습 loss : 0.124 / 학습 정확도 : 95.65%\n"
     ]
    },
    {
     "data": {
      "application/vnd.jupyter.widget-view+json": {
       "model_id": "508a93dd288f41aea9d7fad576734abf",
       "version_major": 2,
       "version_minor": 0
      },
      "text/plain": [
       "9 별 학습 진행중:   0%|          | 0/625 [00:00<?, ?it/s]"
      ]
     },
     "metadata": {},
     "output_type": "display_data"
    },
    {
     "name": "stdout",
     "output_type": "stream",
     "text": [
      "에포크별 학습 loss : 0.104 / 학습 정확도 : 96.30%\n"
     ]
    }
   ],
   "source": [
    "device = torch.device(\"cuda\")\n",
    "history = train_and_validate(model_ResNet, train_loader, val_loader, criterion, epochs=10, device=device)"
   ]
  }
 ],
 "metadata": {
  "kernelspec": {
   "display_name": "gumi_env310",
   "language": "python",
   "name": "python3"
  },
  "language_info": {
   "codemirror_mode": {
    "name": "ipython",
    "version": 3
   },
   "file_extension": ".py",
   "mimetype": "text/x-python",
   "name": "python",
   "nbconvert_exporter": "python",
   "pygments_lexer": "ipython3",
   "version": "3.10.14"
  }
 },
 "nbformat": 4,
 "nbformat_minor": 2
}
