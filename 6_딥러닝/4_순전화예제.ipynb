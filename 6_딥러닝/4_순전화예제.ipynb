{
 "cells": [
  {
   "cell_type": "markdown",
   "metadata": {},
   "source": [
    "### 단일 퍼셉트론"
   ]
  },
  {
   "cell_type": "code",
   "execution_count": 1,
   "metadata": {},
   "outputs": [
    {
     "name": "stdout",
     "output_type": "stream",
     "text": [
      "0.35434369377420455\n"
     ]
    }
   ],
   "source": [
    "import numpy as np\n",
    "\n",
    "# 입력 데이터와 가중치, bias 정의\n",
    "x=np.array([1, 2])\n",
    "w=np.array([0.5, -0.6])\n",
    "bias=0.1\n",
    "\n",
    "# 선형 회귀 계산\n",
    "z = np.dot(x,w.T)+bias\n",
    "\n",
    "# 활설화 함수 적용\n",
    "def sigmoid(z):\n",
    "    return 1/(1+np.exp(-z))\n",
    "\n",
    "# 순정파 최종 출력값\n",
    "print(sigmoid(z))"
   ]
  },
  {
   "cell_type": "code",
   "execution_count": 2,
   "metadata": {},
   "outputs": [],
   "source": [
    "# 선형 회귀 함수\n",
    "def linear_combination(x,wights, bias):\n",
    "    return np.dot(x, wights) +bias\n",
    "\n",
    "# 활설화 함수 적용\n",
    "def sigmoid(z):\n",
    "    return 1/(1+np.exp(-z))\n",
    "\n",
    "# 순전파 함수 만들어보기\n",
    "def forward_propagation(X,wights, bias):\n",
    "    # x, w, b를 선형회귀함수 적용 후 -> 활성화 함수 적용 후 최종 출력\n",
    "    z = linear_combination(x,wights, bias)\n",
    "    result = sigmoid(z)\n",
    "    return result"
   ]
  },
  {
   "cell_type": "code",
   "execution_count": 3,
   "metadata": {},
   "outputs": [
    {
     "name": "stdout",
     "output_type": "stream",
     "text": [
      "0.35434369377420455\n"
     ]
    }
   ],
   "source": [
    "# 순전파 단이 퍼셉트론 실행\n",
    "output = forward_propagation(x, w, bias)\n",
    "print(output)"
   ]
  },
  {
   "cell_type": "markdown",
   "metadata": {},
   "source": [
    "### 다층 퍼셉트론 - layer 여러개 : 2개만 만들어보기"
   ]
  },
  {
   "cell_type": "code",
   "execution_count": 4,
   "metadata": {},
   "outputs": [],
   "source": [
    "# 입력 데이터와 가중치, bias 정의\n",
    "X = np.array([1, 2])\n",
    "\n",
    "# 선형 회귀 함수\n",
    "def linear_combination(X, weights, bias):\n",
    "    return np.dot(X, weights.T) + bias\n",
    "\n",
    "# 활성화 함수 적용\n",
    "def sigmoid(z):\n",
    "    return 1/(1+np.exp(-z))\n",
    "\n",
    "# 순전파 함수 만들어보기\n",
    "def forward_propagation(X, weights, bias):\n",
    "    # x, w, b 를 선형회귀함수 적용후 -> 활성화 함수 적용후 최종출력\n",
    "    z = linear_combination(X, weights, bias)\n",
    "    result = sigmoid(z)\n",
    "    return result"
   ]
  },
  {
   "cell_type": "code",
   "execution_count": 5,
   "metadata": {},
   "outputs": [],
   "source": [
    "# 첫번째 layer 를 위한 가중치 설정\n",
    "W_1 = np.array([[0.5, -0.6],\n",
    "                [0.7, 0.8]\n",
    "                ])\n",
    "bias_1 = np.array([0.1, 0.2])\n",
    "\n",
    "# 첫번째 layer 만들어보기\n",
    "output_1 = forward_propagation(X, W_1, bias_1)"
   ]
  },
  {
   "cell_type": "code",
   "execution_count": 6,
   "metadata": {},
   "outputs": [
    {
     "data": {
      "text/plain": [
       "array([0.35434369, 0.92414182])"
      ]
     },
     "execution_count": 6,
     "metadata": {},
     "output_type": "execute_result"
    }
   ],
   "source": [
    "output_1"
   ]
  },
  {
   "cell_type": "code",
   "execution_count": 7,
   "metadata": {},
   "outputs": [],
   "source": [
    "# 두번째 layer 를 위한 가중치 설정\n",
    "W_2 = np.array([[0.1, 0.2],\n",
    "                [0.3, 0.4]\n",
    "                ])\n",
    "bias_2 = np.array([0.3, 0.4])\n",
    "\n",
    "# 두번째 layer 만들어보기\n",
    "output_2 = forward_propagation(output_1, W_2, bias_2)"
   ]
  },
  {
   "cell_type": "code",
   "execution_count": 8,
   "metadata": {},
   "outputs": [
    {
     "name": "stdout",
     "output_type": "stream",
     "text": [
      "최종 다층 퍼셉트론 출력 [0.6272092 0.7059843]\n"
     ]
    }
   ],
   "source": [
    "print(\"최종 다층 퍼셉트론 출력\", output_2)"
   ]
  }
 ],
 "metadata": {
  "kernelspec": {
   "display_name": "gumi_env310",
   "language": "python",
   "name": "python3"
  },
  "language_info": {
   "codemirror_mode": {
    "name": "ipython",
    "version": 3
   },
   "file_extension": ".py",
   "mimetype": "text/x-python",
   "name": "python",
   "nbconvert_exporter": "python",
   "pygments_lexer": "ipython3",
   "version": "3.10.14"
  }
 },
 "nbformat": 4,
 "nbformat_minor": 2
}
