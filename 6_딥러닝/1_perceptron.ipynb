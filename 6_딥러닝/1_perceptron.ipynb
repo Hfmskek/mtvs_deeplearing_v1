{
 "cells": [
  {
   "cell_type": "code",
   "execution_count": 1,
   "metadata": {},
   "outputs": [],
   "source": [
    "### 간단한 퍼셉트론 만들기\n",
    "def perceptron(x1, x2):\n",
    "    w1 = 0.5\n",
    "    w2 = 0.5\n",
    "    bias = -0.7\n",
    "\n",
    "    result = x1*w1 + x2*w2 + bias\n",
    "    if result < -0.1:\n",
    "        result =0\n",
    "    else:\n",
    "        result=1\n",
    "\n",
    "    return result"
   ]
  },
  {
   "cell_type": "code",
   "execution_count": 2,
   "metadata": {},
   "outputs": [
    {
     "data": {
      "text/plain": [
       "1"
      ]
     },
     "execution_count": 2,
     "metadata": {},
     "output_type": "execute_result"
    }
   ],
   "source": [
    "perceptron(2,3)"
   ]
  },
  {
   "cell_type": "markdown",
   "metadata": {},
   "source": [
    "### AND 게이트 : 둘다 1일 경우 1을 출력. 아닐경우는 0을 출력\n",
    "- 입력값은 1, 0만 가능"
   ]
  },
  {
   "cell_type": "code",
   "execution_count": 3,
   "metadata": {},
   "outputs": [
    {
     "data": {
      "text/plain": [
       "1"
      ]
     },
     "execution_count": 3,
     "metadata": {},
     "output_type": "execute_result"
    }
   ],
   "source": [
    "perceptron(1, 1)"
   ]
  },
  {
   "cell_type": "code",
   "execution_count": 4,
   "metadata": {},
   "outputs": [
    {
     "data": {
      "text/plain": [
       "0"
      ]
     },
     "execution_count": 4,
     "metadata": {},
     "output_type": "execute_result"
    }
   ],
   "source": [
    "perceptron(1, 0)"
   ]
  },
  {
   "cell_type": "code",
   "execution_count": 5,
   "metadata": {},
   "outputs": [
    {
     "data": {
      "text/plain": [
       "0"
      ]
     },
     "execution_count": 5,
     "metadata": {},
     "output_type": "execute_result"
    }
   ],
   "source": [
    "perceptron(0, 1)"
   ]
  },
  {
   "cell_type": "code",
   "execution_count": 6,
   "metadata": {},
   "outputs": [
    {
     "data": {
      "text/plain": [
       "0"
      ]
     },
     "execution_count": 6,
     "metadata": {},
     "output_type": "execute_result"
    }
   ],
   "source": [
    "perceptron(0, 0)"
   ]
  },
  {
   "cell_type": "markdown",
   "metadata": {},
   "source": [
    "### 코딩실력 올려보기 - 퍼셉트론만들어보기\n",
    "- 코딩실력은 이론 공부시간과 실습 공부 시간에 따라 향상될 수 있다.\n",
    "- 이론 공부시간 실력향상도 : 7\n",
    "- 실습 공부시간 실력향상도 : 10\n",
    "- 현재 이론 공부시간 : 4시간\n",
    "- 현재 실습 공부시간 : 4시간\n",
    "- 목표 코딩 실력 점수 : 70점\n",
    "- 현재 실력 점수 : 4x7 + 4x10 = 68점"
   ]
  },
  {
   "cell_type": "code",
   "execution_count": 7,
   "metadata": {},
   "outputs": [
    {
     "data": {
      "text/plain": [
       "(68, 2, 0.1)"
      ]
     },
     "execution_count": 7,
     "metadata": {},
     "output_type": "execute_result"
    }
   ],
   "source": [
    "# 학습 파라미터\n",
    "theory_hour = 4\n",
    "prac_hour = 4\n",
    "\n",
    "# 입력 값 - 실력향상도\n",
    "theory_effect = 7\n",
    "prac_effect = 10\n",
    "goal_score = 70\n",
    "\n",
    "# 현재 스코어\n",
    "current_score = theory_hour * theory_effect + prac_hour * prac_effect\n",
    "error = goal_score - current_score\n",
    "\n",
    "# 학습률\n",
    "learning_rate = 0.1\n",
    "\n",
    "current_score, error, learning_rate"
   ]
  },
  {
   "cell_type": "code",
   "execution_count": 8,
   "metadata": {},
   "outputs": [
    {
     "name": "stdout",
     "output_type": "stream",
     "text": [
      "new_score 68.298\n",
      "이론시간w1, 실습시간w2 : 4.014 4.02\n"
     ]
    }
   ],
   "source": [
    "learning_rate=0.001\n",
    "\n",
    "# 새로운 파라미터 - w1 : theory_hour, w2 : prac_hour\n",
    "new_theory_hour = theory_hour + (theory_effect*error*learning_rate)\n",
    "new_prac_hour = prac_hour + (prac_effect*error*learning_rate)\n",
    "\n",
    "# 새로운 점수를 계산\n",
    "new_score = new_theory_hour*theory_effect+new_prac_hour*prac_effect\n",
    "print('new_score', new_score)\n",
    "print('이론시간w1, 실습시간w2 :', new_theory_hour, new_prac_hour)"
   ]
  },
  {
   "cell_type": "code",
   "execution_count": 9,
   "metadata": {},
   "outputs": [
    {
     "name": "stdout",
     "output_type": "stream",
     "text": [
      "new_score 68.596\n",
      "이론시간w1, 실습시간w2 : 4.0280000000000005 4.039999999999999\n"
     ]
    }
   ],
   "source": [
    "# 1번 실행했을 때, 결과를 다시 theory_hour, prac_hour로 바꿔주면 됨\n",
    "theory_hour = new_theory_hour\n",
    "prac_hour = new_prac_hour\n",
    "\n",
    "learning_rate=0.001\n",
    "\n",
    "# 새로운 파라미터 - w1 : theory_hour, w2 : prac_hour\n",
    "new_theory_hour = theory_hour + (theory_effect*error*learning_rate)\n",
    "new_prac_hour = prac_hour + (prac_effect*error*learning_rate)\n",
    "\n",
    "# 새로운 점수를 계산\n",
    "new_score = new_theory_hour*theory_effect+new_prac_hour*prac_effect\n",
    "print('new_score', new_score)\n",
    "print('이론시간w1, 실습시간w2 :', new_theory_hour, new_prac_hour)"
   ]
  },
  {
   "cell_type": "code",
   "execution_count": 10,
   "metadata": {},
   "outputs": [
    {
     "name": "stdout",
     "output_type": "stream",
     "text": [
      "new_score 68.89399999999999\n",
      "이론시간w1, 실습시간w2 : 4.042000000000001 4.059999999999999\n"
     ]
    }
   ],
   "source": [
    "# 1번 실행했을 때, 결과를 다시 theory_hour, prac_hour로 바꿔주면 됨\n",
    "theory_hour = new_theory_hour\n",
    "prac_hour = new_prac_hour\n",
    "\n",
    "learning_rate=0.001\n",
    "\n",
    "# 새로운 파라미터 - w1 : theory_hour, w2 : prac_hour\n",
    "new_theory_hour = theory_hour + (theory_effect*error*learning_rate)\n",
    "new_prac_hour = prac_hour + (prac_effect*error*learning_rate)\n",
    "\n",
    "# 새로운 점수를 계산\n",
    "new_score = new_theory_hour*theory_effect+new_prac_hour*prac_effect\n",
    "print('new_score', new_score)\n",
    "print('이론시간w1, 실습시간w2 :', new_theory_hour, new_prac_hour)"
   ]
  },
  {
   "cell_type": "code",
   "execution_count": 11,
   "metadata": {},
   "outputs": [
    {
     "name": "stdout",
     "output_type": "stream",
     "text": [
      "new_score 69.192\n",
      "이론시간w1, 실습시간w2 : 4.056000000000001 4.079999999999998\n"
     ]
    }
   ],
   "source": [
    "# 1번 실행했을 때, 결과를 다시 theory_hour, prac_hour로 바꿔주면 됨\n",
    "theory_hour = new_theory_hour\n",
    "prac_hour = new_prac_hour\n",
    "\n",
    "learning_rate=0.001\n",
    "\n",
    "# 새로운 파라미터 - w1 : theory_hour, w2 : prac_hour\n",
    "new_theory_hour = theory_hour + (theory_effect*error*learning_rate)\n",
    "new_prac_hour = prac_hour + (prac_effect*error*learning_rate)\n",
    "\n",
    "# 새로운 점수를 계산\n",
    "new_score = new_theory_hour*theory_effect+new_prac_hour*prac_effect\n",
    "print('new_score', new_score)\n",
    "print('이론시간w1, 실습시간w2 :', new_theory_hour, new_prac_hour)"
   ]
  },
  {
   "cell_type": "code",
   "execution_count": 12,
   "metadata": {},
   "outputs": [
    {
     "name": "stdout",
     "output_type": "stream",
     "text": [
      "new_score 69.48999999999998\n",
      "이론시간w1, 실습시간w2 : 4.070000000000001 4.099999999999998\n"
     ]
    }
   ],
   "source": [
    "# 1번 실행했을 때, 결과를 다시 theory_hour, prac_hour로 바꿔주면 됨\n",
    "theory_hour = new_theory_hour\n",
    "prac_hour = new_prac_hour\n",
    "\n",
    "learning_rate=0.001\n",
    "\n",
    "# 새로운 파라미터 - w1 : theory_hour, w2 : prac_hour\n",
    "new_theory_hour = theory_hour + (theory_effect*error*learning_rate)\n",
    "new_prac_hour = prac_hour + (prac_effect*error*learning_rate)\n",
    "\n",
    "# 새로운 점수를 계산\n",
    "new_score = new_theory_hour*theory_effect+new_prac_hour*prac_effect\n",
    "print('new_score', new_score)\n",
    "print('이론시간w1, 실습시간w2 :', new_theory_hour, new_prac_hour)"
   ]
  },
  {
   "cell_type": "code",
   "execution_count": 13,
   "metadata": {},
   "outputs": [
    {
     "name": "stdout",
     "output_type": "stream",
     "text": [
      "new_score 69.78799999999998\n",
      "이론시간w1, 실습시간w2 : 4.084000000000001 4.119999999999997\n"
     ]
    }
   ],
   "source": [
    "# 1번 실행했을 때, 결과를 다시 theory_hour, prac_hour로 바꿔주면 됨\n",
    "theory_hour = new_theory_hour\n",
    "prac_hour = new_prac_hour\n",
    "\n",
    "learning_rate=0.001\n",
    "\n",
    "# 새로운 파라미터 - w1 : theory_hour, w2 : prac_hour\n",
    "new_theory_hour = theory_hour + (theory_effect*error*learning_rate)\n",
    "new_prac_hour = prac_hour + (prac_effect*error*learning_rate)\n",
    "\n",
    "# 새로운 점수를 계산\n",
    "new_score = new_theory_hour*theory_effect+new_prac_hour*prac_effect\n",
    "print('new_score', new_score)\n",
    "print('이론시간w1, 실습시간w2 :', new_theory_hour, new_prac_hour)"
   ]
  },
  {
   "cell_type": "code",
   "execution_count": 14,
   "metadata": {},
   "outputs": [
    {
     "name": "stdout",
     "output_type": "stream",
     "text": [
      "new_score 70.08599999999998\n",
      "이론시간w1, 실습시간w2 : 4.098000000000002 4.139999999999997\n"
     ]
    }
   ],
   "source": [
    "# 1번 실행했을 때, 결과를 다시 theory_hour, prac_hour로 바꿔주면 됨\n",
    "theory_hour = new_theory_hour\n",
    "prac_hour = new_prac_hour\n",
    "\n",
    "learning_rate=0.001\n",
    "\n",
    "# 새로운 파라미터 - w1 : theory_hour, w2 : prac_hour\n",
    "new_theory_hour = theory_hour + (theory_effect*error*learning_rate)\n",
    "new_prac_hour = prac_hour + (prac_effect*error*learning_rate)\n",
    "\n",
    "# 새로운 점수를 계산\n",
    "new_score = new_theory_hour*theory_effect+new_prac_hour*prac_effect\n",
    "print('new_score', new_score)\n",
    "print('이론시간w1, 실습시간w2 :', new_theory_hour, new_prac_hour)"
   ]
  },
  {
   "cell_type": "code",
   "execution_count": 18,
   "metadata": {},
   "outputs": [
    {
     "name": "stdout",
     "output_type": "stream",
     "text": [
      "48 4.09391903470713 4.1341700495816145 69.99913373876605\n"
     ]
    }
   ],
   "source": [
    "### for 문으로 작성해보기\n",
    "# 학습 파라미터\n",
    "theory_hour = 4\n",
    "prac_hour = 4\n",
    "\n",
    "# 입력 값 - 실력향상도\n",
    "theory_effect = 7\n",
    "prac_effect = 10\n",
    "goal_score = 70\n",
    "\n",
    "# 현재 스코어\n",
    "current_score = theory_hour * theory_effect + prac_hour * prac_effect\n",
    "error = goal_score - current_score\n",
    "\n",
    "# 학습률\n",
    "learning_rate = 0.001\n",
    "\n",
    "# 새로운 파라미터 - w1 : theory_hour, w2 : prac_hour\n",
    "for i in range(1000):\n",
    "\n",
    "    # 현재 스코어\n",
    "    current_score = theory_hour * theory_effect + prac_hour * prac_effect\n",
    "\n",
    "    # 현재 에러\n",
    "    error = goal_score - current_score\n",
    "\n",
    "    # 현재 에러가 엄청 작다면, 반복 학습 중지 - 목표에 도달한 상태\n",
    "    if error < 0.001:\n",
    "        print(i, new_theory_hour, new_prac_hour, new_score)\n",
    "        break\n",
    "\n",
    "    # 아직 에러가 작지 않을 때 이하 학습 코드\n",
    "    # 새롭게 업데이트된 이론 공부 시간\n",
    "    new_theory_hour = theory_hour + (theory_effect * error * learning_rate)\n",
    "\n",
    "    # 새롭게 업데이트된 실습 공부 시간\n",
    "    new_prac_hour = prac_hour + (prac_effect * error * learning_rate)\n",
    "\n",
    "    # 새롭게 업데이트 된 점수\n",
    "    new_score = new_theory_hour * theory_effect + new_prac_hour * prac_effect\n",
    "\n",
    "    # 파라미터 업데이트\n",
    "    theory_hour = new_theory_hour\n",
    "    prac_hour = new_prac_hour\n"
   ]
  },
  {
   "cell_type": "markdown",
   "metadata": {},
   "source": [
    "### 노는 시간이 있다면?"
   ]
  },
  {
   "cell_type": "code",
   "execution_count": 16,
   "metadata": {},
   "outputs": [
    {
     "name": "stdout",
     "output_type": "stream",
     "text": [
      "56 4.457474472315417 4.653534960450598 3.8692930079098815 69.99908489489414\n"
     ]
    }
   ],
   "source": [
    "\n",
    "### for 문으로 작성해보기\n",
    "# 학습 파라미터\n",
    "theory_hour = 4\n",
    "prac_hour = 4\n",
    "play_hour = 4\n",
    "\n",
    "# 입력 값 - 실력향상도\n",
    "theory_effect = 7\n",
    "prac_effect = 10\n",
    "play_effect = -2\n",
    "goal_score = 70\n",
    "\n",
    "# 현재 스코어\n",
    "current_score = theory_hour * theory_effect + prac_hour * prac_effect + play_hour * play_effect\n",
    "error = goal_score - current_score\n",
    "\n",
    "# 학습률\n",
    "learning_rate = 0.001\n",
    "\n",
    "# 새로운 파라미터 - w1 : theory_hour, w2 : prac_hour\n",
    "for i in range(1000):\n",
    "\n",
    "    # 현재 스코어\n",
    "    current_score = theory_hour * theory_effect + prac_hour * prac_effect + play_hour * play_effect\n",
    "\n",
    "    # 현재 에러\n",
    "    error = goal_score - current_score\n",
    "\n",
    "    # 현재 에러가 엄청 작다면, 반복 학습 중지 - 목표에 도달한 상태\n",
    "    if error < 0.001:\n",
    "        print(i, new_theory_hour, new_prac_hour, new_play_hour, new_score)\n",
    "        break\n",
    "\n",
    "    # 아직 에러가 작지 않을 때 이하 학습 코드\n",
    "    # 새롭게 업데이트된 이론 공부 시간\n",
    "    new_theory_hour = theory_hour + (theory_effect * error * learning_rate)\n",
    "\n",
    "    # 새롭게 업데이트된 실습 공부 시간\n",
    "    new_prac_hour = prac_hour + (prac_effect * error * learning_rate)\n",
    "\n",
    "    # 새롭게 업데이트 된 휴식 시간\n",
    "    new_play_hour = play_hour + (play_effect * error * learning_rate)\n",
    "\n",
    "    # 새롭게 업데이트 된 점수\n",
    "    new_score = new_theory_hour * theory_effect + new_prac_hour * prac_effect + new_play_hour * play_effect\n",
    "\n",
    "    # 파라미터 업데이트\n",
    "    theory_hour = new_theory_hour\n",
    "    prac_hour = new_prac_hour\n",
    "    play_hour = new_play_hour"
   ]
  },
  {
   "cell_type": "code",
   "execution_count": 17,
   "metadata": {},
   "outputs": [
    {
     "ename": "SyntaxError",
     "evalue": "invalid syntax (83993573.py, line 1)",
     "output_type": "error",
     "traceback": [
      "\u001b[1;36m  Cell \u001b[1;32mIn[17], line 1\u001b[1;36m\u001b[0m\n\u001b[1;33m    pip3 install torch==2.3.0 torchvision torchaudio --index-url https://download.pytorch.org/whl/cu121\u001b[0m\n\u001b[1;37m         ^\u001b[0m\n\u001b[1;31mSyntaxError\u001b[0m\u001b[1;31m:\u001b[0m invalid syntax\n"
     ]
    }
   ],
   "source": [
    "# pip3 install torch==2.3.0 torchvision torchaudio --index-url https://download.pytorch.org/whl/cu121"
   ]
  }
 ],
 "metadata": {
  "kernelspec": {
   "display_name": "gumi_env310",
   "language": "python",
   "name": "python3"
  },
  "language_info": {
   "codemirror_mode": {
    "name": "ipython",
    "version": 3
   },
   "file_extension": ".py",
   "mimetype": "text/x-python",
   "name": "python",
   "nbconvert_exporter": "python",
   "pygments_lexer": "ipython3",
   "version": "3.10.14"
  }
 },
 "nbformat": 4,
 "nbformat_minor": 2
}
