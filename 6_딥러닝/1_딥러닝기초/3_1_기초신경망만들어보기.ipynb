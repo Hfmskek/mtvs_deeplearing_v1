{
 "cells": [
  {
   "cell_type": "code",
   "execution_count": 1,
   "metadata": {},
   "outputs": [
    {
     "name": "stdout",
     "output_type": "stream",
     "text": [
      "Weights: [0.44151751 0.81554595]\n",
      "Bias: -1.0070831371666145\n",
      "Predictions: [0 0 0 1]\n"
     ]
    }
   ],
   "source": [
    "import numpy as np\n",
    "\n",
    "# AND 게이트 데이터셋\n",
    "X = np.array([[0, 0], [0, 1], [1, 0], [1, 1]], dtype=np.float32)\n",
    "y = np.array([0, 0, 0, 1], dtype=np.float32)\n",
    "\n",
    "# 하이퍼파라미터\n",
    "learning_rate = 0.1\n",
    "epochs = 100\n",
    "\n",
    "# 가중치와 편향 초기화\n",
    "weights = np.random.randn(2)\n",
    "bias = np.random.randn()\n",
    "\n",
    "# 활성화 함수 (단위 계단 함수)\n",
    "def step_function(x):\n",
    "    return np.where(x >= 0, 1, 0)\n",
    "\n",
    "# 학습 과정\n",
    "for epoch in range(epochs):\n",
    "    for i in range(len(X)):\n",
    "        # 선형 결합 계산\n",
    "        linear_combination = np.dot(X[i], weights) + bias\n",
    "        \n",
    "        # 출력 계산\n",
    "        y_pred = step_function(linear_combination)\n",
    "        \n",
    "        # 가중치 및 편향 업데이트\n",
    "        error = y[i] - y_pred\n",
    "        weights += learning_rate * error * X[i]\n",
    "        bias += learning_rate * error\n",
    "\n",
    "# 학습된 가중치와 편향 출력\n",
    "print(\"Weights:\", weights)\n",
    "print(\"Bias:\", bias)\n",
    "\n",
    "# 예측\n",
    "def predict(X):\n",
    "    linear_combination = np.dot(X, weights) + bias\n",
    "    return step_function(linear_combination)\n",
    "\n",
    "predictions = predict(X)\n",
    "print(\"Predictions:\", predictions)"
   ]
  },
  {
   "cell_type": "code",
   "execution_count": null,
   "metadata": {},
   "outputs": [],
   "source": []
  }
 ],
 "metadata": {
  "kernelspec": {
   "display_name": "2024_mtvs_env311",
   "language": "python",
   "name": "python3"
  },
  "language_info": {
   "codemirror_mode": {
    "name": "ipython",
    "version": 3
   },
   "file_extension": ".py",
   "mimetype": "text/x-python",
   "name": "python",
   "nbconvert_exporter": "python",
   "pygments_lexer": "ipython3",
   "version": "3.11.9"
  }
 },
 "nbformat": 4,
 "nbformat_minor": 2
}
