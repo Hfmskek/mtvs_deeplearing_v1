{
 "cells": [
  {
   "cell_type": "markdown",
   "metadata": {},
   "source": [
    "### 코딩실력을 올려봅시다 - 퍼셉트론으로 만들어보기"
   ]
  },
  {
   "cell_type": "code",
   "execution_count": 3,
   "metadata": {},
   "outputs": [
    {
     "name": "stdout",
     "output_type": "stream",
     "text": [
      "현재 이론 공부 시간: 4시간, 실습 시간: 4시간\n",
      "목표 점수: 70점, 현재 점수: 68점\n",
      "오차: 2점\n",
      "새로운 이론 공부 시간: 4.01시간\n",
      "새로운 실습 시간: 4.02시간\n",
      "새로운 총 점수: 68.30점\n"
     ]
    }
   ],
   "source": [
    "# 초기 설정\n",
    "theory_hours = 4          # 현재 이론 공부 시간\n",
    "practice_hours = 4        # 현재 실습 시간\n",
    "theory_effectiveness = 7  # 이론 공부 효과 (시간당 실력 향상도)\n",
    "practice_effectiveness = 10 # 실습 효과 (시간당 실력 향상도)\n",
    "goal_score = 70           # 목표 실력 점수\n",
    "current_score = theory_effectiveness * theory_hours + practice_effectiveness * practice_hours # 현재 점수\n",
    "error = goal_score - current_score  # 오차\n",
    "learning_rate = 0.001       # 학습률\n",
    "\n",
    "# 시간 조정\n",
    "new_practice_hours = practice_hours + (practice_effectiveness * error * learning_rate)\n",
    "new_theory_hours = theory_hours + (theory_effectiveness * error * learning_rate)\n",
    "\n",
    "# 새로운 점수 계산\n",
    "new_score = (practice_effectiveness * new_practice_hours) + (theory_effectiveness * new_theory_hours)\n",
    "\n",
    "# 결과 출력\n",
    "print(f\"현재 이론 공부 시간: {theory_hours}시간, 실습 시간: {practice_hours}시간\")\n",
    "print(f\"목표 점수: {goal_score}점, 현재 점수: {current_score}점\")\n",
    "print(f\"오차: {error}점\")\n",
    "print(f\"새로운 이론 공부 시간: {new_theory_hours:.2f}시간\")\n",
    "print(f\"새로운 실습 시간: {new_practice_hours:.2f}시간\")\n",
    "print(f\"새로운 총 점수: {new_score:.2f}점\")"
   ]
  },
  {
   "cell_type": "code",
   "execution_count": 4,
   "metadata": {},
   "outputs": [
    {
     "name": "stdout",
     "output_type": "stream",
     "text": [
      "현재 이론 공부 시간: 4.09시간, 실습 시간: 4.13시간\n",
      "목표 점수: 70점, 최종 점수: 69.99점\n",
      "오차: 0.01점\n",
      "새로운 이론 공부 시간: 4.09시간\n",
      "새로운 실습 시간: 4.13시간\n",
      "최종 점수: 69.99점\n"
     ]
    }
   ],
   "source": [
    "# 초기 설정\n",
    "theory_hours = 4          # 현재 이론 공부 시간\n",
    "practice_hours = 4        # 현재 실습 시간\n",
    "theory_effectiveness = 7  # 이론 공부 효과 (시간당 실력 향상도)\n",
    "practice_effectiveness = 10 # 실습 효과 (시간당 실력 향상도)\n",
    "goal_score = 70           # 목표 실력 점수\n",
    "learning_rate = 0.001     # 학습률\n",
    "\n",
    "# 반복 학습\n",
    "for i in range(10000): # 최대 10000번 반복\n",
    "    current_score = (theory_effectiveness * theory_hours) + (practice_effectiveness * practice_hours) # 현재 점수\n",
    "    error = goal_score - current_score  # 오차\n",
    "    \n",
    "    if abs(error) < 0.01: # 목표 점수에 도달하면 반복 종료\n",
    "        break\n",
    "    \n",
    "    # 시간 조정\n",
    "    practice_hours += (practice_effectiveness * error * learning_rate)\n",
    "    theory_hours += (theory_effectiveness * error * learning_rate)\n",
    "\n",
    "# 결과 출력\n",
    "print(f\"현재 이론 공부 시간: {theory_hours:.2f}시간, 실습 시간: {practice_hours:.2f}시간\")\n",
    "print(f\"목표 점수: {goal_score}점, 최종 점수: {current_score:.2f}점\")\n",
    "print(f\"오차: {error:.2f}점\")\n",
    "print(f\"새로운 이론 공부 시간: {theory_hours:.2f}시간\")\n",
    "print(f\"새로운 실습 시간: {practice_hours:.2f}시간\")\n",
    "print(f\"최종 점수: {current_score:.2f}점\")"
   ]
  },
  {
   "cell_type": "markdown",
   "metadata": {},
   "source": [
    "### 노는 시간이 있는 경우는?"
   ]
  },
  {
   "cell_type": "code",
   "execution_count": 5,
   "metadata": {},
   "outputs": [
    {
     "name": "stdout",
     "output_type": "stream",
     "text": [
      "현재 이론 공부 시간: 4.88시간, 실습 시간: 5.26시간, 노는 시간: 3.37시간\n",
      "목표 점수: 70점, 최종 점수: 69.99점\n",
      "오차: 0.01점\n",
      "새로운 이론 공부 시간: 4.88시간\n",
      "새로운 실습 시간: 5.26시간\n",
      "새로운 노는 시간: 3.37시간\n",
      "최종 점수: 69.99점\n"
     ]
    }
   ],
   "source": [
    "# 초기 설정\n",
    "theory_hours = 4          # 현재 이론 공부 시간\n",
    "practice_hours = 4        # 현재 실습 시간\n",
    "leisure_hours = 4         # 현재 노는 시간\n",
    "theory_effectiveness = 7  # 이론 공부 효과 (시간당 실력 향상도)\n",
    "practice_effectiveness = 10 # 실습 효과 (시간당 실력 향상도)\n",
    "leisure_effectiveness = -5  # 노는 효과 (시간당 실력 향상도)\n",
    "goal_score = 70           # 목표 실력 점수\n",
    "learning_rate = 0.001     # 학습률\n",
    "\n",
    "# 반복 학습\n",
    "for i in range(10000): # 최대 10000번 반복\n",
    "    current_score = (theory_effectiveness * theory_hours) + \\\n",
    "                    (practice_effectiveness * practice_hours) + \\\n",
    "                    (leisure_effectiveness * leisure_hours) # 현재 점수\n",
    "    error = goal_score - current_score  # 오차\n",
    "    \n",
    "    if abs(error) < 0.01: # 목표 점수에 도달하면 반복 종료\n",
    "        break\n",
    "    \n",
    "    # 시간 조정\n",
    "    practice_hours += (practice_effectiveness * error * learning_rate)\n",
    "    theory_hours += (theory_effectiveness * error * learning_rate)\n",
    "    leisure_hours += (leisure_effectiveness * error * learning_rate)\n",
    "\n",
    "# 결과 출력\n",
    "print(f\"현재 이론 공부 시간: {theory_hours:.2f}시간, 실습 시간: {practice_hours:.2f}시간, 노는 시간: {leisure_hours:.2f}시간\")\n",
    "print(f\"목표 점수: {goal_score}점, 최종 점수: {current_score:.2f}점\")\n",
    "print(f\"오차: {error:.2f}점\")\n",
    "print(f\"새로운 이론 공부 시간: {theory_hours:.2f}시간\")\n",
    "print(f\"새로운 실습 시간: {practice_hours:.2f}시간\")\n",
    "print(f\"새로운 노는 시간: {leisure_hours:.2f}시간\")\n",
    "print(f\"최종 점수: {current_score:.2f}점\")"
   ]
  },
  {
   "cell_type": "code",
   "execution_count": null,
   "metadata": {},
   "outputs": [],
   "source": []
  }
 ],
 "metadata": {
  "kernelspec": {
   "display_name": "2024_mtvs_env311",
   "language": "python",
   "name": "python3"
  },
  "language_info": {
   "codemirror_mode": {
    "name": "ipython",
    "version": 3
   },
   "file_extension": ".py",
   "mimetype": "text/x-python",
   "name": "python",
   "nbconvert_exporter": "python",
   "pygments_lexer": "ipython3",
   "version": "3.11.9"
  }
 },
 "nbformat": 4,
 "nbformat_minor": 2
}
