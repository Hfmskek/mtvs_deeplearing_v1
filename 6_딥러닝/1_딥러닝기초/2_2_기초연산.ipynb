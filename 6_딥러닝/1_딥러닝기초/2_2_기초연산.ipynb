{
 "cells": [
  {
   "cell_type": "code",
   "execution_count": 1,
   "metadata": {},
   "outputs": [
    {
     "name": "stdout",
     "output_type": "stream",
     "text": [
      "벡터 덧셈: [4 6]\n",
      "벡터 뺄셈: [-2 -2]\n",
      "스칼라 곱셈: [2 4]\n",
      "벡터 내적: 11\n"
     ]
    }
   ],
   "source": [
    "import numpy as np\n",
    "\n",
    "# 벡터 정의\n",
    "a = np.array([1, 2])\n",
    "b = np.array([3, 4])\n",
    "\n",
    "# 벡터 덧셈\n",
    "c = a + b\n",
    "# 결과: [4 6]\n",
    "print(\"벡터 덧셈:\", c)\n",
    "\n",
    "# 벡터 뺄셈\n",
    "d = a - b\n",
    "# 결과: [-2 -2]\n",
    "print(\"벡터 뺄셈:\", d)\n",
    "\n",
    "# 스칼라 곱셈\n",
    "e = 2 * a\n",
    "# 결과: [2 4]\n",
    "print(\"스칼라 곱셈:\", e)\n",
    "\n",
    "# 벡터 내적 (dot product)\n",
    "f = np.dot(a, b)\n",
    "# 결과: 11\n",
    "print(\"벡터 내적:\", f)"
   ]
  },
  {
   "cell_type": "code",
   "execution_count": 2,
   "metadata": {},
   "outputs": [
    {
     "name": "stdout",
     "output_type": "stream",
     "text": [
      "행렬 덧셈:\n",
      " [[ 6  8]\n",
      " [10 12]]\n",
      "행렬 뺄셈:\n",
      " [[-4 -4]\n",
      " [-4 -4]]\n",
      "스칼라 곱셈:\n",
      " [[2 4]\n",
      " [6 8]]\n",
      "행렬 곱셈:\n",
      " [[19 22]\n",
      " [43 50]]\n",
      "전치 행렬:\n",
      " [[1 3]\n",
      " [2 4]]\n"
     ]
    }
   ],
   "source": [
    "import numpy as np\n",
    "\n",
    "# 행렬 정의\n",
    "A = np.array([[1, 2], [3, 4]])\n",
    "B = np.array([[5, 6], [7, 8]])\n",
    "\n",
    "# 행렬 덧셈\n",
    "C = A + B\n",
    "# 결과: [[ 6  8]\n",
    "#        [10 12]]\n",
    "print(\"행렬 덧셈:\\n\", C)\n",
    "\n",
    "# 행렬 뺄셈\n",
    "D = A - B\n",
    "# 결과: [[-4 -4]\n",
    "#        [-4 -4]]\n",
    "print(\"행렬 뺄셈:\\n\", D)\n",
    "\n",
    "# 스칼라 곱셈\n",
    "E = 2 * A\n",
    "# 결과: [[2 4]\n",
    "#        [6 8]]\n",
    "print(\"스칼라 곱셈:\\n\", E)\n",
    "\n",
    "# 행렬 곱셈 (matrix multiplication)\n",
    "F = np.dot(A, B)\n",
    "# 결과: [[19 22]\n",
    "#        [43 50]]\n",
    "print(\"행렬 곱셈:\\n\", F)\n",
    "\n",
    "# 전치 행렬 (transpose)\n",
    "G = np.transpose(A)\n",
    "# 결과: [[1 3]\n",
    "#        [2 4]]\n",
    "print(\"전치 행렬:\\n\", G)"
   ]
  },
  {
   "cell_type": "code",
   "execution_count": 3,
   "metadata": {},
   "outputs": [
    {
     "name": "stdout",
     "output_type": "stream",
     "text": [
      "행렬식: -2.0000000000000004\n",
      "역행렬:\n",
      " [[-2.   1. ]\n",
      " [ 1.5 -0.5]]\n",
      "단위 행렬:\n",
      " [[1.0000000e+00 0.0000000e+00]\n",
      " [8.8817842e-16 1.0000000e+00]]\n"
     ]
    }
   ],
   "source": [
    "import numpy as np\n",
    "\n",
    "# 행렬 정의\n",
    "A = np.array([[1, 2], [3, 4]])\n",
    "\n",
    "# 행렬식 (determinant)\n",
    "det_A = np.linalg.det(A)\n",
    "# 결과: -2.0000000000000004\n",
    "print(\"행렬식:\", det_A)\n",
    "\n",
    "# 역행렬 (inverse)\n",
    "inv_A = np.linalg.inv(A)\n",
    "# 결과: [[-2.   1. ]\n",
    "#        [ 1.5 -0.5]]\n",
    "print(\"역행렬:\\n\", inv_A)\n",
    "\n",
    "# 역행렬과 원래 행렬을 곱하면 단위 행렬이 됨\n",
    "I = np.dot(A, inv_A)\n",
    "# 결과: [[ 1.0000000e+00  0.0000000e+00]\n",
    "#        [ 0.0000000e+00  1.0000000e+00]]\n",
    "print(\"단위 행렬:\\n\", I)"
   ]
  },
  {
   "cell_type": "code",
   "execution_count": null,
   "metadata": {},
   "outputs": [],
   "source": []
  }
 ],
 "metadata": {
  "kernelspec": {
   "display_name": "2024_mtvs_env311",
   "language": "python",
   "name": "python3"
  },
  "language_info": {
   "codemirror_mode": {
    "name": "ipython",
    "version": 3
   },
   "file_extension": ".py",
   "mimetype": "text/x-python",
   "name": "python",
   "nbconvert_exporter": "python",
   "pygments_lexer": "ipython3",
   "version": "3.11.9"
  }
 },
 "nbformat": 4,
 "nbformat_minor": 2
}
