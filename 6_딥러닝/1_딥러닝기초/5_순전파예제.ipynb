{
 "cells": [
  {
   "cell_type": "markdown",
   "metadata": {},
   "source": [
    "### 단일 퍼셉트론"
   ]
  },
  {
   "cell_type": "code",
   "execution_count": 1,
   "metadata": {},
   "outputs": [
    {
     "name": "stdout",
     "output_type": "stream",
     "text": [
      "전방전파 출력: 0.35434369377420455\n"
     ]
    }
   ],
   "source": [
    "import numpy as np\n",
    "\n",
    "# 입력 데이터와 가중치, 바이어스 정의\n",
    "X = np.array([1, 2])\n",
    "weights = np.array([0.5, -0.6])\n",
    "bias = 0.1\n",
    "\n",
    "# 선형 결합 계산\n",
    "def linear_combination(X, weights, bias):\n",
    "    return np.dot(X, weights) + bias\n",
    "\n",
    "# 시그모이드 함수\n",
    "def sigmoid(x):\n",
    "    return 1 / (1 + np.exp(-x))\n",
    "\n",
    "# 전방전파 과정\n",
    "def forward_propagation(X, weights, bias):\n",
    "    z = linear_combination(X, weights, bias)\n",
    "    a = sigmoid(z)\n",
    "    return a\n",
    "\n",
    "# 전방전파 수행\n",
    "output = forward_propagation(X, weights, bias)\n",
    "print(\"전방전파 출력:\", output)"
   ]
  },
  {
   "cell_type": "markdown",
   "metadata": {},
   "source": [
    "### 다층퍼셉트론"
   ]
  },
  {
   "cell_type": "code",
   "execution_count": 2,
   "metadata": {},
   "outputs": [
    {
     "name": "stdout",
     "output_type": "stream",
     "text": [
      "다층 퍼셉트론 전방전파 출력: [0.76547863 0.80671498]\n"
     ]
    }
   ],
   "source": [
    "import numpy as np\n",
    "\n",
    "# 입력 데이터\n",
    "X = np.array([1, 2])\n",
    "\n",
    "# 가중치와 편향 초기화\n",
    "weights_1 = np.array([[0.1, 0.2], [0.3, 0.4]])\n",
    "bias_1 = np.array([0.1, 0.2])\n",
    "\n",
    "weights_2 = np.array([[0.5, 0.6], [0.7, 0.8]])\n",
    "bias_2 = np.array([0.3, 0.4])\n",
    "\n",
    "# 활성화 함수 정의\n",
    "def sigmoid(x):\n",
    "    return 1 / (1 + np.exp(-x))\n",
    "\n",
    "# 전방전파 함수 정의\n",
    "def forward_propagation(X, weights_1, bias_1, weights_2, bias_2):\n",
    "    # 첫 번째 층\n",
    "    z1 = np.dot(X, weights_1) + bias_1\n",
    "    a1 = sigmoid(z1)\n",
    "\n",
    "    # 두 번째 층\n",
    "    z2 = np.dot(a1, weights_2) + bias_2\n",
    "    a2 = sigmoid(z2)\n",
    "\n",
    "    return a2\n",
    "\n",
    "# 전방전파 수행\n",
    "output = forward_propagation(X, weights_1, bias_1, weights_2, bias_2)\n",
    "print(\"다층 퍼셉트론 전방전파 출력:\", output)"
   ]
  },
  {
   "cell_type": "code",
   "execution_count": null,
   "metadata": {},
   "outputs": [],
   "source": []
  }
 ],
 "metadata": {
  "kernelspec": {
   "display_name": "2024_mtvs_env311",
   "language": "python",
   "name": "python3"
  },
  "language_info": {
   "codemirror_mode": {
    "name": "ipython",
    "version": 3
   },
   "file_extension": ".py",
   "mimetype": "text/x-python",
   "name": "python",
   "nbconvert_exporter": "python",
   "pygments_lexer": "ipython3",
   "version": "3.11.9"
  }
 },
 "nbformat": 4,
 "nbformat_minor": 2
}
