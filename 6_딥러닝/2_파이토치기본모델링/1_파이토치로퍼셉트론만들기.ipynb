{
 "cells": [
  {
   "cell_type": "code",
   "execution_count": 1,
   "metadata": {},
   "outputs": [
    {
     "name": "stdout",
     "output_type": "stream",
     "text": [
      "2.3.0+cu121\n"
     ]
    }
   ],
   "source": [
    "import torch\n",
    "print(torch.__version__)"
   ]
  },
  {
   "cell_type": "code",
   "execution_count": 2,
   "metadata": {},
   "outputs": [
    {
     "name": "stdout",
     "output_type": "stream",
     "text": [
      "True\n"
     ]
    }
   ],
   "source": [
    "print(torch.cuda.is_available())"
   ]
  },
  {
   "cell_type": "markdown",
   "metadata": {},
   "source": [
    "- 파이토치는 기본적으로 모듈화되어 있음\n",
    "- 코드를 직접 작성할 필요가 없고\n",
    "- 형식을 맞춰서 입력만 잘하면 된다"
   ]
  },
  {
   "cell_type": "code",
   "execution_count": 3,
   "metadata": {},
   "outputs": [],
   "source": [
    "import torch.nn as nn\n",
    "import torch.optim as optim"
   ]
  },
  {
   "cell_type": "code",
   "execution_count": 4,
   "metadata": {},
   "outputs": [
    {
     "data": {
      "text/plain": [
       "<torch._C.Generator at 0x21c35c78350>"
      ]
     },
     "execution_count": 4,
     "metadata": {},
     "output_type": "execute_result"
    }
   ],
   "source": [
    "# 시드 정해보기\n",
    "torch.manual_seed(11)"
   ]
  },
  {
   "cell_type": "code",
   "execution_count": 5,
   "metadata": {},
   "outputs": [],
   "source": [
    "X = torch.rand(100, 3) # 입력 데이터는 100개 샘플, 3차원 벡터\n",
    "Y = torch.rand(100, 1) # 출력 데이터는 100개 샘플, 1차원 벡터"
   ]
  },
  {
   "cell_type": "code",
   "execution_count": 6,
   "metadata": {},
   "outputs": [],
   "source": [
    "## 클래스로 만들어보기\n",
    "\n",
    "class MLP(nn.Module):\n",
    "    def __init__(self, input_size, hidden_size1, hidden_size2, output_size):\n",
    "        super(MLP, self).__init__()\n",
    "        # 첫번째 완전 연결층\n",
    "        self.fc1 = nn.Linear(input_size, hidden_size1)\n",
    "        # 첫번째 ReLU 활성화 함수\n",
    "        self.relu1 = nn.ReLU()\n",
    "        # 두번째 완전 연결층\n",
    "        self.fc2 = nn.Linear(hidden_size1, hidden_size2)\n",
    "        # 두번째 ReLU 활성화 함수\n",
    "        self.relu2 = nn.ReLU()\n",
    "        # 마지막 출력층\n",
    "        self.fc3 = nn.Linear(hidden_size2, output_size)\n",
    "    def forward(self, x):\n",
    "        # 순전파 과정\n",
    "        output = self.fc1(x)\n",
    "        output = self.relu1(output)\n",
    "        output = self.fc2(output)\n",
    "        output = self.relu2(output)\n",
    "        output = self.fc3(output)\n",
    "        return output"
   ]
  },
  {
   "cell_type": "code",
   "execution_count": 7,
   "metadata": {},
   "outputs": [],
   "source": [
    "# 하이퍼파라미터 설정\n",
    "input_size = X.shape[1]\n",
    "hidden_size1 = 5 # 첫번째 은닉층의 크기(노드의 개수)\n",
    "hidden_size2 = 4 # 두번째 은닉층의 크기(노드의 개수)\n",
    "output_size = Y.shape[1] # 출력층\n",
    "learning_rate = 0.01\n",
    "epochs = 1000 # 반복 학습 횟수"
   ]
  },
  {
   "cell_type": "code",
   "execution_count": 8,
   "metadata": {},
   "outputs": [],
   "source": [
    "# 모델 초기화 \n",
    "model = MLP(input_size, hidden_size1, hidden_size2, output_size)"
   ]
  },
  {
   "cell_type": "code",
   "execution_count": 9,
   "metadata": {},
   "outputs": [],
   "source": [
    "# 손실함수와 옵티마이저를 정의\n",
    "criterion = nn.MSELoss() # 평균 제곱 오차\n",
    "optimizer = optim.SGD(model.parameters(), lr=learning_rate) # SGD 옵티마이저 사용"
   ]
  },
  {
   "cell_type": "code",
   "execution_count": 10,
   "metadata": {},
   "outputs": [
    {
     "name": "stdout",
     "output_type": "stream",
     "text": [
      "0번째 손실값은 : 0.39195936918258667\n",
      "100번째 손실값은 : 0.07031545042991638\n",
      "200번째 손실값은 : 0.06958290189504623\n",
      "300번째 손실값은 : 0.06953577697277069\n",
      "400번째 손실값은 : 0.06950745731592178\n",
      "500번째 손실값은 : 0.06948293745517731\n",
      "600번째 손실값은 : 0.06945860385894775\n",
      "700번째 손실값은 : 0.06943715363740921\n",
      "800번째 손실값은 : 0.06941719353199005\n",
      "900번째 손실값은 : 0.06940209865570068\n"
     ]
    }
   ],
   "source": [
    "# 경사하강법을 통해서 학습\n",
    "for i in range(epochs):\n",
    "    \n",
    "    # 순전파 실행\n",
    "    output = model(X)\n",
    "\n",
    "    # 손실함수 계산\n",
    "    loss = criterion(output, Y)\n",
    "\n",
    "    # 가중치 업데이트 \n",
    "    optimizer.zero_grad() # 옵티마이저의 모든 기울기를 0으로 초기화\n",
    "    loss.backward() # 역전파를 통해서 기울기 계산\n",
    "    optimizer.step() # 옵티마이저가 가중치를 업데이트 하게됨\n",
    "\n",
    "    # 100번마다 손실값을 출력해보기\n",
    "    if i%100 ==0:\n",
    "        print(f\"{i}번째 손실값은 :\", loss.item())"
   ]
  },
  {
   "cell_type": "code",
   "execution_count": 11,
   "metadata": {},
   "outputs": [
    {
     "name": "stdout",
     "output_type": "stream",
     "text": [
      "0.06938830018043518\n"
     ]
    }
   ],
   "source": [
    "# 최종 결과 출력해보기\n",
    "final_loss = criterion(model(X), Y)\n",
    "print(final_loss.item())"
   ]
  }
 ],
 "metadata": {
  "kernelspec": {
   "display_name": "gumi_env310",
   "language": "python",
   "name": "python3"
  },
  "language_info": {
   "codemirror_mode": {
    "name": "ipython",
    "version": 3
   },
   "file_extension": ".py",
   "mimetype": "text/x-python",
   "name": "python",
   "nbconvert_exporter": "python",
   "pygments_lexer": "ipython3",
   "version": "3.10.14"
  }
 },
 "nbformat": 4,
 "nbformat_minor": 2
}
