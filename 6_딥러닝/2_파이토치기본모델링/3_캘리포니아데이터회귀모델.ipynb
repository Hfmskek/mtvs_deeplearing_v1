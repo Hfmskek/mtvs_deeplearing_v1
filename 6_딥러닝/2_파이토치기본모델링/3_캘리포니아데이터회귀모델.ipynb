{
 "cells": [
  {
   "cell_type": "code",
   "execution_count": 1,
   "metadata": {},
   "outputs": [],
   "source": [
    "import torch\n",
    "import torch.nn as nn\n",
    "import torch.optim as optim\n",
    "from torch.utils.data import Dataset, DataLoader"
   ]
  },
  {
   "cell_type": "code",
   "execution_count": 2,
   "metadata": {},
   "outputs": [],
   "source": [
    "from sklearn.datasets import fetch_california_housing\n",
    "from sklearn.model_selection import train_test_split\n",
    "from sklearn.preprocessing import StandardScaler\n",
    "import matplotlib.pyplot as plt"
   ]
  },
  {
   "cell_type": "code",
   "execution_count": 3,
   "metadata": {},
   "outputs": [],
   "source": [
    "# 데이터 가져오기\n",
    "california = fetch_california_housing()\n",
    "data, labels = california.data, california.target"
   ]
  },
  {
   "cell_type": "code",
   "execution_count": 4,
   "metadata": {},
   "outputs": [
    {
     "data": {
      "text/plain": [
       "(20640, 8)"
      ]
     },
     "execution_count": 4,
     "metadata": {},
     "output_type": "execute_result"
    }
   ],
   "source": [
    "data.shape"
   ]
  },
  {
   "cell_type": "code",
   "execution_count": 5,
   "metadata": {},
   "outputs": [],
   "source": [
    "# 데이터 정규화\n",
    "scaler = StandardScaler()\n",
    "data = scaler.fit_transform(data)"
   ]
  },
  {
   "cell_type": "code",
   "execution_count": 6,
   "metadata": {},
   "outputs": [],
   "source": [
    "# 데이터 분할\n",
    "X_train, X_temp, y_train, y_temp = train_test_split(data, labels, test_size=0.4, random_state=11)\n",
    "X_val, X_test, y_val, y_test = train_test_split(X_temp, y_temp, test_size=0.5, random_state=11)"
   ]
  },
  {
   "cell_type": "code",
   "execution_count": 7,
   "metadata": {},
   "outputs": [],
   "source": [
    "# transform 클래스 정의\n",
    "class ToTensor:\n",
    "    def __call__(self, data, labels):\n",
    "        data = torch.tensor(data, dtype=torch.float32)\n",
    "        labels = torch.tensor(labels, dtype=torch.float32)\n",
    "        return data, labels"
   ]
  },
  {
   "cell_type": "code",
   "execution_count": 8,
   "metadata": {},
   "outputs": [],
   "source": [
    "## CustomDataset 클래스 정의\n",
    "class HousingDataset(Dataset):\n",
    "    def __init__(self, data, labels, transform=None):\n",
    "        self.data = data\n",
    "        self.labels = labels\n",
    "        self.transform = transform\n",
    "    \n",
    "    def __len__(self):\n",
    "        return len(self.data)\n",
    "    \n",
    "    def __getitem__(self, idx):\n",
    "        data, labels = self.data[idx], self.labels[idx]\n",
    "\n",
    "        if self.transform :\n",
    "            data, labels = self.transform(data, labels)\n",
    "        return data, labels"
   ]
  },
  {
   "cell_type": "code",
   "execution_count": 9,
   "metadata": {},
   "outputs": [],
   "source": [
    "# 데이터셋 및 데이터 로더 생성\n",
    "transform = ToTensor()\n",
    "\n",
    "# 데이터셋 만들기\n",
    "train_dataset = HousingDataset(X_train, y_train, transform=transform)\n",
    "val_dataset = HousingDataset(X_val, y_val, transform=transform)\n",
    "test_dataset = HousingDataset(X_test, y_test, transform=transform)\n",
    "\n",
    "# 데이터 로더 만들기\n",
    "train_loader = DataLoader(train_dataset, batch_size=16, shuffle=True)\n",
    "val_loader = DataLoader(val_dataset, batch_size=16, shuffle=False)\n",
    "test_loader = DataLoader(test_dataset, batch_size=16, shuffle=False)"
   ]
  },
  {
   "cell_type": "code",
   "execution_count": 10,
   "metadata": {},
   "outputs": [],
   "source": [
    "# 간단한 Pytorch모델 정의\n",
    "\n",
    "class MyCustomModel(nn.Module):\n",
    "    def __init__(self):\n",
    "        super(MyCustomModel, self).__init__()\n",
    "        self.fc1 = nn.Linear(8, 64)\n",
    "        self.dropout1 = nn.Dropout(p=0.4)\n",
    "        self.fc2 = nn.Linear(64, 64)\n",
    "        self.dropout2 = nn.Dropout(p=0.5)\n",
    "        self.fc3 = nn.Linear(64, 1)\n",
    "        self.relu = nn.ReLU()\n",
    "\n",
    "    def forward(self, x):\n",
    "        # 첫번째 레이어\n",
    "        x = self.fc1(x)\n",
    "        x = self.relu(x)\n",
    "        x = self.dropout1(x)\n",
    "\n",
    "        # 두번째 레이어\n",
    "        x = self.fc2(x)\n",
    "        x = self.relu(x)\n",
    "        x = self.dropout2(x)\n",
    "\n",
    "        # 출력층\n",
    "        x = self.fc3(x)\n",
    "        \n",
    "        return x"
   ]
  },
  {
   "cell_type": "code",
   "execution_count": 11,
   "metadata": {},
   "outputs": [
    {
     "data": {
      "text/plain": [
       "device(type='cuda')"
      ]
     },
     "execution_count": 11,
     "metadata": {},
     "output_type": "execute_result"
    }
   ],
   "source": [
    "# GPU 설정\n",
    "device = torch.device(\"cuda\" if torch.cuda.is_available() else \"cpu\")\n",
    "device"
   ]
  },
  {
   "cell_type": "code",
   "execution_count": 12,
   "metadata": {},
   "outputs": [
    {
     "name": "stdout",
     "output_type": "stream",
     "text": [
      "0 마다 train_loss : 0.7371, val_loss : 0.5425\n",
      "1 마다 train_loss : 0.5494, val_loss : 0.5203\n",
      "2 마다 train_loss : 0.5586, val_loss : 0.4314\n",
      "3 마다 train_loss : 0.5328, val_loss : 0.4668\n",
      "4 마다 train_loss : 0.5381, val_loss : 0.4168\n",
      "5 마다 train_loss : 0.5461, val_loss : 0.4295\n",
      "6 마다 train_loss : 0.5479, val_loss : 0.4080\n",
      "7 마다 train_loss : 0.5580, val_loss : 0.4116\n",
      "8 마다 train_loss : 0.5233, val_loss : 0.4475\n",
      "9 마다 train_loss : 0.5527, val_loss : 0.4539\n",
      "10 마다 train_loss : 0.5044, val_loss : 0.4083\n",
      "11 마다 train_loss : 0.5055, val_loss : 0.3873\n",
      "12 마다 train_loss : 0.4593, val_loss : 0.4115\n",
      "13 마다 train_loss : 0.4468, val_loss : 0.4135\n",
      "14 마다 train_loss : 0.4413, val_loss : 0.4113\n",
      "15 마다 train_loss : 0.4411, val_loss : 0.4247\n",
      "16 마다 train_loss : 0.4646, val_loss : 0.3638\n",
      "17 마다 train_loss : 0.4447, val_loss : 0.3660\n",
      "18 마다 train_loss : 0.4233, val_loss : 0.3638\n",
      "19 마다 train_loss : 0.4163, val_loss : 0.3550\n",
      "20 마다 train_loss : 0.4133, val_loss : 0.3543\n",
      "21 마다 train_loss : 0.4187, val_loss : 0.3523\n",
      "22 마다 train_loss : 0.4207, val_loss : 0.3550\n",
      "23 마다 train_loss : 0.4121, val_loss : 0.3557\n",
      "24 마다 train_loss : 0.4133, val_loss : 0.3551\n",
      "25 마다 train_loss : 0.4163, val_loss : 0.3586\n",
      "26 마다 train_loss : 0.4188, val_loss : 0.3520\n",
      "27 마다 train_loss : 0.4177, val_loss : 0.3548\n",
      "28 마다 train_loss : 0.4083, val_loss : 0.3556\n",
      "29 마다 train_loss : 0.4356, val_loss : 0.3526\n",
      "30 마다 train_loss : 0.4127, val_loss : 0.3518\n",
      "31 마다 train_loss : 0.4127, val_loss : 0.3526\n",
      "32 마다 train_loss : 0.4168, val_loss : 0.3534\n",
      "33 마다 train_loss : 0.4104, val_loss : 0.3536\n",
      "34 마다 train_loss : 0.4188, val_loss : 0.3538\n",
      "35 마다 train_loss : 0.4168, val_loss : 0.3535\n",
      "36 마다 train_loss : 0.4179, val_loss : 0.3529\n",
      "37 마다 train_loss : 0.4152, val_loss : 0.3523\n",
      "38 마다 train_loss : 0.4140, val_loss : 0.3529\n",
      "39 마다 train_loss : 0.4038, val_loss : 0.3520\n",
      "40 마다 train_loss : 0.4139, val_loss : 0.3520\n",
      "41 마다 train_loss : 0.4104, val_loss : 0.3520\n",
      "42 마다 train_loss : 0.4131, val_loss : 0.3519\n",
      "43 마다 train_loss : 0.4148, val_loss : 0.3520\n",
      "44 마다 train_loss : 0.4109, val_loss : 0.3520\n",
      "45 마다 train_loss : 0.4185, val_loss : 0.3520\n",
      "46 마다 train_loss : 0.4148, val_loss : 0.3520\n",
      "47 마다 train_loss : 0.4093, val_loss : 0.3521\n",
      "48 마다 train_loss : 0.4187, val_loss : 0.3522\n",
      "49 마다 train_loss : 0.4192, val_loss : 0.3522\n"
     ]
    }
   ],
   "source": [
    "# 모델, 손실함수, 옵티마이저 설정\n",
    "model = MyCustomModel().to(device)\n",
    "criterion = nn.MSELoss()\n",
    "optimizer = optim.AdamW(model.parameters(), lr=0.01, weight_decay=0.01)\n",
    "scheduler = optim.lr_scheduler.StepLR(optimizer, step_size=10, gamma=0.1)\n",
    "\n",
    "# 학습 및 검증 루프\n",
    "epochs = 50\n",
    "train_losses = []\n",
    "val_losses = []\n",
    "\n",
    "for epoch in range(epochs):\n",
    "    model.train()\n",
    "    train_loss = 0.0\n",
    "\n",
    "    for data, labels in train_loader:\n",
    "        data, labels = data.to(device), labels.to(device).unsqueeze(1)\n",
    "\n",
    "        ouputs = model(data) # 예측 결과\n",
    "        loss = criterion(ouputs, labels) # 예측값과 실제값의 loss 계산\n",
    "\n",
    "        optimizer.zero_grad() # 가중치 초기화\n",
    "        loss.backward() # 역전파 알아서 해주기\n",
    "        optimizer.step() # 가중치 업데이트\n",
    "\n",
    "        train_loss += loss.item()\n",
    "    train_loss /= len(train_loader)\n",
    "    train_losses.append(train_loss)\n",
    "\n",
    "    # 검증 loss 계산하기\n",
    "    model.eval()\n",
    "    val_loss = 0.0\n",
    "    with torch.no_grad(): # 가중치 업데이트를 하지 않겠다\n",
    "        for data, labels in val_loader:\n",
    "            data, labels = data.to(device), labels.to(device).unsqueeze(1)\n",
    "\n",
    "            ouputs = model(data)\n",
    "            loss = criterion(ouputs, labels) # 평가 loss\n",
    "            val_loss += loss.item()\n",
    "        val_loss /= len(val_loader)\n",
    "        val_losses.append(val_loss)\n",
    "\n",
    "        scheduler.step()\n",
    "        print(f\"{epoch} 마다 train_loss : {train_loss:.4f}, val_loss : {val_loss:.4f}\")"
   ]
  },
  {
   "cell_type": "code",
   "execution_count": 13,
   "metadata": {},
   "outputs": [
    {
     "data": {
      "image/png": "[encoded data removed]",
      "text/plain": [
       "<Figure size 1000x500 with 1 Axes>"
      ]
     },
     "metadata": {},
     "output_type": "display_data"
    }
   ],
   "source": [
    "# 시각화 해보기\n",
    "plt.figure(figsize=(10,5))\n",
    "plt.plot(range(epochs), train_losses, label='Train Loss')\n",
    "plt.plot(range(epochs), val_losses, label='Val Loss')\n",
    "plt.legend()\n",
    "plt.show()"
   ]
  },
  {
   "cell_type": "code",
   "execution_count": 14,
   "metadata": {},
   "outputs": [
    {
     "name": "stdout",
     "output_type": "stream",
     "text": [
      "Test Loss: 0.3537\n"
     ]
    }
   ],
   "source": [
    "# 모델 평가\n",
    "model.eval()\n",
    "\n",
    "test_loss = 0.0\n",
    "with torch.no_grad():\n",
    "    for data, labels in test_loader:\n",
    "        data, labels = data.to(device), labels.to(device).unsqueeze(1)\n",
    "        outputs = model(data)\n",
    "        loss = criterion(outputs, labels)\n",
    "        test_loss += loss.item()\n",
    "test_loss /= len(test_loader)\n",
    "print(f\"Test Loss: {test_loss:.4f}\")"
   ]
  },
  {
   "cell_type": "code",
   "execution_count": 15,
   "metadata": {},
   "outputs": [
    {
     "name": "stdout",
     "output_type": "stream",
     "text": [
      "예측값은 3.6930553913116455 실제값은 3.506\n"
     ]
    }
   ],
   "source": [
    "import numpy as np\n",
    "# 최종예측\n",
    "sample = torch.tensor(np.array([X_test[0]]), dtype=torch.float32).to(device) # 예측해볼 데이터 하나\n",
    "model.eval()\n",
    "with torch.no_grad():\n",
    "    outputs = model(sample)\n",
    "    print(\"예측값은\", outputs.item(), \"실제값은\", y_test[0])"
   ]
  }
 ],
 "metadata": {
  "kernelspec": {
   "display_name": "gumi_env310",
   "language": "python",
   "name": "python3"
  },
  "language_info": {
   "codemirror_mode": {
    "name": "ipython",
    "version": 3
   },
   "file_extension": ".py",
   "mimetype": "text/x-python",
   "name": "python",
   "nbconvert_exporter": "python",
   "pygments_lexer": "ipython3",
   "version": "3.10.14"
  }
 },
 "nbformat": 4,
 "nbformat_minor": 2
}
