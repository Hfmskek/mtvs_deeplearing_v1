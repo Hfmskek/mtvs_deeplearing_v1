{
 "cells": [
  {
   "cell_type": "code",
   "execution_count": 1,
   "metadata": {},
   "outputs": [
    {
     "name": "stdout",
     "output_type": "stream",
     "text": [
      "4.0\n"
     ]
    }
   ],
   "source": [
    "성적=\"A\"\n",
    "학점 = \"\"\n",
    "if 성적 == \"A+\":\n",
    "    학점 = 4.5\n",
    "elif 성적 == \"A\":\n",
    "    학점 = 4.0\n",
    "elif 성적 == \"B+\":\n",
    "    학점 = 3.5\n",
    "elif 성적 == \"B\":\n",
    "    학점 = 3.0\n",
    "elif 성적 == \"C+\":\n",
    "    학점 = 2.5\n",
    "elif 성적 == \"c\":\n",
    "    학점 = 2.0\n",
    "elif 성적 == \"D+\":\n",
    "    학점 = 1.5\n",
    "elif 성적 == \"D\":\n",
    "    학점 = 1.0\n",
    "else:\n",
    "    학점 = 0\n",
    "print(학점)"
   ]
  },
  {
   "cell_type": "markdown",
   "metadata": {},
   "source": [
    "# 조건문 나의 조건문"
   ]
  },
  {
   "cell_type": "code",
   "execution_count": 2,
   "metadata": {},
   "outputs": [
    {
     "name": "stdout",
     "output_type": "stream",
     "text": [
      "커피를 사셔야 합니다.\n",
      "과자는 있습니다.\n"
     ]
    }
   ],
   "source": [
    "bag=[\"콜라\", \"과자\", \"리면\",\"프로틴\"]\n",
    "\n",
    "if \"커피\" not in bag:\n",
    "    print(\"커피를 사셔야 합니다.\")\n",
    "    if \"과자\" not in bag:\n",
    "        print(\"과자도 사셔야 합니다.\")\n",
    "    else:\n",
    "        print(\"과자는 있습니다.\")\n",
    "else:\n",
    "    print(\"커피는 있습니다. \")"
   ]
  },
  {
   "cell_type": "markdown",
   "metadata": {},
   "source": [
    "### if  문안의 중첩\n",
    " - 체크해야할 사항이 여러개인 경우"
   ]
  },
  {
   "cell_type": "code",
   "execution_count": 6,
   "metadata": {},
   "outputs": [],
   "source": [
    "gender = \"남자\"\n",
    "age = 31\n",
    "\n",
    "## 20대 여자는 2층, 30대 여자는 3층\n",
    "## 20대 님자는 4층, 30대 남자는 5층 안내하는 조건문 "
   ]
  },
  {
   "cell_type": "code",
   "execution_count": 7,
   "metadata": {},
   "outputs": [
    {
     "name": "stdout",
     "output_type": "stream",
     "text": [
      "5층으로 가세요\n"
     ]
    }
   ],
   "source": [
    "if gender == \"남자\":\n",
    "    # 20eo 인지\n",
    "    if 20 <= age <30:\n",
    "        print(\"4층으로 가세요\")\n",
    "    else:\n",
    "        print(\"5층으로 가세요\")\n",
    "else:\n",
    "    if 20 <= age <30:\n",
    "        print(\"4층으로 가세요\")\n",
    "    else:\n",
    "        print(\"5층으로 가세요\")"
   ]
  },
  {
   "cell_type": "markdown",
   "metadata": {},
   "source": [
    "### 자주하는 실수 - 확인만하기"
   ]
  },
  {
   "cell_type": "code",
   "execution_count": 9,
   "metadata": {},
   "outputs": [
    {
     "name": "stdout",
     "output_type": "stream",
     "text": [
      "남자입니다\n",
      "남자 맞니?\n"
     ]
    }
   ],
   "source": [
    "if gender == \"남자\": #콜론 실수로, 빠뜨리는 경우,\n",
    "    print(\"남자입니다\")\n",
    "    print(\"남자 맞니?\")\n",
    "else:\n",
    "        print(\"나이는 20대 입니다\") # 들여쓰기 실수도 주의"
   ]
  },
  {
   "cell_type": "code",
   "execution_count": null,
   "metadata": {},
   "outputs": [],
   "source": []
  }
 ],
 "metadata": {
  "kernelspec": {
   "display_name": "Python 3",
   "language": "python",
   "name": "python3"
  },
  "language_info": {
   "codemirror_mode": {
    "name": "ipython",
    "version": 3
   },
   "file_extension": ".py",
   "mimetype": "text/x-python",
   "name": "python",
   "nbconvert_exporter": "python",
   "pygments_lexer": "ipython3",
   "version": "3.12.4"
  }
 },
 "nbformat": 4,
 "nbformat_minor": 2
}
