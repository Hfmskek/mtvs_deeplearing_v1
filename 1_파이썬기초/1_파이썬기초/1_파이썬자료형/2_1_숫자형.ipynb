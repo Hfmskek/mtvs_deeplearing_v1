{
 "cells": [
  {
   "cell_type": "code",
   "execution_count": 18,
   "metadata": {},
   "outputs": [
    {
     "name": "stdout",
     "output_type": "stream",
     "text": [
      "10 20 50\n"
     ]
    }
   ],
   "source": [
    "x=10\n",
    "y=20\n",
    "z=50\n",
    "print(x,y,z)"
   ]
  },
  {
   "cell_type": "code",
   "execution_count": 19,
   "metadata": {},
   "outputs": [
    {
     "name": "stdout",
     "output_type": "stream",
     "text": [
      "3.14 2.1 100000.0\n"
     ]
    }
   ],
   "source": [
    "a=3.14\n",
    "b=2.1\n",
    "c=1.0e5\n",
    "print(a,b,c)"
   ]
  },
  {
   "cell_type": "markdown",
   "metadata": {},
   "source": [
    "### 3. 사칙연산\n",
    " - 더하기\n",
    " - 빼기\n",
    " - 나누기\n",
    " - 곱하기\n",
    " - 나머지구하기\n",
    " - 몫 구하기"
   ]
  },
  {
   "cell_type": "code",
   "execution_count": 4,
   "metadata": {},
   "outputs": [
    {
     "data": {
      "text/plain": [
       "150"
      ]
     },
     "execution_count": 4,
     "metadata": {},
     "output_type": "execute_result"
    }
   ],
   "source": [
    "math_score =80\n",
    "eng_score=70\n",
    "math_score+eng_score"
   ]
  },
  {
   "cell_type": "code",
   "execution_count": 6,
   "metadata": {},
   "outputs": [
    {
     "data": {
      "text/plain": [
       "10"
      ]
     },
     "execution_count": 6,
     "metadata": {},
     "output_type": "execute_result"
    }
   ],
   "source": [
    "math_score-eng_score"
   ]
  },
  {
   "cell_type": "code",
   "execution_count": null,
   "metadata": {},
   "outputs": [],
   "source": [
    "# 피자 한판 -> 20000\n",
    "# 인원수 -> 9\n",
    "# 한판당 먹을 수 있는 인원 3명"
   ]
  },
  {
   "cell_type": "code",
   "execution_count": 8,
   "metadata": {},
   "outputs": [
    {
     "name": "stdout",
     "output_type": "stream",
     "text": [
      "6666.666666666667\n"
     ]
    }
   ],
   "source": [
    "피자_가격 = 20000\n",
    "인원수 = 9\n",
    "피자= 3\n",
    "한명당_내야될_가격=피자*피자_가격/인원수\n",
    "print(한명당_내야될_가격)"
   ]
  },
  {
   "cell_type": "code",
   "execution_count": 9,
   "metadata": {},
   "outputs": [
    {
     "data": {
      "text/plain": [
       "21"
      ]
     },
     "execution_count": 9,
     "metadata": {},
     "output_type": "execute_result"
    }
   ],
   "source": [
    "# 번호판 -> 번호가 4개\n",
    "# 목표 : 21 만들기\n",
    "# 7321\n",
    "7*3*(2-1)"
   ]
  },
  {
   "cell_type": "markdown",
   "metadata": {},
   "source": [
    "### 1. 여행 경비 계산\n",
    " - 숙박비\n",
    " - 참여인원수\n",
    " - 식사 비용\n",
    " - 각각 지불해야할 경비 계산"
   ]
  },
  {
   "cell_type": "code",
   "execution_count": 12,
   "metadata": {},
   "outputs": [
    {
     "name": "stdout",
     "output_type": "stream",
     "text": [
      "2400.0\n"
     ]
    }
   ],
   "source": [
    "숙박비 =10000\n",
    "참여인원수 = 5\n",
    "식사_비용 = 2000\n",
    "각각_지불해야할_경비_계산 = (숙박비+식사_비용)/참여인원수\n",
    "print(각각_지불해야할_경비_계산)"
   ]
  },
  {
   "cell_type": "markdown",
   "metadata": {},
   "source": [
    "### 2. 볼링치는 경비 계산\n",
    " - 기본금\n",
    " - 신발 대여금\n",
    " - 음료수"
   ]
  },
  {
   "cell_type": "code",
   "execution_count": 14,
   "metadata": {},
   "outputs": [
    {
     "data": {
      "text/plain": [
       "17000"
      ]
     },
     "execution_count": 14,
     "metadata": {},
     "output_type": "execute_result"
    }
   ],
   "source": [
    "기본금 = 2000\n",
    "신발_대여금 = 10000\n",
    "음료수 = 5000\n",
    "비용 =기본금+신발_대여금+음료수\n",
    "비용"
   ]
  },
  {
   "cell_type": "code",
   "execution_count": 17,
   "metadata": {},
   "outputs": [
    {
     "name": "stdout",
     "output_type": "stream",
     "text": [
      "\n"
     ]
    }
   ],
   "source": [
    "# 사용자 입력 받기\n",
    "str = input(\"HelloWorld!\")\n",
    "print(str)"
   ]
  },
  {
   "cell_type": "code",
   "execution_count": null,
   "metadata": {},
   "outputs": [],
   "source": []
  }
 ],
 "metadata": {
  "kernelspec": {
   "display_name": "Python 3",
   "language": "python",
   "name": "python3"
  },
  "language_info": {
   "codemirror_mode": {
    "name": "ipython",
    "version": 3
   },
   "file_extension": ".py",
   "mimetype": "text/x-python",
   "name": "python",
   "nbconvert_exporter": "python",
   "pygments_lexer": "ipython3",
   "version": "3.12.4"
  }
 },
 "nbformat": 4,
 "nbformat_minor": 2
}
