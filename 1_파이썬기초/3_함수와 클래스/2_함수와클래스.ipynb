{
 "cells": [
  {
   "cell_type": "markdown",
   "metadata": {},
   "source": [
    "### 클래스 기본"
   ]
  },
  {
   "cell_type": "code",
   "execution_count": 1,
   "metadata": {},
   "outputs": [
    {
     "name": "stdout",
     "output_type": "stream",
     "text": [
      "이름을 등록해주세요\n",
      "홍길동\n"
     ]
    }
   ],
   "source": [
    "class UserDataBasic:\n",
    "    name = \"이름을 등록해주세요\"\n",
    "    \n",
    "user_1 = UserDataBasic()\n",
    "print(user_1.name)\n",
    "\n",
    "user_2 = UserDataBasic()\n",
    "user_2.name = \"홍길동\"\n",
    "print(user_2.name)\n"
   ]
  },
  {
   "cell_type": "markdown",
   "metadata": {},
   "source": [
    "### 클래스 메서드 등록"
   ]
  },
  {
   "cell_type": "code",
   "execution_count": 2,
   "metadata": {},
   "outputs": [
    {
     "name": "stdout",
     "output_type": "stream",
     "text": [
      "홍길동\n"
     ]
    }
   ],
   "source": [
    "class UserDataMethod:\n",
    "    def set_name(self, name):\n",
    "        self.name = name\n",
    "    def get_name(self):\n",
    "        return self.name\n",
    "\n",
    "user = UserDataMethod()\n",
    "user.set_name(\"홍길동\")\n",
    "print(user.get_name())"
   ]
  },
  {
   "cell_type": "code",
   "execution_count": 3,
   "metadata": {},
   "outputs": [],
   "source": [
    "user = UserDataMethod()"
   ]
  },
  {
   "cell_type": "code",
   "execution_count": 4,
   "metadata": {},
   "outputs": [
    {
     "data": {
      "text/plain": [
       "<bound method UserDataMethod.get_name of <__main__.UserDataMethod object at 0x000001B8DA4684A0>>"
      ]
     },
     "execution_count": 4,
     "metadata": {},
     "output_type": "execute_result"
    }
   ],
   "source": [
    "user.get_name"
   ]
  },
  {
   "cell_type": "markdown",
   "metadata": {},
   "source": [
    "# 클래스 생성(init)  초기 입력값으 받아서 복사본 생성"
   ]
  },
  {
   "cell_type": "code",
   "execution_count": 5,
   "metadata": {},
   "outputs": [],
   "source": [
    "class UserDataInit_1:\n",
    "    def __init__(self):\n",
    "        self.name=\"미지정\"\n",
    "        self.password = \"****\"\n",
    "        self.email=\"***@***.com\"\n",
    "    \n",
    "    def get_info(self):\n",
    "        print(self.name)\n",
    "        print(self.password)\n",
    "        print(self.email)\n",
    "        return [self.name, self.password, self.email]"
   ]
  },
  {
   "cell_type": "code",
   "execution_count": 6,
   "metadata": {},
   "outputs": [
    {
     "name": "stdout",
     "output_type": "stream",
     "text": [
      "미지정\n",
      "****\n",
      "***@***.com\n"
     ]
    }
   ],
   "source": [
    "user=UserDataInit_1()\n",
    "info_data=user.get_info()"
   ]
  },
  {
   "cell_type": "code",
   "execution_count": 7,
   "metadata": {},
   "outputs": [
    {
     "data": {
      "text/plain": [
       "['미지정', '****', '***@***.com']"
      ]
     },
     "execution_count": 7,
     "metadata": {},
     "output_type": "execute_result"
    }
   ],
   "source": [
    "info_data"
   ]
  },
  {
   "cell_type": "code",
   "execution_count": 17,
   "metadata": {},
   "outputs": [],
   "source": [
    "class UserDataInit_2:\n",
    "    def __init__(self, name, password, email):\n",
    "        self.name=\"미지정\"\n",
    "        self.password = \"****\"\n",
    "        self.email=\"***@***.com\"\n",
    "    \n",
    "    def get_info(self):\n",
    "        print(self.name)\n",
    "        print(self.password)\n",
    "        print(self.email)\n",
    "        return [self.name, self.password, self.email]"
   ]
  },
  {
   "cell_type": "code",
   "execution_count": 18,
   "metadata": {},
   "outputs": [],
   "source": [
    "user_2=UserDataInit_2(\"김XX\", \"1234\", \"example@gmail.com\")\n"
   ]
  },
  {
   "cell_type": "code",
   "execution_count": 19,
   "metadata": {},
   "outputs": [
    {
     "name": "stdout",
     "output_type": "stream",
     "text": [
      "미지정\n",
      "****\n",
      "***@***.com\n"
     ]
    },
    {
     "data": {
      "text/plain": [
       "['미지정', '****', '***@***.com']"
      ]
     },
     "execution_count": 19,
     "metadata": {},
     "output_type": "execute_result"
    }
   ],
   "source": [
    "user_2.get_info()"
   ]
  },
  {
   "cell_type": "code",
   "execution_count": 20,
   "metadata": {},
   "outputs": [
    {
     "name": "stdout",
     "output_type": "stream",
     "text": [
      "김동영\n",
      "1234\n",
      "diwkcpth@gmail.com\n"
     ]
    },
    {
     "data": {
      "text/plain": [
       "['김동영', '1234', 'diwkcpth@gmail.com']"
      ]
     },
     "execution_count": 20,
     "metadata": {},
     "output_type": "execute_result"
    }
   ],
   "source": [
    "class UserDataInit_2:\n",
    "    def __init__(self, name, password, email):\n",
    "        self.name = name\n",
    "        self.password = password\n",
    "        self.email = email\n",
    "    \n",
    "    def get_info(self):\n",
    "        print(self.name)\n",
    "        print(self.password)\n",
    "        print(self.email)\n",
    "        return [self.name, self.password, self.email]\n",
    "\n",
    "user_2 = UserDataInit_2(\"김XX\", \"1234\", \"example@gmail.com\")\n",
    "user_2.get_info()\n"
   ]
  },
  {
   "cell_type": "code",
   "execution_count": 22,
   "metadata": {},
   "outputs": [],
   "source": [
    "class UserDataInit_3:\n",
    "    def __init__(self):\n",
    "        self.name = name\n",
    "        self.password = password\n",
    "        self.email = email\n",
    "    \n",
    "    def get_info(self):\n",
    "        print(self.name)\n",
    "        print(self.password)\n",
    "        print(self.email)\n",
    "        return [self.name, self.password, self.email]"
   ]
  },
  {
   "cell_type": "code",
   "execution_count": 23,
   "metadata": {},
   "outputs": [],
   "source": [
    "user_3 = UserDataInit_3"
   ]
  },
  {
   "cell_type": "code",
   "execution_count": 26,
   "metadata": {},
   "outputs": [
    {
     "name": "stdout",
     "output_type": "stream",
     "text": [
      "<class '__main__.UserDataInit_3'>\n"
     ]
    }
   ],
   "source": [
    "print(user_3)"
   ]
  },
  {
   "cell_type": "markdown",
   "metadata": {},
   "source": [
    "# 클래스 상속\n",
    " - 베이스가 될만한 클래스를 만들어야 -> 부모 클래스\n",
    " - 상속받는 클래스 -> 자식 클래스"
   ]
  },
  {
   "cell_type": "code",
   "execution_count": 29,
   "metadata": {},
   "outputs": [],
   "source": [
    "class UserData:\n",
    "    def __init__(self, name, password, email):\n",
    "        self.name =name\n",
    "        self.password =password\n",
    "        self.email =email\n",
    "\n",
    "    def get_info(self):\n",
    "        for item in self.__dict__.items():\n",
    "            print(item)"
   ]
  },
  {
   "cell_type": "code",
   "execution_count": 30,
   "metadata": {},
   "outputs": [],
   "source": [
    "user = UserData(\"김XX\", \"1234\", \"example@gmail.com\")"
   ]
  },
  {
   "cell_type": "code",
   "execution_count": 31,
   "metadata": {},
   "outputs": [
    {
     "data": {
      "text/plain": [
       "<__main__.UserData at 0x1b8da4ce9f0>"
      ]
     },
     "execution_count": 31,
     "metadata": {},
     "output_type": "execute_result"
    }
   ],
   "source": [
    "user"
   ]
  },
  {
   "cell_type": "code",
   "execution_count": 32,
   "metadata": {},
   "outputs": [
    {
     "name": "stdout",
     "output_type": "stream",
     "text": [
      "('name', '김동영')\n",
      "('password', '1234')\n",
      "('email', 'diwkcpth@gmail.com')\n"
     ]
    }
   ],
   "source": [
    "user.get_info()"
   ]
  },
  {
   "cell_type": "code",
   "execution_count": 35,
   "metadata": {},
   "outputs": [],
   "source": [
    "# 상속\n",
    "class UserDataChild(UserData) :\n",
    "    def add_info(self, age):\n",
    "        self.age = age"
   ]
  },
  {
   "cell_type": "code",
   "execution_count": 36,
   "metadata": {},
   "outputs": [],
   "source": [
    "user_child = UserDataChild(\"김XX\", \"1234\", \"example@gmail.com\")"
   ]
  },
  {
   "cell_type": "code",
   "execution_count": 37,
   "metadata": {},
   "outputs": [
    {
     "data": {
      "text/plain": [
       "<__main__.UserDataChild at 0x1b8da490fb0>"
      ]
     },
     "execution_count": 37,
     "metadata": {},
     "output_type": "execute_result"
    }
   ],
   "source": [
    "user_child"
   ]
  },
  {
   "cell_type": "code",
   "execution_count": 41,
   "metadata": {},
   "outputs": [],
   "source": [
    "user_child = UserDataChild(\"홍길동\", \"1234\", \"1234@1234.com\")\n",
    "user_child.add_info(25)"
   ]
  },
  {
   "cell_type": "code",
   "execution_count": 42,
   "metadata": {},
   "outputs": [
    {
     "name": "stdout",
     "output_type": "stream",
     "text": [
      "('name', '홍길동')\n",
      "('password', '1234')\n",
      "('email', '1234@1234.com')\n",
      "('age', 25)\n"
     ]
    }
   ],
   "source": [
    "user_child.get_info()"
   ]
  },
  {
   "cell_type": "code",
   "execution_count": null,
   "metadata": {},
   "outputs": [],
   "source": [
    "class Myclass :\n",
    "    def __init__(self) -> None:\n",
    "        pass"
   ]
  }
 ],
 "metadata": {
  "kernelspec": {
   "display_name": "Python 3",
   "language": "python",
   "name": "python3"
  },
  "language_info": {
   "codemirror_mode": {
    "name": "ipython",
    "version": 3
   },
   "file_extension": ".py",
   "mimetype": "text/x-python",
   "name": "python",
   "nbconvert_exporter": "python",
   "pygments_lexer": "ipython3",
   "version": "3.12.4"
  }
 },
 "nbformat": 4,
 "nbformat_minor": 2
}
