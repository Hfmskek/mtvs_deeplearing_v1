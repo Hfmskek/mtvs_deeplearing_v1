{
 "cells": [
  {
   "cell_type": "code",
   "execution_count": 1,
   "metadata": {},
   "outputs": [
    {
     "data": {
      "text/plain": [
       "5"
      ]
     },
     "execution_count": 1,
     "metadata": {},
     "output_type": "execute_result"
    }
   ],
   "source": [
    "max(2,5)"
   ]
  },
  {
   "cell_type": "code",
   "execution_count": 2,
   "metadata": {},
   "outputs": [
    {
     "name": "stdout",
     "output_type": "stream",
     "text": [
      "2\n"
     ]
    }
   ],
   "source": [
    "a=2\n",
    "b=2\n",
    "\n",
    "# max -> 기능 -> 함수\n",
    "if a>=b:\n",
    "    print(a)\n",
    "else:\n",
    "    print(b)"
   ]
  },
  {
   "cell_type": "code",
   "execution_count": 11,
   "metadata": {},
   "outputs": [],
   "source": [
    "min_data=\"991122-1234567\""
   ]
  },
  {
   "cell_type": "code",
   "execution_count": 12,
   "metadata": {},
   "outputs": [],
   "source": [
    "## 주민등록 성별 판독기 함수 작성 -> 실행만\n",
    "def min_cal(min_data):\n",
    "    gender_num = int(min_data[7])\n",
    "    gender =\"\"\n",
    "    if gender_num % 2 == 1:\n",
    "        gender=\"남자\"\n",
    "    else:\n",
    "        gender=\"여자\"\n",
    "    print(gender)"
   ]
  },
  {
   "cell_type": "code",
   "execution_count": 13,
   "metadata": {},
   "outputs": [
    {
     "name": "stdout",
     "output_type": "stream",
     "text": [
      "남자\n"
     ]
    }
   ],
   "source": [
    "data = min_cal(min_data)\n",
    "data"
   ]
  },
  {
   "cell_type": "code",
   "execution_count": 14,
   "metadata": {},
   "outputs": [],
   "source": [
    "data"
   ]
  },
  {
   "cell_type": "code",
   "execution_count": 15,
   "metadata": {},
   "outputs": [],
   "source": [
    "## 주민등록 성별 판독기 함수 작성 -> 실행만\n",
    "def min_cal_return(min_data):\n",
    "    gender_num = int(min_data[7])\n",
    "    gender =\"\"\n",
    "    if gender_num % 2 == 1:\n",
    "        gender=\"남자\"\n",
    "    else:\n",
    "        gender=\"여자\"\n",
    "    print(gender)\n",
    "    return gender"
   ]
  },
  {
   "cell_type": "code",
   "execution_count": 19,
   "metadata": {},
   "outputs": [
    {
     "name": "stdout",
     "output_type": "stream",
     "text": [
      "남자\n"
     ]
    },
    {
     "data": {
      "text/plain": [
       "'남자'"
      ]
     },
     "execution_count": 19,
     "metadata": {},
     "output_type": "execute_result"
    }
   ],
   "source": [
    "data = min_cal_return(min_data)\n",
    "data"
   ]
  },
  {
   "cell_type": "code",
   "execution_count": 20,
   "metadata": {},
   "outputs": [
    {
     "data": {
      "text/plain": [
       "'남자'"
      ]
     },
     "execution_count": 20,
     "metadata": {},
     "output_type": "execute_result"
    }
   ],
   "source": [
    "data"
   ]
  },
  {
   "cell_type": "markdown",
   "metadata": {},
   "source": [
    "#### 1. 이름과 나이, 성별을 입력받아서 딕셔너리로 변환하는 함수를 작성해보세요\n",
    "#### 2. 주소를 입력받았을 때, 시와 도로 나누는 함수를 작성해보세요\n",
    " - 경상북도 구미시 신평동 24-1 201호 -> 반환 [경상북도, 구미시, 신평동]"
   ]
  },
  {
   "cell_type": "code",
   "execution_count": 22,
   "metadata": {},
   "outputs": [
    {
     "data": {
      "text/plain": [
       "['경상북도', '구미시', '신평동', '24-1', '201호']"
      ]
     },
     "execution_count": 22,
     "metadata": {},
     "output_type": "execute_result"
    }
   ],
   "source": [
    "data = \"경상북도 구미시 신평동 24-1 201호\"\n",
    "data.split()"
   ]
  },
  {
   "cell_type": "code",
   "execution_count": 23,
   "metadata": {},
   "outputs": [],
   "source": [
    "def dic(이름, 나이, 성별):\n",
    "    return {\n",
    "        '이름': 이름,\n",
    "        '나이': 나이,\n",
    "        '성별': 성별\n",
    "    }\n"
   ]
  },
  {
   "cell_type": "code",
   "execution_count": 24,
   "metadata": {},
   "outputs": [
    {
     "name": "stdout",
     "output_type": "stream",
     "text": [
      "{'이름': '홍길동', '나이': 25, '성별': '남'}\n"
     ]
    }
   ],
   "source": [
    "# 함수 사용 예시\n",
    "result = dic('홍길동', 25, '남')\n",
    "print(result)"
   ]
  },
  {
   "cell_type": "code",
   "execution_count": 25,
   "metadata": {},
   "outputs": [],
   "source": [
    "def 주소_리스트(주소):\n",
    "    # 주소를 공백으로 분리하여 리스트로 변환\n",
    "    주소_리스트 = 주소.split()\n",
    "    # 동까지만 포함된 부분 추출 (첫 세 요소)\n",
    "    결과 = 주소_리스트[:3]\n",
    "    return 결과"
   ]
  },
  {
   "cell_type": "code",
   "execution_count": 26,
   "metadata": {},
   "outputs": [
    {
     "data": {
      "text/plain": [
       "['경상북도', '구미시', '신평동']"
      ]
     },
     "execution_count": 26,
     "metadata": {},
     "output_type": "execute_result"
    }
   ],
   "source": [
    "주소_리스트(data)"
   ]
  },
  {
   "cell_type": "code",
   "execution_count": 27,
   "metadata": {},
   "outputs": [
    {
     "data": {
      "text/plain": [
       "{28, '나이', '이름', '홍길동'}"
      ]
     },
     "execution_count": 27,
     "metadata": {},
     "output_type": "execute_result"
    }
   ],
   "source": [
    "def user_info(name, age):\n",
    "    return {\"이름\", name, \"나이\", age}\n",
    "user_info(\"홍길동\", 28)"
   ]
  },
  {
   "cell_type": "code",
   "execution_count": 31,
   "metadata": {},
   "outputs": [
    {
     "name": "stdout",
     "output_type": "stream",
     "text": [
      "('홍길동', 28, '남자', '신평동')\n"
     ]
    }
   ],
   "source": [
    "def user_info(*args): #  *= 다받고 싶다\n",
    "    print(args)\n",
    "user_info(\"홍길동\", 28, \"남자\", \"신평동\")"
   ]
  },
  {
   "cell_type": "code",
   "execution_count": 36,
   "metadata": {},
   "outputs": [
    {
     "name": "stdout",
     "output_type": "stream",
     "text": [
      "{'이름': '홍길동', '나이': 28, '성별': '남자', '주소': '신평동'}\n"
     ]
    }
   ],
   "source": [
    "def user_info(**kwargs): #딕셔너리로 입력\n",
    "    print(kwargs)\n",
    "user_info(이름=\"홍길동\",나이=28, 성별=\"남자\", 주소=\"신평동\")"
   ]
  },
  {
   "cell_type": "code",
   "execution_count": 37,
   "metadata": {},
   "outputs": [
    {
     "name": "stdout",
     "output_type": "stream",
     "text": [
      "{'성별': '남자', '주소': '신평동'}\n"
     ]
    }
   ],
   "source": [
    "def user_info(이름, 나이, **kwargs): #딕셔너리로 입력\n",
    "    print(kwargs)\n",
    "user_info(이름=\"홍길동\",나이=28, 성별=\"남자\", 주소=\"신평동\")"
   ]
  },
  {
   "cell_type": "code",
   "execution_count": 39,
   "metadata": {},
   "outputs": [],
   "source": [
    "def user_info(이름, 나이, *args):\n",
    "    print(이름)\n",
    "    print(나이)\n",
    "    print(\"-\"*20)\n",
    "    print(args)"
   ]
  },
  {
   "cell_type": "code",
   "execution_count": 40,
   "metadata": {},
   "outputs": [
    {
     "name": "stdout",
     "output_type": "stream",
     "text": [
      "홍길동\n",
      "28\n",
      "--------------------\n",
      "('남자', '신평동')\n"
     ]
    }
   ],
   "source": [
    "user_info(\"홍길동\", 28, \"남자\", \"신평동\")"
   ]
  },
  {
   "cell_type": "markdown",
   "metadata": {},
   "source": [
    "### 람다 함수"
   ]
  },
  {
   "cell_type": "code",
   "execution_count": 48,
   "metadata": {},
   "outputs": [
    {
     "name": "stdout",
     "output_type": "stream",
     "text": [
      "홍길동님 안녕하세요\n"
     ]
    }
   ],
   "source": [
    "say = lambda name: print(f\"{name}님 안녕하세요\")\n",
    "say(\"홍길동\")"
   ]
  },
  {
   "cell_type": "code",
   "execution_count": 45,
   "metadata": {},
   "outputs": [
    {
     "data": {
      "text/plain": [
       "[(1, '철수'), (3, '수지'), (7, '영희')]"
      ]
     },
     "execution_count": 45,
     "metadata": {},
     "output_type": "execute_result"
    }
   ],
   "source": [
    "data = [(1,\"철수\"),(7,\"영희\"),(3,\"수지\")]\n",
    "data.sort()\n",
    "data"
   ]
  },
  {
   "cell_type": "code",
   "execution_count": 49,
   "metadata": {},
   "outputs": [
    {
     "data": {
      "text/plain": [
       "[(1, '철수'), (7, '영희'), (3, '수지')]"
      ]
     },
     "execution_count": 49,
     "metadata": {},
     "output_type": "execute_result"
    }
   ],
   "source": [
    "data = [(1,\"철수\"),(7,\"영희\"),(3,\"수지\")]\n",
    "data"
   ]
  },
  {
   "cell_type": "code",
   "execution_count": 52,
   "metadata": {},
   "outputs": [
    {
     "data": {
      "text/plain": [
       "[(3, '수지'), (7, '영희'), (1, '철수')]"
      ]
     },
     "execution_count": 52,
     "metadata": {},
     "output_type": "execute_result"
    }
   ],
   "source": [
    "# sort() -> 원본 리스트를 정렬\n",
    "# sorted() -> 정렬한 후에 정렬한 리스트를 반환\n",
    "# 외우는 게 나을 수도 -> 정렬에 대해서는\n",
    "sorted_data=sorted(data, key=lambda x: x[1])\n",
    "sorted_data"
   ]
  },
  {
   "cell_type": "markdown",
   "metadata": {},
   "source": [
    "### 파일 입출력 함수 익혀보기"
   ]
  },
  {
   "cell_type": "code",
   "execution_count": 76,
   "metadata": {},
   "outputs": [],
   "source": [
    "name_list=['김XX', '유YY','김ZZ']\n",
    "f=open(\"meta_names.txt\", 'w', encoding=\"utf-8\") #w 파일 생성 모드, a 파일 추가 모드, r 읽기 모드"
   ]
  },
  {
   "cell_type": "code",
   "execution_count": 77,
   "metadata": {},
   "outputs": [
    {
     "name": "stdout",
     "output_type": "stream",
     "text": [
      "김영환\n",
      "유예나\n",
      "김강우\n"
     ]
    }
   ],
   "source": [
    "for name in name_list:\n",
    "    print(name)\n",
    "    f.write(name + \"\\t\"+name + \"\\n\")\n",
    "f.close()"
   ]
  },
  {
   "cell_type": "code",
   "execution_count": 70,
   "metadata": {},
   "outputs": [],
   "source": [
    "with open(\"meta_names_new.txt\", 'w', encoding=\"utf-8\") as file:\n",
    "    for name in name_list:\n",
    "        file.write(name + \"\\n\")"
   ]
  },
  {
   "cell_type": "code",
   "execution_count": 72,
   "metadata": {},
   "outputs": [
    {
     "name": "stdout",
     "output_type": "stream",
     "text": [
      "김영환\n",
      "유예나\n",
      "김강우\n",
      "\n"
     ]
    }
   ],
   "source": [
    "with open(\"meta_names_new.txt\", 'r', encoding=\"utf-8\") as file:\n",
    "    data= file.read()   # read : 전부 읽기\n",
    "    print(data)"
   ]
  },
  {
   "cell_type": "code",
   "execution_count": 75,
   "metadata": {},
   "outputs": [
    {
     "name": "stdout",
     "output_type": "stream",
     "text": [
      "김영환\n",
      "유예나\n",
      "김강우\n"
     ]
    }
   ],
   "source": [
    "with open(\"meta_names_new.txt\", 'r', encoding=\"utf-8\") as file:\n",
    "    for item in range(3):\n",
    "        data= file.readline()   # readline : 한줄씩\n",
    "        print(data, end=\"\")"
   ]
  },
  {
   "cell_type": "code",
   "execution_count": 80,
   "metadata": {},
   "outputs": [],
   "source": [
    "with open(\"meta_names_new.txt\", 'a', encoding=\"utf-8\") as file:\n",
    "    file.write(\"김BB\"+\"\\n\")"
   ]
  },
  {
   "cell_type": "code",
   "execution_count": null,
   "metadata": {},
   "outputs": [],
   "source": []
  }
 ],
 "metadata": {
  "kernelspec": {
   "display_name": "Python 3",
   "language": "python",
   "name": "python3"
  },
  "language_info": {
   "codemirror_mode": {
    "name": "ipython",
    "version": 3
   },
   "file_extension": ".py",
   "mimetype": "text/x-python",
   "name": "python",
   "nbconvert_exporter": "python",
   "pygments_lexer": "ipython3",
   "version": "3.12.4"
  }
 },
 "nbformat": 4,
 "nbformat_minor": 2
}
