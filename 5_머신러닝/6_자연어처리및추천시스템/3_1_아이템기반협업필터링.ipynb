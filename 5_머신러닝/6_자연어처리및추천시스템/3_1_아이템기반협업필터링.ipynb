{
 "cells": [
  {
   "cell_type": "code",
   "execution_count": 1,
   "metadata": {},
   "outputs": [],
   "source": [
    "import numpy as np\n",
    "import pandas as pd"
   ]
  },
  {
   "cell_type": "code",
   "execution_count": 2,
   "metadata": {},
   "outputs": [],
   "source": [
    "from sklearn.metrics.pairwise import cosine_similarity"
   ]
  },
  {
   "cell_type": "code",
   "execution_count": 3,
   "metadata": {},
   "outputs": [],
   "source": [
    "data = {\n",
    "    \"사용자\": ['A', \"B\", \"C\", \"D\", \"E\"],\n",
    "    \"기생충\": [5,4,1,0,3],\n",
    "    \"부산행\": [0,2,0,4,0],\n",
    "    \"태극기 휘날리며\": [3, 0, 5, 4, 0],\n",
    "    \"도둑들\" : [1, 0, 4, 2, 4],\n",
    "    \"설국열차\" : [0, 3, 0, 0 ,5],\n",
    "    \"범죄도시\" : [2, 0, 4, 0, 3]\n",
    "}"
   ]
  },
  {
   "cell_type": "code",
   "execution_count": 4,
   "metadata": {},
   "outputs": [
    {
     "data": {
      "text/html": [
       "<div>\n",
       "<style scoped>\n",
       "    .dataframe tbody tr th:only-of-type {\n",
       "        vertical-align: middle;\n",
       "    }\n",
       "\n",
       "    .dataframe tbody tr th {\n",
       "        vertical-align: top;\n",
       "    }\n",
       "\n",
       "    .dataframe thead th {\n",
       "        text-align: right;\n",
       "    }\n",
       "</style>\n",
       "<table border=\"1\" class=\"dataframe\">\n",
       "  <thead>\n",
       "    <tr style=\"text-align: right;\">\n",
       "      <th></th>\n",
       "      <th>사용자</th>\n",
       "      <th>기생충</th>\n",
       "      <th>부산행</th>\n",
       "      <th>태극기 휘날리며</th>\n",
       "      <th>도둑들</th>\n",
       "      <th>설국열차</th>\n",
       "      <th>범죄도시</th>\n",
       "    </tr>\n",
       "  </thead>\n",
       "  <tbody>\n",
       "    <tr>\n",
       "      <th>0</th>\n",
       "      <td>A</td>\n",
       "      <td>5</td>\n",
       "      <td>0</td>\n",
       "      <td>3</td>\n",
       "      <td>1</td>\n",
       "      <td>0</td>\n",
       "      <td>2</td>\n",
       "    </tr>\n",
       "    <tr>\n",
       "      <th>1</th>\n",
       "      <td>B</td>\n",
       "      <td>4</td>\n",
       "      <td>2</td>\n",
       "      <td>0</td>\n",
       "      <td>0</td>\n",
       "      <td>3</td>\n",
       "      <td>0</td>\n",
       "    </tr>\n",
       "    <tr>\n",
       "      <th>2</th>\n",
       "      <td>C</td>\n",
       "      <td>1</td>\n",
       "      <td>0</td>\n",
       "      <td>5</td>\n",
       "      <td>4</td>\n",
       "      <td>0</td>\n",
       "      <td>4</td>\n",
       "    </tr>\n",
       "    <tr>\n",
       "      <th>3</th>\n",
       "      <td>D</td>\n",
       "      <td>0</td>\n",
       "      <td>4</td>\n",
       "      <td>4</td>\n",
       "      <td>2</td>\n",
       "      <td>0</td>\n",
       "      <td>0</td>\n",
       "    </tr>\n",
       "    <tr>\n",
       "      <th>4</th>\n",
       "      <td>E</td>\n",
       "      <td>3</td>\n",
       "      <td>0</td>\n",
       "      <td>0</td>\n",
       "      <td>4</td>\n",
       "      <td>5</td>\n",
       "      <td>3</td>\n",
       "    </tr>\n",
       "  </tbody>\n",
       "</table>\n",
       "</div>"
      ],
      "text/plain": [
       "  사용자  기생충  부산행  태극기 휘날리며  도둑들  설국열차  범죄도시\n",
       "0   A    5    0         3    1     0     2\n",
       "1   B    4    2         0    0     3     0\n",
       "2   C    1    0         5    4     0     4\n",
       "3   D    0    4         4    2     0     0\n",
       "4   E    3    0         0    4     5     3"
      ]
     },
     "execution_count": 4,
     "metadata": {},
     "output_type": "execute_result"
    }
   ],
   "source": [
    "df = pd.DataFrame(data)\n",
    "df.head()"
   ]
  },
  {
   "cell_type": "code",
   "execution_count": 5,
   "metadata": {},
   "outputs": [],
   "source": [
    "df = df.set_index('사용자')"
   ]
  },
  {
   "cell_type": "code",
   "execution_count": 6,
   "metadata": {},
   "outputs": [
    {
     "data": {
      "text/html": [
       "<div>\n",
       "<style scoped>\n",
       "    .dataframe tbody tr th:only-of-type {\n",
       "        vertical-align: middle;\n",
       "    }\n",
       "\n",
       "    .dataframe tbody tr th {\n",
       "        vertical-align: top;\n",
       "    }\n",
       "\n",
       "    .dataframe thead th {\n",
       "        text-align: right;\n",
       "    }\n",
       "</style>\n",
       "<table border=\"1\" class=\"dataframe\">\n",
       "  <thead>\n",
       "    <tr style=\"text-align: right;\">\n",
       "      <th></th>\n",
       "      <th>기생충</th>\n",
       "      <th>부산행</th>\n",
       "      <th>태극기 휘날리며</th>\n",
       "      <th>도둑들</th>\n",
       "      <th>설국열차</th>\n",
       "      <th>범죄도시</th>\n",
       "    </tr>\n",
       "    <tr>\n",
       "      <th>사용자</th>\n",
       "      <th></th>\n",
       "      <th></th>\n",
       "      <th></th>\n",
       "      <th></th>\n",
       "      <th></th>\n",
       "      <th></th>\n",
       "    </tr>\n",
       "  </thead>\n",
       "  <tbody>\n",
       "    <tr>\n",
       "      <th>A</th>\n",
       "      <td>5</td>\n",
       "      <td>0</td>\n",
       "      <td>3</td>\n",
       "      <td>1</td>\n",
       "      <td>0</td>\n",
       "      <td>2</td>\n",
       "    </tr>\n",
       "    <tr>\n",
       "      <th>B</th>\n",
       "      <td>4</td>\n",
       "      <td>2</td>\n",
       "      <td>0</td>\n",
       "      <td>0</td>\n",
       "      <td>3</td>\n",
       "      <td>0</td>\n",
       "    </tr>\n",
       "    <tr>\n",
       "      <th>C</th>\n",
       "      <td>1</td>\n",
       "      <td>0</td>\n",
       "      <td>5</td>\n",
       "      <td>4</td>\n",
       "      <td>0</td>\n",
       "      <td>4</td>\n",
       "    </tr>\n",
       "    <tr>\n",
       "      <th>D</th>\n",
       "      <td>0</td>\n",
       "      <td>4</td>\n",
       "      <td>4</td>\n",
       "      <td>2</td>\n",
       "      <td>0</td>\n",
       "      <td>0</td>\n",
       "    </tr>\n",
       "    <tr>\n",
       "      <th>E</th>\n",
       "      <td>3</td>\n",
       "      <td>0</td>\n",
       "      <td>0</td>\n",
       "      <td>4</td>\n",
       "      <td>5</td>\n",
       "      <td>3</td>\n",
       "    </tr>\n",
       "  </tbody>\n",
       "</table>\n",
       "</div>"
      ],
      "text/plain": [
       "     기생충  부산행  태극기 휘날리며  도둑들  설국열차  범죄도시\n",
       "사용자                                     \n",
       "A      5    0         3    1     0     2\n",
       "B      4    2         0    0     3     0\n",
       "C      1    0         5    4     0     4\n",
       "D      0    4         4    2     0     0\n",
       "E      3    0         0    4     5     3"
      ]
     },
     "execution_count": 6,
     "metadata": {},
     "output_type": "execute_result"
    }
   ],
   "source": [
    "df.head()"
   ]
  },
  {
   "cell_type": "code",
   "execution_count": 7,
   "metadata": {},
   "outputs": [
    {
     "data": {
      "text/html": [
       "<div>\n",
       "<style scoped>\n",
       "    .dataframe tbody tr th:only-of-type {\n",
       "        vertical-align: middle;\n",
       "    }\n",
       "\n",
       "    .dataframe tbody tr th {\n",
       "        vertical-align: top;\n",
       "    }\n",
       "\n",
       "    .dataframe thead th {\n",
       "        text-align: right;\n",
       "    }\n",
       "</style>\n",
       "<table border=\"1\" class=\"dataframe\">\n",
       "  <thead>\n",
       "    <tr style=\"text-align: right;\">\n",
       "      <th>사용자</th>\n",
       "      <th>A</th>\n",
       "      <th>B</th>\n",
       "      <th>C</th>\n",
       "      <th>D</th>\n",
       "      <th>E</th>\n",
       "    </tr>\n",
       "  </thead>\n",
       "  <tbody>\n",
       "    <tr>\n",
       "      <th>기생충</th>\n",
       "      <td>5</td>\n",
       "      <td>4</td>\n",
       "      <td>1</td>\n",
       "      <td>0</td>\n",
       "      <td>3</td>\n",
       "    </tr>\n",
       "    <tr>\n",
       "      <th>부산행</th>\n",
       "      <td>0</td>\n",
       "      <td>2</td>\n",
       "      <td>0</td>\n",
       "      <td>4</td>\n",
       "      <td>0</td>\n",
       "    </tr>\n",
       "    <tr>\n",
       "      <th>태극기 휘날리며</th>\n",
       "      <td>3</td>\n",
       "      <td>0</td>\n",
       "      <td>5</td>\n",
       "      <td>4</td>\n",
       "      <td>0</td>\n",
       "    </tr>\n",
       "    <tr>\n",
       "      <th>도둑들</th>\n",
       "      <td>1</td>\n",
       "      <td>0</td>\n",
       "      <td>4</td>\n",
       "      <td>2</td>\n",
       "      <td>4</td>\n",
       "    </tr>\n",
       "    <tr>\n",
       "      <th>설국열차</th>\n",
       "      <td>0</td>\n",
       "      <td>3</td>\n",
       "      <td>0</td>\n",
       "      <td>0</td>\n",
       "      <td>5</td>\n",
       "    </tr>\n",
       "  </tbody>\n",
       "</table>\n",
       "</div>"
      ],
      "text/plain": [
       "사용자       A  B  C  D  E\n",
       "기생충       5  4  1  0  3\n",
       "부산행       0  2  0  4  0\n",
       "태극기 휘날리며  3  0  5  4  0\n",
       "도둑들       1  0  4  2  4\n",
       "설국열차      0  3  0  0  5"
      ]
     },
     "execution_count": 7,
     "metadata": {},
     "output_type": "execute_result"
    }
   ],
   "source": [
    "# 아이템과 사용자 행렬로 변환하기 \n",
    "item_user_matrix = df.T\n",
    "item_user_matrix.head()"
   ]
  },
  {
   "cell_type": "code",
   "execution_count": 8,
   "metadata": {},
   "outputs": [
    {
     "data": {
      "text/html": [
       "<div>\n",
       "<style scoped>\n",
       "    .dataframe tbody tr th:only-of-type {\n",
       "        vertical-align: middle;\n",
       "    }\n",
       "\n",
       "    .dataframe tbody tr th {\n",
       "        vertical-align: top;\n",
       "    }\n",
       "\n",
       "    .dataframe thead th {\n",
       "        text-align: right;\n",
       "    }\n",
       "</style>\n",
       "<table border=\"1\" class=\"dataframe\">\n",
       "  <thead>\n",
       "    <tr style=\"text-align: right;\">\n",
       "      <th></th>\n",
       "      <th>기생충</th>\n",
       "      <th>부산행</th>\n",
       "      <th>태극기 휘날리며</th>\n",
       "      <th>도둑들</th>\n",
       "      <th>설국열차</th>\n",
       "      <th>범죄도시</th>\n",
       "    </tr>\n",
       "  </thead>\n",
       "  <tbody>\n",
       "    <tr>\n",
       "      <th>기생충</th>\n",
       "      <td>1.000000</td>\n",
       "      <td>0.250490</td>\n",
       "      <td>0.396059</td>\n",
       "      <td>0.483430</td>\n",
       "      <td>0.648394</td>\n",
       "      <td>0.598059</td>\n",
       "    </tr>\n",
       "    <tr>\n",
       "      <th>부산행</th>\n",
       "      <td>0.250490</td>\n",
       "      <td>1.000000</td>\n",
       "      <td>0.505964</td>\n",
       "      <td>0.294086</td>\n",
       "      <td>0.230089</td>\n",
       "      <td>0.000000</td>\n",
       "    </tr>\n",
       "    <tr>\n",
       "      <th>태극기 휘날리며</th>\n",
       "      <td>0.396059</td>\n",
       "      <td>0.505964</td>\n",
       "      <td>1.000000</td>\n",
       "      <td>0.720735</td>\n",
       "      <td>0.000000</td>\n",
       "      <td>0.682793</td>\n",
       "    </tr>\n",
       "    <tr>\n",
       "      <th>도둑들</th>\n",
       "      <td>0.483430</td>\n",
       "      <td>0.294086</td>\n",
       "      <td>0.720735</td>\n",
       "      <td>1.000000</td>\n",
       "      <td>0.563884</td>\n",
       "      <td>0.915844</td>\n",
       "    </tr>\n",
       "    <tr>\n",
       "      <th>설국열차</th>\n",
       "      <td>0.648394</td>\n",
       "      <td>0.230089</td>\n",
       "      <td>0.000000</td>\n",
       "      <td>0.563884</td>\n",
       "      <td>1.000000</td>\n",
       "      <td>0.477697</td>\n",
       "    </tr>\n",
       "  </tbody>\n",
       "</table>\n",
       "</div>"
      ],
      "text/plain": [
       "               기생충       부산행  태극기 휘날리며       도둑들      설국열차      범죄도시\n",
       "기생충       1.000000  0.250490  0.396059  0.483430  0.648394  0.598059\n",
       "부산행       0.250490  1.000000  0.505964  0.294086  0.230089  0.000000\n",
       "태극기 휘날리며  0.396059  0.505964  1.000000  0.720735  0.000000  0.682793\n",
       "도둑들       0.483430  0.294086  0.720735  1.000000  0.563884  0.915844\n",
       "설국열차      0.648394  0.230089  0.000000  0.563884  1.000000  0.477697"
      ]
     },
     "execution_count": 8,
     "metadata": {},
     "output_type": "execute_result"
    }
   ],
   "source": [
    "# 코사인 유사도를 계산해보기 - 평점을 매긴 스타일을 비교\n",
    "item_sim = cosine_similarity(item_user_matrix)\n",
    "item_sim_df = pd.DataFrame(item_sim, index=df.columns, columns=df.columns)\n",
    "item_sim_df.head()"
   ]
  },
  {
   "cell_type": "code",
   "execution_count": 9,
   "metadata": {},
   "outputs": [
    {
     "data": {
      "text/plain": [
       "기생충         5\n",
       "부산행         0\n",
       "태극기 휘날리며    3\n",
       "도둑들         1\n",
       "설국열차        0\n",
       "범죄도시        2\n",
       "Name: A, dtype: int64"
      ]
     },
     "execution_count": 9,
     "metadata": {},
     "output_type": "execute_result"
    }
   ],
   "source": [
    "user = \"A\"\n",
    "user_rating = df.loc[user]\n",
    "user_rating"
   ]
  },
  {
   "cell_type": "code",
   "execution_count": 10,
   "metadata": {},
   "outputs": [
    {
     "data": {
      "text/plain": [
       "['부산행', '설국열차']"
      ]
     },
     "execution_count": 10,
     "metadata": {},
     "output_type": "execute_result"
    }
   ],
   "source": [
    "# 점수가 0인 - 즉, 아직 보지 않은 아이템\n",
    "user_unrated_items = user_rating[user_rating==0].index.tolist()\n",
    "user_unrated_items"
   ]
  },
  {
   "cell_type": "code",
   "execution_count": 11,
   "metadata": {},
   "outputs": [
    {
     "name": "stdout",
     "output_type": "stream",
     "text": [
      "3.064427707888644 1.0505399908985236\n",
      "4.761250225771824 1.6899755345863623\n"
     ]
    }
   ],
   "source": [
    "# 추천점수를 계산해보기\n",
    "recommend_dic = {}\n",
    "\n",
    "for item in user_unrated_items: # 부산행, 설국열차\n",
    "    # 현재 아이템에 대한 유사도 점수 가져오기\n",
    "    sim_score = item_sim_df[item]\n",
    "\n",
    "    # 사용자가 평점을 부여한 아이템 목록 가져오기\n",
    "    user_rated_items = user_rating[user_rating > 0].index.tolist()\n",
    "\n",
    "    # 사용자가 평점을 부여한 아이템에 대한 유사도 점수를 필터링해보기\n",
    "    sim_score = sim_score[user_rated_items]\n",
    "\n",
    "    # 사용자가 평점을 부여한 아이템의 평점가져오기\n",
    "    user_rating_filtered = user_rating[user_rated_items]\n",
    "\n",
    "    # 가중치 합을 계산\n",
    "    weight_sum = sum(sim_score * user_rating_filtered)\n",
    "\n",
    "    sim_sum = sum(sim_score)\n",
    "    print(weight_sum, sim_sum)\n",
    "    if sim_sum !=0:\n",
    "        recommend_dic[item] = weight_sum/sim_sum\n",
    "    else:\n",
    "        recommend_dic[item] = 0"
   ]
  },
  {
   "cell_type": "code",
   "execution_count": 12,
   "metadata": {},
   "outputs": [
    {
     "data": {
      "text/plain": [
       "{'부산행': 2.9170024315472736, '설국열차': 2.8173486114621094}"
      ]
     },
     "execution_count": 12,
     "metadata": {},
     "output_type": "execute_result"
    }
   ],
   "source": [
    "recommend_dic"
   ]
  }
 ],
 "metadata": {
  "kernelspec": {
   "display_name": "gumi_env310",
   "language": "python",
   "name": "python3"
  },
  "language_info": {
   "codemirror_mode": {
    "name": "ipython",
    "version": 3
   },
   "file_extension": ".py",
   "mimetype": "text/x-python",
   "name": "python",
   "nbconvert_exporter": "python",
   "pygments_lexer": "ipython3",
   "version": "3.10.14"
  }
 },
 "nbformat": 4,
 "nbformat_minor": 2
}
