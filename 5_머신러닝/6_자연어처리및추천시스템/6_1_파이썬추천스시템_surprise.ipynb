{
 "cells": [
  {
   "cell_type": "code",
   "execution_count": 12,
   "metadata": {},
   "outputs": [
    {
     "name": "stdout",
     "output_type": "stream",
     "text": [
      "1.1.4\n"
     ]
    }
   ],
   "source": [
    "import surprise\n",
    "print(surprise.__version__)"
   ]
  },
  {
   "cell_type": "markdown",
   "metadata": {},
   "source": [
    "### 1. Surprise 를 이용한 추천시스템 구축\n",
    "- 컨텐츠 기반 필터링\n",
    "- 아이템 기반 협업 필터링\n",
    "- 잠재 요인 협업 필터링"
   ]
  },
  {
   "cell_type": "code",
   "execution_count": 13,
   "metadata": {},
   "outputs": [],
   "source": [
    "from surprise import SVD\n",
    "from surprise import Dataset\n",
    "from surprise import accuracy\n",
    "from surprise.model_selection import train_test_split"
   ]
  },
  {
   "cell_type": "code",
   "execution_count": 14,
   "metadata": {},
   "outputs": [],
   "source": [
    "# 1. 데이터불러오기\n",
    "data = Dataset.load_builtin(name='ml-100k')"
   ]
  },
  {
   "cell_type": "code",
   "execution_count": 15,
   "metadata": {},
   "outputs": [],
   "source": [
    "trainset, testset = train_test_split(data, test_size=0.25, random_state=11)"
   ]
  },
  {
   "cell_type": "code",
   "execution_count": 16,
   "metadata": {},
   "outputs": [
    {
     "data": {
      "text/plain": [
       "<surprise.prediction_algorithms.matrix_factorization.SVD at 0x2b67efcfd00>"
      ]
     },
     "execution_count": 16,
     "metadata": {},
     "output_type": "execute_result"
    }
   ],
   "source": [
    "## SVD 적용해보기\n",
    "algo = SVD(random_state=11)\n",
    "algo.fit(trainset)"
   ]
  },
  {
   "cell_type": "code",
   "execution_count": 17,
   "metadata": {},
   "outputs": [],
   "source": [
    "predictions = algo.test(testset)"
   ]
  },
  {
   "cell_type": "code",
   "execution_count": 18,
   "metadata": {},
   "outputs": [
    {
     "name": "stdout",
     "output_type": "stream",
     "text": [
      "최초 5개 이상 예상 결과 가져오기 [Prediction(uid='339', iid='550', r_ui=2.0, est=3.092687634878143, details={'was_impossible': False}), Prediction(uid='795', iid='419', r_ui=3.0, est=3.3086407514703615, details={'was_impossible': False}), Prediction(uid='14', iid='507', r_ui=4.0, est=4.21209649956976, details={'was_impossible': False}), Prediction(uid='276', iid='1157', r_ui=2.0, est=3.027511815120117, details={'was_impossible': False}), Prediction(uid='116', iid='259', r_ui=4.0, est=2.1942123269649687, details={'was_impossible': False})]\n"
     ]
    }
   ],
   "source": [
    "print('최초 5개 이상 예상 결과 가져오기',predictions[:5])"
   ]
  },
  {
   "cell_type": "code",
   "execution_count": 19,
   "metadata": {},
   "outputs": [
    {
     "name": "stdout",
     "output_type": "stream",
     "text": [
      "user: 339        item: 550        r_ui = 2.00   est = 3.09   {'was_impossible': False}\n",
      "user: 795        item: 419        r_ui = 3.00   est = 3.31   {'was_impossible': False}\n",
      "user: 14         item: 507        r_ui = 4.00   est = 4.21   {'was_impossible': False}\n",
      "user: 276        item: 1157       r_ui = 2.00   est = 3.03   {'was_impossible': False}\n",
      "user: 116        item: 259        r_ui = 4.00   est = 2.19   {'was_impossible': False}\n"
     ]
    }
   ],
   "source": [
    "for i in predictions[:5]:\n",
    "    print(i)"
   ]
  },
  {
   "cell_type": "code",
   "execution_count": 20,
   "metadata": {},
   "outputs": [
    {
     "name": "stdout",
     "output_type": "stream",
     "text": [
      "339 550 3.092687634878143\n",
      "795 419 3.3086407514703615\n",
      "14 507 4.21209649956976\n",
      "276 1157 3.027511815120117\n",
      "116 259 2.1942123269649687\n"
     ]
    }
   ],
   "source": [
    "for item in predictions[:5]:\n",
    "    print(item.uid, item.iid, item.est)"
   ]
  },
  {
   "cell_type": "code",
   "execution_count": 21,
   "metadata": {},
   "outputs": [
    {
     "name": "stdout",
     "output_type": "stream",
     "text": [
      "RMSE: 0.9453\n"
     ]
    },
    {
     "data": {
      "text/plain": [
       "0.9453218904734639"
      ]
     },
     "execution_count": 21,
     "metadata": {},
     "output_type": "execute_result"
    }
   ],
   "source": [
    "accuracy.rmse(predictions)"
   ]
  },
  {
   "cell_type": "markdown",
   "metadata": {},
   "source": [
    "### 2. 실제 데이터 프레임으로부터 가져와서 사용해보기"
   ]
  },
  {
   "cell_type": "code",
   "execution_count": 22,
   "metadata": {},
   "outputs": [],
   "source": [
    "import pandas as pd"
   ]
  },
  {
   "cell_type": "code",
   "execution_count": 23,
   "metadata": {},
   "outputs": [],
   "source": [
    "from surprise import Reader\n",
    "df = pd.read_csv(\"./ml-latest-small/ratings.csv\")"
   ]
  },
  {
   "cell_type": "code",
   "execution_count": 24,
   "metadata": {},
   "outputs": [],
   "source": [
    "reader = Reader(rating_scale=(0.5, 5.0))\n",
    "data = Dataset.load_from_df(df[['userId', 'movieId', 'rating']], reader=reader)"
   ]
  },
  {
   "cell_type": "code",
   "execution_count": 25,
   "metadata": {},
   "outputs": [],
   "source": [
    "trainset, testset = train_test_split(data, test_size=0.25, random_state=11)"
   ]
  },
  {
   "cell_type": "code",
   "execution_count": 26,
   "metadata": {},
   "outputs": [],
   "source": [
    "predictions = algo.test(testset)"
   ]
  },
  {
   "cell_type": "code",
   "execution_count": 27,
   "metadata": {},
   "outputs": [
    {
     "name": "stdout",
     "output_type": "stream",
     "text": [
      "RMSE: 1.0444\n"
     ]
    },
    {
     "data": {
      "text/plain": [
       "1.0443943935199096"
      ]
     },
     "execution_count": 27,
     "metadata": {},
     "output_type": "execute_result"
    }
   ],
   "source": [
    "accuracy.rmse(predictions)"
   ]
  },
  {
   "cell_type": "markdown",
   "metadata": {},
   "source": [
    "### 교차 검증과 그리드 서치를 이용해서 하이퍼 파라미터 튜닝"
   ]
  },
  {
   "cell_type": "code",
   "execution_count": 28,
   "metadata": {},
   "outputs": [
    {
     "name": "stdout",
     "output_type": "stream",
     "text": [
      "Evaluating RMSE, MAE of algorithm SVD on 5 split(s).\n",
      "\n",
      "                  Fold 1  Fold 2  Fold 3  Fold 4  Fold 5  Mean    Std     \n",
      "RMSE (testset)    0.8835  0.8629  0.8744  0.8816  0.8623  0.8729  0.0090  \n",
      "MAE (testset)     0.6782  0.6622  0.6716  0.6760  0.6637  0.6703  0.0064  \n",
      "Fit time          0.86    0.87    0.85    0.85    0.87    0.86    0.01    \n",
      "Test time         0.17    0.08    0.16    0.08    0.07    0.11    0.05    \n"
     ]
    },
    {
     "data": {
      "text/plain": [
       "{'test_rmse': array([0.88349608, 0.86293117, 0.87442363, 0.88156426, 0.8623126 ]),\n",
       " 'test_mae': array([0.67816361, 0.6621662 , 0.67156923, 0.67602243, 0.66372676]),\n",
       " 'fit_time': (0.864084005355835,\n",
       "  0.8698835372924805,\n",
       "  0.8464171886444092,\n",
       "  0.849297046661377,\n",
       "  0.8720278739929199),\n",
       " 'test_time': (0.17399382591247559,\n",
       "  0.07543325424194336,\n",
       "  0.1574704647064209,\n",
       "  0.07573080062866211,\n",
       "  0.06756329536437988)}"
      ]
     },
     "execution_count": 28,
     "metadata": {},
     "output_type": "execute_result"
    }
   ],
   "source": [
    "# 1. 교차검증\n",
    "from surprise.model_selection import cross_validate\n",
    "\n",
    "algo = SVD(random_state=11)\n",
    "cross_validate(algo, data, measures=[\"RMSE\", \"MAE\"], cv=5, verbose=True)"
   ]
  },
  {
   "cell_type": "code",
   "execution_count": 29,
   "metadata": {},
   "outputs": [],
   "source": [
    "## 2. 그리드 서치\n",
    "from surprise.model_selection import GridSearchCV\n",
    "\n",
    "# 최적화할 파라미터를 설정 - 딕셔너리 저장\n",
    "param_grid = {\"n_epochs\": [20, 40, 60],\n",
    "              \"n_factors\":[50, 100, 200]}\n",
    "\n",
    "# 그리드 서치 실행\n",
    "gs = GridSearchCV(SVD, param_grid, measures=['r\n",
    "mse', 'mae'], cv=3)\n",
    "gs.fit(data)"
   ]
  },
  {
   "cell_type": "code",
   "execution_count": 30,
   "metadata": {},
   "outputs": [
    {
     "name": "stdout",
     "output_type": "stream",
     "text": [
      "가장 좋은 RMSE 0.878092191354833\n",
      "가장 좋은 파라미터는 {'n_epochs': 20, 'n_factors': 50}\n"
     ]
    }
   ],
   "source": [
    "print(\"가장 좋은 RMSE\", gs.best_score['rmse'])\n",
    "print(\"가장 좋은 파라미터는\", gs.best_params['rmse'])"
   ]
  }
 ],
 "metadata": {
  "kernelspec": {
   "display_name": "gumi_env310",
   "language": "python",
   "name": "python3"
  },
  "language_info": {
   "codemirror_mode": {
    "name": "ipython",
    "version": 3
   },
   "file_extension": ".py",
   "mimetype": "text/x-python",
   "name": "python",
   "nbconvert_exporter": "python",
   "pygments_lexer": "ipython3",
   "version": "3.10.14"
  }
 },
 "nbformat": 4,
 "nbformat_minor": 2
}
