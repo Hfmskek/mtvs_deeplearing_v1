{
 "cells": [
  {
   "cell_type": "markdown",
   "metadata": {},
   "source": [
    "### 1. 경사 하강법을 이용해서 행렬 분해"
   ]
  },
  {
   "cell_type": "code",
   "execution_count": 1,
   "metadata": {},
   "outputs": [],
   "source": [
    "import numpy as np"
   ]
  },
  {
   "cell_type": "code",
   "execution_count": 2,
   "metadata": {},
   "outputs": [
    {
     "data": {
      "text/plain": [
       "(4, 5)"
      ]
     },
     "execution_count": 2,
     "metadata": {},
     "output_type": "execute_result"
    }
   ],
   "source": [
    "R = np.array([[4, np.NaN, np.NaN, 2, np.NaN],\n",
    "              [np.NaN, 5, np.NaN, 3, 1],\n",
    "              [np.NaN, np.NaN, 3, 4, 4],\n",
    "              [5, 2, 1, 2, np.NaN]\n",
    "])\n",
    "R.shape"
   ]
  },
  {
   "cell_type": "code",
   "execution_count": 3,
   "metadata": {},
   "outputs": [],
   "source": [
    "num_users, num_items = R.shape\n",
    "k = 3"
   ]
  },
  {
   "cell_type": "code",
   "execution_count": 4,
   "metadata": {},
   "outputs": [],
   "source": [
    "## P, Q 의 매트릭스 크기를 지정하고 만들어보기\n",
    "np.random.seed(11)\n",
    "\n",
    "P = np.random.normal(scale=1./k, size=(num_users, k))\n",
    "Q = np.random.normal(scale=1./k, size=(num_items, k))"
   ]
  },
  {
   "cell_type": "code",
   "execution_count": 5,
   "metadata": {},
   "outputs": [
    {
     "data": {
      "text/plain": [
       "((4, 3), (5, 3))"
      ]
     },
     "execution_count": 5,
     "metadata": {},
     "output_type": "execute_result"
    }
   ],
   "source": [
    "P.shape, Q.shape"
   ]
  },
  {
   "cell_type": "code",
   "execution_count": 6,
   "metadata": {},
   "outputs": [],
   "source": [
    "from sklearn.metrics import mean_squared_error"
   ]
  },
  {
   "cell_type": "code",
   "execution_count": 7,
   "metadata": {},
   "outputs": [],
   "source": [
    "def get_rmse(R, P, Q, non_zeros):\n",
    "    error = 0\n",
    "\n",
    "    # 예측 R을 생성\n",
    "    full_pred_matrix = np.dot(P, Q.T) # 4x5행렬\n",
    "\n",
    "    # 오차구하기 - 예측 R과 실제 R의 RMSE 계산해보기 - 실제에서 0인 데이터는 제외\n",
    "    x_non_zero_ind = [non_zero[0] for non_zero in non_zeros]\n",
    "    y_non_zero_ind = [non_zero[1] for non_zero in non_zeros]\n",
    "    R_non_zeros = R[x_non_zero_ind, y_non_zero_ind]\n",
    "\n",
    "    full_pred_matrix_non_zeros = full_pred_matrix[x_non_zero_ind, y_non_zero_ind]\n",
    "\n",
    "    mse = mean_squared_error(R_non_zeros, full_pred_matrix_non_zeros)\n",
    "    rmse = np.sqrt(mse)\n",
    "\n",
    "    return rmse"
   ]
  },
  {
   "cell_type": "code",
   "execution_count": 8,
   "metadata": {},
   "outputs": [
    {
     "name": "stdout",
     "output_type": "stream",
     "text": [
      "### iteration step :  0  rmse :  3.2296439041815526\n",
      "### iteration step :  50  rmse :  1.1167037955327597\n",
      "### iteration step :  100  rmse :  0.11912292863572094\n",
      "### iteration step :  150  rmse :  0.04138989896525064\n",
      "### iteration step :  200  rmse :  0.022844307909711682\n",
      "### iteration step :  250  rmse :  0.017330041906230807\n",
      "### iteration step :  300  rmse :  0.015709890520182127\n",
      "### iteration step :  350  rmse :  0.015191799101326026\n",
      "### iteration step :  400  rmse :  0.01500076453534186\n",
      "### iteration step :  450  rmse :  0.014919702708284549\n",
      "### iteration step :  500  rmse :  0.014879578313867103\n",
      "### iteration step :  550  rmse :  0.014855560491447746\n",
      "### iteration step :  600  rmse :  0.014838008002827315\n",
      "### iteration step :  650  rmse :  0.014823031492216865\n",
      "### iteration step :  700  rmse :  0.014809037858809965\n",
      "### iteration step :  750  rmse :  0.014795374897778301\n",
      "### iteration step :  800  rmse :  0.014781780730006088\n",
      "### iteration step :  850  rmse :  0.014768156191675869\n",
      "### iteration step :  900  rmse :  0.014754469859862396\n",
      "### iteration step :  950  rmse :  0.014740718212099924\n"
     ]
    }
   ],
   "source": [
    "# R > 0 인 행 위치, 열 위치, 값을 non_zeros 리스트에 저장. \n",
    "non_zeros = [ (i, j, R[i,j]) for i in range(num_users) for j in range(num_items) if R[i,j] > 0 ]\n",
    "\n",
    "steps=1000\n",
    "learning_rate=0.01\n",
    "r_lambda=0.01\n",
    "\n",
    "# SGD 기법으로 P와 Q 매트릭스를 계속 업데이트. \n",
    "for step in range(steps):\n",
    "    for i, j, r in non_zeros:\n",
    "        # 실제 값과 예측 값의 차이인 오류 값 구함\n",
    "        eij = r - np.dot(P[i, :], Q[j, :].T)\n",
    "        # Regularization을 반영한 SGD 업데이트 공식 적용\n",
    "        P[i,:] = P[i,:] + learning_rate*(eij * Q[j, :] - r_lambda*P[i,:])\n",
    "        Q[j,:] = Q[j,:] + learning_rate*(eij * P[i, :] - r_lambda*Q[j,:])\n",
    "\n",
    "    rmse = get_rmse(R, P, Q, non_zeros)\n",
    "    if (step % 50) == 0 :\n",
    "        print(\"### iteration step : \", step,\" rmse : \", rmse)\n"
   ]
  },
  {
   "cell_type": "code",
   "execution_count": 9,
   "metadata": {},
   "outputs": [
    {
     "name": "stdout",
     "output_type": "stream",
     "text": [
      "최종 예측 평점 행렬 [[ 3.99  1.23  0.64  1.99 -0.94]\n",
      " [ 1.11  4.97  2.6   3.    1.01]\n",
      " [-3.09  5.47  2.99  3.98  3.98]\n",
      " [ 4.98  2.    0.99  1.99 -1.56]]\n"
     ]
    }
   ],
   "source": [
    "pred_matrix = np.dot(P, Q.T)\n",
    "print(\"최종 예측 평점 행렬\", np.round(pred_matrix, 2))"
   ]
  }
 ],
 "metadata": {
  "kernelspec": {
   "display_name": "gumi_env310",
   "language": "python",
   "name": "python3"
  },
  "language_info": {
   "codemirror_mode": {
    "name": "ipython",
    "version": 3
   },
   "file_extension": ".py",
   "mimetype": "text/x-python",
   "name": "python",
   "nbconvert_exporter": "python",
   "pygments_lexer": "ipython3",
   "version": "3.10.14"
  }
 },
 "nbformat": 4,
 "nbformat_minor": 2
}
