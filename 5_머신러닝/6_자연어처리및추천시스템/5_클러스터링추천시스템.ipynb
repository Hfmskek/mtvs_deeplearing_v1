{
 "cells": [
  {
   "cell_type": "code",
   "execution_count": 1,
   "metadata": {},
   "outputs": [
    {
     "name": "stdout",
     "output_type": "stream",
     "text": [
      "사용자 A에게 추천하는 아이템:\n",
      "도둑들\n",
      "범죄도시\n",
      "태극기 휘날리며\n"
     ]
    }
   ],
   "source": [
    "import pandas as pd\n",
    "from sklearn.feature_extraction.text import TfidfVectorizer\n",
    "from sklearn.cluster import KMeans\n",
    "from sklearn.metrics.pairwise import cosine_similarity\n",
    "\n",
    "# 예시 데이터 (아이템의 콘텐츠 정보: 제목과 설명)\n",
    "items = {\n",
    "    '아이템': ['기생충', '부산행', '태극기 휘날리며', '도둑들', '설국열차', '범죄도시'],\n",
    "    '설명': [\n",
    "        '가난한 가족이 부잣집에 얽히며 벌어지는 이야기',\n",
    "        '좀비 바이러스가 퍼진 세상에서 살아남기 위한 이야기',\n",
    "        '한국 전쟁을 배경으로 형제의 이야기를 그린 영화',\n",
    "        '도둑들이 모여 큰 한탕을 노리는 이야기',\n",
    "        '미래의 기차 안에서 벌어지는 계급 투쟁 이야기',\n",
    "        '형사가 조직 범죄와 싸우는 액션 영화'\n",
    "    ]\n",
    "}\n",
    "\n",
    "ratings = {\n",
    "    '사용자': ['사용자 A', '사용자 A', '사용자 A', '사용자 B', '사용자 B', '사용자 C'],\n",
    "    '아이템': ['기생충', '부산행', '설국열차', '태극기 휘날리며', '도둑들', '범죄도시'],\n",
    "    '평점': [5, 4, 3, 5, 3, 4]\n",
    "}\n",
    "\n",
    "# 데이터프레임으로 변환\n",
    "df_items = pd.DataFrame(items)\n",
    "df_ratings = pd.DataFrame(ratings)\n",
    "\n",
    "# TF-IDF 벡터라이저를 사용하여 설명을 벡터화\n",
    "tfidf = TfidfVectorizer()\n",
    "tfidf_matrix = tfidf.fit_transform(df_items['설명'])\n",
    "\n",
    "# 사용자-아이템 평점 매트릭스 생성\n",
    "user_item_matrix = df_ratings.pivot(index='사용자', columns='아이템', values='평점').fillna(0)\n",
    "\n",
    "# K-means 클러스터링을 사용하여 사용자 클러스터링\n",
    "num_clusters = 2\n",
    "kmeans = KMeans(n_clusters=num_clusters, random_state=0)\n",
    "user_clusters = kmeans.fit_predict(user_item_matrix)\n",
    "\n",
    "# 클러스터링 결과를 데이터프레임에 추가\n",
    "user_item_matrix['클러스터'] = user_clusters\n",
    "\n",
    "# 특정 클러스터의 다른 사용자들이 높게 평가한 아이템 추천\n",
    "def cluster_based_recommendations(user_id, num_recommendations):\n",
    "    user_cluster = user_item_matrix.loc[user_id, '클러스터']\n",
    "    similar_users = user_item_matrix[user_item_matrix['클러스터'] == user_cluster].drop(user_id)\n",
    "    \n",
    "    # 모든 사용자의 아이템 평점 평균 계산\n",
    "    avg_ratings = similar_users.mean(axis=0).drop('클러스터')\n",
    "    \n",
    "    # 이미 평가한 아이템 제외\n",
    "    user_rated_items = user_item_matrix.loc[user_id].drop('클러스터')\n",
    "    user_rated_items = user_rated_items[user_rated_items > 0].index\n",
    "    avg_ratings = avg_ratings.drop(user_rated_items)\n",
    "    \n",
    "    # 상위 num_recommendations개의 아이템 추천\n",
    "    recommendations = avg_ratings.nlargest(num_recommendations).index.tolist()\n",
    "    \n",
    "    return recommendations\n",
    "\n",
    "# 사용자 A에 대한 추천 계산 (예: '사용자 A'에게 유사한 아이템 3개 추천)\n",
    "recommended_items = cluster_based_recommendations('사용자 A', 3)\n",
    "\n",
    "print(f\"사용자 A에게 추천하는 아이템:\")\n",
    "for item in recommended_items:\n",
    "    print(item)\n"
   ]
  }
 ],
 "metadata": {
  "kernelspec": {
   "display_name": "gumi_env310",
   "language": "python",
   "name": "python3"
  },
  "language_info": {
   "codemirror_mode": {
    "name": "ipython",
    "version": 3
   },
   "file_extension": ".py",
   "mimetype": "text/x-python",
   "name": "python",
   "nbconvert_exporter": "python",
   "pygments_lexer": "ipython3",
   "version": "3.10.14"
  }
 },
 "nbformat": 4,
 "nbformat_minor": 2
}
